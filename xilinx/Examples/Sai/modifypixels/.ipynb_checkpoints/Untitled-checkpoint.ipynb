{
 "cells": [
  {
   "cell_type": "code",
   "execution_count": 1,
   "id": "4f3a23b6",
   "metadata": {},
   "outputs": [
    {
     "name": "stdout",
     "output_type": "stream",
     "text": [
      "Server listening for incoming connections...\n",
      "Connected by ('10.21.236.238', 48104)\n",
      "Expecting 983146 bytes of image data.\n",
      "Received image data, modifying it...\n",
      "Sent modified image back to client.\n"
     ]
    },
    {
     "name": "stderr",
     "output_type": "stream",
     "text": [
      "\n",
      "KeyboardInterrupt\n",
      "\n"
     ]
    }
   ],
   "source": [
    "import socket\n",
    "from PIL import Image\n",
    "import io\n",
    "import struct\n",
    "\n",
    "# Function to dim the image\n",
    "def dim_image(image_data, dim_factor=0.5):\n",
    "    image = Image.open(io.BytesIO(image_data))\n",
    "    image = image.convert('RGB')\n",
    "    \n",
    "    width, height = image.size\n",
    "    dimmed_image = Image.new('RGB', (width, height))\n",
    "    \n",
    "    for x in range(width):\n",
    "        for y in range(height):\n",
    "            r, g, b = image.getpixel((x, y))\n",
    "            r = int(r * dim_factor)\n",
    "            g = int(g * dim_factor)\n",
    "            b = int(b * dim_factor)\n",
    "            dimmed_image.putpixel((x, y), (r, g, b))\n",
    "    \n",
    "    # Convert dimmed image to byte data\n",
    "    byte_arr = io.BytesIO()\n",
    "    dimmed_image.save(byte_arr, format='JPEG')\n",
    "    return byte_arr.getvalue()\n",
    "\n",
    "# Set up the server\n",
    "server_socket = socket.socket(socket.AF_INET, socket.SOCK_STREAM)\n",
    "server_socket.bind(('0.0.0.0', 12345))  # Bind to all interfaces and port 12345\n",
    "server_socket.listen(1)  # Allow 1 connection\n",
    "\n",
    "print('Server listening for incoming connections...')\n",
    "\n",
    "client_socket, addr = server_socket.accept()\n",
    "print(f'Connected by {addr}')\n",
    "\n",
    "    # Receive image data size first\n",
    "data_size = struct.unpack('!I', client_socket.recv(4))[0]  # Read 4 bytes for size\n",
    "print(f'Expecting {data_size} bytes of image data.')\n",
    "\n",
    "# Receive image data\n",
    "data = b''\n",
    "while len(data) < data_size:\n",
    "    packet = client_socket.recv(4096)\n",
    "    if not packet:\n",
    "        break\n",
    "    data += packet\n",
    "\n",
    "print('Received image data, modifying it...')\n",
    "\n",
    "# Modify the image (dim it)\n",
    "modified_image_data = dim_image(data)\n",
    "\n",
    "# Send the size of the modified image data first\n",
    "client_socket.sendall(struct.pack('!I', len(modified_image_data)))\n",
    "\n",
    "# Send the modified image data\n",
    "client_socket.sendall(modified_image_data)\n",
    "print('Sent modified image back to client.')\n",
    "\n",
    "\n",
    "client_socket.close()  # Ensure the connection is closed\n"
   ]
  }
 ],
 "metadata": {
  "kernelspec": {
   "display_name": "Python 3 (ipykernel)",
   "language": "python",
   "name": "python3"
  },
  "language_info": {
   "codemirror_mode": {
    "name": "ipython",
    "version": 3
   },
   "file_extension": ".py",
   "mimetype": "text/x-python",
   "name": "python",
   "nbconvert_exporter": "python",
   "pygments_lexer": "ipython3",
   "version": "3.10.4"
  }
 },
 "nbformat": 4,
 "nbformat_minor": 5
}
