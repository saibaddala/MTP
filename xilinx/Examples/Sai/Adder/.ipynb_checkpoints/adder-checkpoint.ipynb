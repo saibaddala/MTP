{
 "cells": [
  {
   "cell_type": "code",
   "execution_count": 1,
   "id": "1a3e4a51",
   "metadata": {},
   "outputs": [
    {
     "data": {
      "application/javascript": [
       "\n",
       "try {\n",
       "require(['notebook/js/codecell'], function(codecell) {\n",
       "  codecell.CodeCell.options_default.highlight_modes[\n",
       "      'magic_text/x-csrc'] = {'reg':[/^%%microblaze/]};\n",
       "  Jupyter.notebook.events.one('kernel_ready.Kernel', function(){\n",
       "      Jupyter.notebook.get_cells().map(function(cell){\n",
       "          if (cell.cell_type == 'code'){ cell.auto_highlight(); } }) ;\n",
       "  });\n",
       "});\n",
       "} catch (e) {};\n"
      ]
     },
     "metadata": {},
     "output_type": "display_data"
    },
    {
     "data": {
      "application/javascript": [
       "\n",
       "try {\n",
       "require(['notebook/js/codecell'], function(codecell) {\n",
       "  codecell.CodeCell.options_default.highlight_modes[\n",
       "      'magic_text/x-csrc'] = {'reg':[/^%%pybind11/]};\n",
       "  Jupyter.notebook.events.one('kernel_ready.Kernel', function(){\n",
       "      Jupyter.notebook.get_cells().map(function(cell){\n",
       "          if (cell.cell_type == 'code'){ cell.auto_highlight(); } }) ;\n",
       "  });\n",
       "});\n",
       "} catch (e) {};\n"
      ]
     },
     "metadata": {},
     "output_type": "display_data"
    }
   ],
   "source": [
    "from pynq import Overlay , MMIO\n",
    "\n",
    "overlay = Overlay('/home/xilinx/jupyter_notebooks/Examples/Parthu/Adder/addSub.bit')"
   ]
  },
  {
   "cell_type": "code",
   "execution_count": 2,
   "id": "272cec17",
   "metadata": {},
   "outputs": [],
   "source": [
    "gpio_0_baseaddr = 0x41200000\n",
    "gpio_1_baseaddr = 0x41210000"
   ]
  },
  {
   "cell_type": "code",
   "execution_count": 3,
   "id": "efa99fc2",
   "metadata": {},
   "outputs": [],
   "source": [
    "gpio_0 = MMIO(gpio_0_baseaddr,0x10000)\n",
    "gpio_1 = MMIO(gpio_1_baseaddr,0x10000)"
   ]
  },
  {
   "cell_type": "code",
   "execution_count": 53,
   "id": "0b260865",
   "metadata": {},
   "outputs": [],
   "source": [
    "gpio_0.write(0x00,0x00000005)\n",
    "gpio_0.write(0x08,0x00000003)"
   ]
  },
  {
   "cell_type": "code",
   "execution_count": 54,
   "id": "abc30fed",
   "metadata": {},
   "outputs": [
    {
     "name": "stdout",
     "output_type": "stream",
     "text": [
      "result : 0x0\n"
     ]
    }
   ],
   "source": [
    "result  = gpio_1.read(0x00)\n",
    "print(f\"result : {hex(result)}\")"
   ]
  },
  {
   "cell_type": "code",
   "execution_count": null,
   "id": "3084f72a",
   "metadata": {},
   "outputs": [],
   "source": []
  }
 ],
 "metadata": {
  "kernelspec": {
   "display_name": "Python 3 (ipykernel)",
   "language": "python",
   "name": "python3"
  },
  "language_info": {
   "codemirror_mode": {
    "name": "ipython",
    "version": 3
   },
   "file_extension": ".py",
   "mimetype": "text/x-python",
   "name": "python",
   "nbconvert_exporter": "python",
   "pygments_lexer": "ipython3",
   "version": "3.10.4"
  }
 },
 "nbformat": 4,
 "nbformat_minor": 5
}
