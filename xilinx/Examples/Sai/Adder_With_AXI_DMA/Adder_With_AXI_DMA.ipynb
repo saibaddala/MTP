{
 "cells": [
  {
   "cell_type": "code",
   "execution_count": 2,
   "id": "a277ddab",
   "metadata": {},
   "outputs": [
    {
     "name": "stdout",
     "output_type": "stream",
     "text": [
      "Sent integers: [10 50]\n",
      "Received sum: 60\n"
     ]
    }
   ],
   "source": [
    "from pynq import Overlay, allocate\n",
    "\n",
    "# Load the bitstream\n",
    "overlay = Overlay(\"adder.bit\")\n",
    "dma = overlay.axi_dma_0  # AXI DMA instance from the block design\n",
    "\n",
    "# Allocate memory buffers\n",
    "input_buffer = allocate(shape=(2,), dtype='int32')  # Buffer for input integers\n",
    "output_buffer = allocate(shape=(1,), dtype='int32')  # Buffer for the sum result\n",
    "\n",
    "# Assign two integers to the input buffer\n",
    "input_buffer[0] = 10\n",
    "input_buffer[1] = 50\n",
    "\n",
    "# Send the data using DMA (to your custom IP)\n",
    "dma.sendchannel.transfer(input_buffer)\n",
    "dma.recvchannel.transfer(output_buffer)\n",
    "\n",
    "# Wait for the transfer to complete\n",
    "dma.sendchannel.wait()\n",
    "dma.recvchannel.wait()\n",
    "\n",
    "# Check the output\n",
    "print(f\"Sent integers: {input_buffer[:]}\")\n",
    "print(f\"Received sum: {output_buffer[0]}\")\n"
   ]
  }
 ],
 "metadata": {
  "kernelspec": {
   "display_name": "Python 3 (ipykernel)",
   "language": "python",
   "name": "python3"
  },
  "language_info": {
   "codemirror_mode": {
    "name": "ipython",
    "version": 3
   },
   "file_extension": ".py",
   "mimetype": "text/x-python",
   "name": "python",
   "nbconvert_exporter": "python",
   "pygments_lexer": "ipython3",
   "version": "3.10.4"
  }
 },
 "nbformat": 4,
 "nbformat_minor": 5
}
