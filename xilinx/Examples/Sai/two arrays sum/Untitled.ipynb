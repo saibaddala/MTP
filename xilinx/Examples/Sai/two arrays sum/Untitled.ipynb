{
 "cells": [
  {
   "cell_type": "code",
   "execution_count": 10,
   "id": "e04b3b94",
   "metadata": {},
   "outputs": [
    {
     "ename": "AttributeError",
     "evalue": "'NoneType' object has no attribute 'transfer'",
     "output_type": "error",
     "traceback": [
      "\u001b[0;31m---------------------------------------------------------------------------\u001b[0m",
      "\u001b[0;31mAttributeError\u001b[0m                            Traceback (most recent call last)",
      "Input \u001b[0;32mIn [10]\u001b[0m, in \u001b[0;36m<cell line: 30>\u001b[0;34m()\u001b[0m\n\u001b[1;32m     25\u001b[0m dma_send\u001b[38;5;241m.\u001b[39msendchannel\u001b[38;5;241m.\u001b[39mtransfer(input_buffer)\n\u001b[1;32m     26\u001b[0m \u001b[38;5;66;03m# print(overlay.axi_dma_0)  # Sending DMA\u001b[39;00m\n\u001b[1;32m     27\u001b[0m \u001b[38;5;66;03m# print(overlay.axi_dma_1)  # Receiving DMA\u001b[39;00m\n\u001b[1;32m     28\u001b[0m \n\u001b[1;32m     29\u001b[0m \u001b[38;5;66;03m# Start receiving the result array\u001b[39;00m\n\u001b[0;32m---> 30\u001b[0m \u001b[43mdma_recv\u001b[49m\u001b[38;5;241;43m.\u001b[39;49m\u001b[43mrecvchannel\u001b[49m\u001b[38;5;241;43m.\u001b[39;49m\u001b[43mtransfer\u001b[49m(output_buffer)\n\u001b[1;32m     32\u001b[0m \u001b[38;5;66;03m# Wait for the transfers to complete\u001b[39;00m\n\u001b[1;32m     33\u001b[0m dma_send\u001b[38;5;241m.\u001b[39msendchannel\u001b[38;5;241m.\u001b[39mwait()\n",
      "\u001b[0;31mAttributeError\u001b[0m: 'NoneType' object has no attribute 'transfer'"
     ]
    }
   ],
   "source": [
    "from pynq import Overlay, allocate\n",
    "import numpy as np\n",
    "\n",
    "# Load the bitstream\n",
    "overlay = Overlay(\"add.bit\")\n",
    "\n",
    "# Define DMA objects\n",
    "dma_send = overlay.axi_dma_0  # For sending both arrays\n",
    "dma_recv = overlay.axi_dma_1  # For receiving the result array\n",
    "\n",
    "# Array size\n",
    "ARRAY_SIZE = 8\n",
    "\n",
    "# Create input buffer (holds both input arrays)\n",
    "input_buffer = allocate(shape=(ARRAY_SIZE*2,), dtype=np.uint32)\n",
    "\n",
    "# Create output buffer (holds the result array)\n",
    "output_buffer = allocate(shape=(ARRAY_SIZE,), dtype=np.uint32)\n",
    "\n",
    "# Populate input buffer with both arrays (concatenated)\n",
    "input_buffer[:ARRAY_SIZE] = np.array([10, 20, 30, 40, 50, 60, 70, 80], dtype=np.uint32)  # First array\n",
    "input_buffer[ARRAY_SIZE:] = np.array([1, 2, 3, 4, 5, 6, 7, 8], dtype=np.uint32)  # Second array\n",
    "\n",
    "# Send the data to the IP (both arrays)\n",
    "dma_send.sendchannel.transfer(input_buffer)\n",
    "# print(overlay.axi_dma_0)  # Sending DMA\n",
    "# print(overlay.axi_dma_1)  # Receiving DMA\n",
    "\n",
    "# Start receiving the result array\n",
    "dma_recv.recvchannel.transfer(output_buffer)\n",
    "\n",
    "# Wait for the transfers to complete\n",
    "dma_send.sendchannel.wait()\n",
    "dma_recv.recvchannel.wait()\n",
    "\n",
    "# Check the result\n",
    "print(\"Input array 1:\", input_buffer[:ARRAY_SIZE])\n",
    "print(\"Input array 2:\", input_buffer[ARRAY_SIZE:])\n",
    "print(\"Result array (sum):\", output_buffer)\n"
   ]
  }
 ],
 "metadata": {
  "kernelspec": {
   "display_name": "Python 3 (ipykernel)",
   "language": "python",
   "name": "python3"
  },
  "language_info": {
   "codemirror_mode": {
    "name": "ipython",
    "version": 3
   },
   "file_extension": ".py",
   "mimetype": "text/x-python",
   "name": "python",
   "nbconvert_exporter": "python",
   "pygments_lexer": "ipython3",
   "version": "3.10.4"
  }
 },
 "nbformat": 4,
 "nbformat_minor": 5
}
