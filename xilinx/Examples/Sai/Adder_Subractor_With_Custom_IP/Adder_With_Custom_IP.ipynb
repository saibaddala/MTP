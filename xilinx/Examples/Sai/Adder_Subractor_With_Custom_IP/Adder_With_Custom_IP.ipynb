{
 "cells": [
  {
   "cell_type": "code",
   "execution_count": 1,
   "id": "45baabef",
   "metadata": {},
   "outputs": [
    {
     "ename": "OSError",
     "evalue": "Bitstream file add.bit does not exist.",
     "output_type": "error",
     "traceback": [
      "\u001b[0;31m---------------------------------------------------------------------------\u001b[0m",
      "\u001b[0;31mOSError\u001b[0m                                   Traceback (most recent call last)",
      "Input \u001b[0;32mIn [1]\u001b[0m, in \u001b[0;36m<cell line: 3>\u001b[0;34m()\u001b[0m\n\u001b[1;32m      1\u001b[0m \u001b[38;5;28;01mfrom\u001b[39;00m \u001b[38;5;21;01mpynq\u001b[39;00m \u001b[38;5;28;01mimport\u001b[39;00m Overlay , MMIO\n\u001b[0;32m----> 3\u001b[0m overlay \u001b[38;5;241m=\u001b[39m \u001b[43mOverlay\u001b[49m\u001b[43m(\u001b[49m\u001b[38;5;124;43m'\u001b[39;49m\u001b[38;5;124;43madd.bit\u001b[39;49m\u001b[38;5;124;43m'\u001b[39;49m\u001b[43m)\u001b[49m\n",
      "File \u001b[0;32m/usr/local/share/pynq-venv/lib/python3.10/site-packages/pynq/overlay.py:315\u001b[0m, in \u001b[0;36mOverlay.__init__\u001b[0;34m(self, bitfile_name, dtbo, download, ignore_version, device, gen_cache)\u001b[0m\n\u001b[1;32m    286\u001b[0m \u001b[38;5;28;01mdef\u001b[39;00m \u001b[38;5;21m__init__\u001b[39m(\n\u001b[1;32m    287\u001b[0m     \u001b[38;5;28mself\u001b[39m, bitfile_name, dtbo\u001b[38;5;241m=\u001b[39m\u001b[38;5;28;01mNone\u001b[39;00m, download\u001b[38;5;241m=\u001b[39m\u001b[38;5;28;01mTrue\u001b[39;00m, ignore_version\u001b[38;5;241m=\u001b[39m\u001b[38;5;28;01mFalse\u001b[39;00m, device\u001b[38;5;241m=\u001b[39m\u001b[38;5;28;01mNone\u001b[39;00m, gen_cache\u001b[38;5;241m=\u001b[39m\u001b[38;5;28;01mFalse\u001b[39;00m\n\u001b[1;32m    288\u001b[0m ):\n\u001b[1;32m    289\u001b[0m     \u001b[38;5;124;03m\"\"\"Return a new Overlay object.\u001b[39;00m\n\u001b[1;32m    290\u001b[0m \n\u001b[1;32m    291\u001b[0m \u001b[38;5;124;03m    An overlay instantiates a bitstream object as a member initially.\u001b[39;00m\n\u001b[0;32m   (...)\u001b[0m\n\u001b[1;32m    313\u001b[0m \n\u001b[1;32m    314\u001b[0m \u001b[38;5;124;03m    \"\"\"\u001b[39;00m\n\u001b[0;32m--> 315\u001b[0m     \u001b[38;5;28;43msuper\u001b[39;49m\u001b[43m(\u001b[49m\u001b[43m)\u001b[49m\u001b[38;5;241;43m.\u001b[39;49m\u001b[38;5;21;43m__init__\u001b[39;49m\u001b[43m(\u001b[49m\u001b[43mbitfile_name\u001b[49m\u001b[43m,\u001b[49m\u001b[43m \u001b[49m\u001b[43mdtbo\u001b[49m\u001b[43m,\u001b[49m\u001b[43m \u001b[49m\u001b[43mpartial\u001b[49m\u001b[38;5;241;43m=\u001b[39;49m\u001b[38;5;28;43;01mFalse\u001b[39;49;00m\u001b[43m,\u001b[49m\u001b[43m \u001b[49m\u001b[43mdevice\u001b[49m\u001b[38;5;241;43m=\u001b[39;49m\u001b[43mdevice\u001b[49m\u001b[43m)\u001b[49m\n\u001b[1;32m    317\u001b[0m     \u001b[38;5;28mself\u001b[39m\u001b[38;5;241m.\u001b[39m_register_drivers()\n\u001b[1;32m    319\u001b[0m     \u001b[38;5;28mself\u001b[39m\u001b[38;5;241m.\u001b[39mdevice\u001b[38;5;241m.\u001b[39mset_bitfile_name(\u001b[38;5;28mself\u001b[39m\u001b[38;5;241m.\u001b[39mbitfile_name)\n",
      "File \u001b[0;32m/usr/local/share/pynq-venv/lib/python3.10/site-packages/pynq/bitstream.py:118\u001b[0m, in \u001b[0;36mBitstream.__init__\u001b[0;34m(self, bitfile_name, dtbo, partial, device)\u001b[0m\n\u001b[1;32m    116\u001b[0m     \u001b[38;5;28mself\u001b[39m\u001b[38;5;241m.\u001b[39mbitfile_name \u001b[38;5;241m=\u001b[39m bitfile_overlay_abs_lst[\u001b[38;5;241m0\u001b[39m]\n\u001b[1;32m    117\u001b[0m \u001b[38;5;28;01melse\u001b[39;00m:\n\u001b[0;32m--> 118\u001b[0m     \u001b[38;5;28;01mraise\u001b[39;00m \u001b[38;5;167;01mIOError\u001b[39;00m(\u001b[38;5;124m\"\u001b[39m\u001b[38;5;124mBitstream file \u001b[39m\u001b[38;5;132;01m{}\u001b[39;00m\u001b[38;5;124m does not exist.\u001b[39m\u001b[38;5;124m\"\u001b[39m\u001b[38;5;241m.\u001b[39mformat(bitfile_name))\n\u001b[1;32m    120\u001b[0m \u001b[38;5;28;01mif\u001b[39;00m bitfile_abs \u001b[38;5;129;01mand\u001b[39;00m bitfile_overlay_abs_lst \u001b[38;5;129;01mor\u001b[39;00m \u001b[38;5;28mlen\u001b[39m(bitfile_overlay_abs_lst) \u001b[38;5;241m>\u001b[39m \u001b[38;5;241m1\u001b[39m:\n\u001b[1;32m    121\u001b[0m     msg \u001b[38;5;241m=\u001b[39m (\n\u001b[1;32m    122\u001b[0m         \u001b[38;5;124m\"\u001b[39m\u001b[38;5;124mThe provided name \u001b[39m\u001b[38;5;124m'\u001b[39m\u001b[38;5;132;01m{}\u001b[39;00m\u001b[38;5;124m'\u001b[39m\u001b[38;5;124m resulted in multiple possible \u001b[39m\u001b[38;5;124m\"\u001b[39m\n\u001b[1;32m    123\u001b[0m         \u001b[38;5;124m\"\u001b[39m\u001b[38;5;124mmatches:\u001b[39m\u001b[38;5;130;01m\\n\u001b[39;00m\u001b[38;5;124m - \u001b[39m\u001b[38;5;124m\"\u001b[39m\u001b[38;5;241m.\u001b[39mformat(bitfile_name)\n\u001b[1;32m    124\u001b[0m     )\n",
      "\u001b[0;31mOSError\u001b[0m: Bitstream file add.bit does not exist."
     ]
    }
   ],
   "source": [
    "from pynq import Overlay , MMIO\n",
    "overlay = Overlay('add.bit')"
   ]
  },
  {
   "cell_type": "code",
   "execution_count": null,
   "id": "65191cbf",
   "metadata": {},
   "outputs": [],
   "source": [
    "gpio_0_baseaddr = 0x41200000\n",
    "gpio_1_baseaddr = 0x41210000"
   ]
  },
  {
   "cell_type": "code",
   "execution_count": null,
   "id": "e513ec6f",
   "metadata": {},
   "outputs": [],
   "source": [
    "gpio_0 = MMIO(gpio_0_baseaddr,0x10000)\n",
    "gpio_1 = MMIO(gpio_1_baseaddr,0x10000)"
   ]
  },
  {
   "cell_type": "code",
   "execution_count": null,
   "id": "d668f1c1",
   "metadata": {},
   "outputs": [],
   "source": [
    "gpio_0.write(0x00,0x00000005)\n",
    "gpio_0.write(0x08,0x00000004)"
   ]
  },
  {
   "cell_type": "code",
   "execution_count": null,
   "id": "620dd7e5",
   "metadata": {},
   "outputs": [],
   "source": [
    "result  = gpio_1.read(0x00)\n",
    "print(f\"result : {hex(result)}\")"
   ]
  },
  {
   "cell_type": "code",
   "execution_count": null,
   "id": "ba078fa1",
   "metadata": {},
   "outputs": [],
   "source": []
  }
 ],
 "metadata": {
  "kernelspec": {
   "display_name": "Python 3 (ipykernel)",
   "language": "python",
   "name": "python3"
  },
  "language_info": {
   "codemirror_mode": {
    "name": "ipython",
    "version": 3
   },
   "file_extension": ".py",
   "mimetype": "text/x-python",
   "name": "python",
   "nbconvert_exporter": "python",
   "pygments_lexer": "ipython3",
   "version": "3.10.4"
  }
 },
 "nbformat": 4,
 "nbformat_minor": 5
}
