{
 "cells": [
  {
   "cell_type": "code",
   "execution_count": 2,
   "id": "45baabef",
   "metadata": {},
   "outputs": [],
   "source": [
    "from pynq import Overlay , MMIO\n",
    "\n",
    "overlay = Overlay('/home/xilinx/jupyter_notebooks/Examples/Adder_Subractor_With_Custom_IP/add.bit')"
   ]
  },
  {
   "cell_type": "code",
   "execution_count": 4,
   "id": "65191cbf",
   "metadata": {},
   "outputs": [],
   "source": [
    "gpio_0_baseaddr = 0x41200000\n",
    "gpio_1_baseaddr = 0x41210000"
   ]
  },
  {
   "cell_type": "code",
   "execution_count": 5,
   "id": "e513ec6f",
   "metadata": {},
   "outputs": [],
   "source": [
    "gpio_0 = MMIO(gpio_0_baseaddr,0x10000)\n",
    "gpio_1 = MMIO(gpio_1_baseaddr,0x10000)"
   ]
  },
  {
   "cell_type": "code",
   "execution_count": 22,
   "id": "d668f1c1",
   "metadata": {},
   "outputs": [],
   "source": [
    "gpio_0.write(0x00,0x00000005)\n",
    "gpio_0.write(0x08,0x00000003)"
   ]
  },
  {
   "cell_type": "code",
   "execution_count": 23,
   "id": "620dd7e5",
   "metadata": {},
   "outputs": [
    {
     "name": "stdout",
     "output_type": "stream",
     "text": [
      "result : 0x8\n"
     ]
    }
   ],
   "source": [
    "result  = gpio_1.read(0x00)\n",
    "print(f\"result : {hex(result)}\")"
   ]
  }
 ],
 "metadata": {
  "kernelspec": {
   "display_name": "Python 3 (ipykernel)",
   "language": "python",
   "name": "python3"
  },
  "language_info": {
   "codemirror_mode": {
    "name": "ipython",
    "version": 3
   },
   "file_extension": ".py",
   "mimetype": "text/x-python",
   "name": "python",
   "nbconvert_exporter": "python",
   "pygments_lexer": "ipython3",
   "version": "3.10.4"
  }
 },
 "nbformat": 4,
 "nbformat_minor": 5
}
