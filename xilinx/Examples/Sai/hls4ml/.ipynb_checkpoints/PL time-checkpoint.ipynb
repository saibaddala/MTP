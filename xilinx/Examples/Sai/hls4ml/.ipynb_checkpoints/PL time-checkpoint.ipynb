{
 "cells": [
  {
   "cell_type": "code",
   "execution_count": 4,
   "id": "017f9889",
   "metadata": {},
   "outputs": [
    {
     "name": "stdout",
     "output_type": "stream",
     "text": [
      "(7659, 13)\n",
      "(13,)\n",
      "(7659,)\n"
     ]
    }
   ],
   "source": [
    "from axi_stream_driver import NeuralNetworkOverlay\n",
    "import numpy as np\n",
    "import time\n",
    "\n",
    "X_test = np.load('x_test.npy')\n",
    "y_test = np.load('y_test.npy')\n",
    "\n",
    "print(X_test.shape)\n",
    "print(X_test[0].shape)\n",
    "\n",
    "print(y_test.shape)\n",
    "\n",
    "# nn = NeuralNetworkOverlay('design.bit', X_test.shape, y_test.shape)"
   ]
  },
  {
   "cell_type": "code",
   "execution_count": 5,
   "id": "602f57d1",
   "metadata": {},
   "outputs": [],
   "source": [
    "nn = NeuralNetworkOverlay('design_1.bit', (7659, 13), (7659, 14) )"
   ]
  },
  {
   "cell_type": "code",
   "execution_count": 6,
   "id": "4baf17ce",
   "metadata": {},
   "outputs": [
    {
     "name": "stdout",
     "output_type": "stream",
     "text": [
      "Classified 7659 samples in 0.026517 seconds (288833.5784591017 inferences / s)\n",
      "0.028382301330566406\n",
      "0.026517\n"
     ]
    }
   ],
   "source": [
    "start = time.time()\n",
    "y_hw, latency, throughput = nn.predict(X_test, profile=True)\n",
    "end = time.time()\n",
    "\n",
    "print(end-start)\n",
    "print(latency)"
   ]
  },
  {
   "cell_type": "code",
   "execution_count": null,
   "id": "5a3d5091",
   "metadata": {},
   "outputs": [],
   "source": [
    "np.save(''"
   ]
  }
 ],
 "metadata": {
  "kernelspec": {
   "display_name": "Python 3 (ipykernel)",
   "language": "python",
   "name": "python3"
  },
  "language_info": {
   "codemirror_mode": {
    "name": "ipython",
    "version": 3
   },
   "file_extension": ".py",
   "mimetype": "text/x-python",
   "name": "python",
   "nbconvert_exporter": "python",
   "pygments_lexer": "ipython3",
   "version": "3.10.4"
  }
 },
 "nbformat": 4,
 "nbformat_minor": 5
}
