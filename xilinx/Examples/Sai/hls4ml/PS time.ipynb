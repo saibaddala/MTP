{
 "cells": [
  {
   "cell_type": "code",
   "execution_count": 1,
   "id": "cb27cfab",
   "metadata": {},
   "outputs": [
    {
     "ename": "ModuleNotFoundError",
     "evalue": "No module named 'sklearn'",
     "output_type": "error",
     "traceback": [
      "\u001b[0;31m---------------------------------------------------------------------------\u001b[0m",
      "\u001b[0;31mModuleNotFoundError\u001b[0m                       Traceback (most recent call last)",
      "Input \u001b[0;32mIn [1]\u001b[0m, in \u001b[0;36m<cell line: 2>\u001b[0;34m()\u001b[0m\n\u001b[1;32m      1\u001b[0m \u001b[38;5;28;01mimport\u001b[39;00m \u001b[38;5;21;01mnumpy\u001b[39;00m \u001b[38;5;28;01mas\u001b[39;00m \u001b[38;5;21;01mnp\u001b[39;00m\n\u001b[0;32m----> 2\u001b[0m \u001b[38;5;28;01mfrom\u001b[39;00m \u001b[38;5;21;01msklearn\u001b[39;00m\u001b[38;5;21;01m.\u001b[39;00m\u001b[38;5;21;01mpreprocessing\u001b[39;00m \u001b[38;5;28;01mimport\u001b[39;00m LabelEncoder, StandardScaler\n\u001b[1;32m      3\u001b[0m \u001b[38;5;28;01mfrom\u001b[39;00m \u001b[38;5;21;01msklearn\u001b[39;00m\u001b[38;5;21;01m.\u001b[39;00m\u001b[38;5;21;01mmodel_selection\u001b[39;00m \u001b[38;5;28;01mimport\u001b[39;00m train_test_split\n\u001b[1;32m      4\u001b[0m \u001b[38;5;28;01mfrom\u001b[39;00m \u001b[38;5;21;01msklearn\u001b[39;00m\u001b[38;5;21;01m.\u001b[39;00m\u001b[38;5;21;01mmetrics\u001b[39;00m \u001b[38;5;28;01mimport\u001b[39;00m accuracy_score\n",
      "\u001b[0;31mModuleNotFoundError\u001b[0m: No module named 'sklearn'"
     ]
    }
   ],
   "source": [
    "import numpy as np\n"
   ]
  },
  {
   "cell_type": "code",
   "execution_count": 2,
   "id": "219b5dba",
   "metadata": {},
   "outputs": [],
   "source": [
    "# ---- Step 2: Define helper functions ----\n",
    "def quantize_weights(weights, nbits=8):\n",
    "    scale = 2**(nbits - 1) - 1\n",
    "    return np.round(weights * scale) / scale\n",
    "\n",
    "def relu(x):\n",
    "    return np.maximum(0, x)\n",
    "\n",
    "def relu_derivative(x):\n",
    "    return (x > 0).astype(float)\n",
    "\n",
    "def softmax(x):\n",
    "    exps = np.exp(x - np.max(x, axis=1, keepdims=True))  # for numerical stability\n",
    "    return exps / np.sum(exps, axis=1, keepdims=True)\n",
    "\n",
    "def cross_entropy(y_true, y_pred):\n",
    "    y_pred = np.clip(y_pred, 1e-9, 1 - 1e-9)\n",
    "    return -np.mean(np.log(y_pred[np.arange(len(y_true)), y_true]))\n",
    "\n",
    "def cross_entropy_derivative(y_true, y_pred):\n",
    "    y_pred = np.clip(y_pred, 1e-9, 1 - 1e-9)\n",
    "    grad = y_pred.copy()\n",
    "    grad[np.arange(len(y_true)), y_true] -= 1\n",
    "    return grad / len(y_true)"
   ]
  },
  {
   "cell_type": "code",
   "execution_count": 8,
   "id": "1caa7966",
   "metadata": {},
   "outputs": [],
   "source": [
    "X_test = np.load('X_test.npy')\n",
    "y_test = np.load('y_test.npy')\n",
    "\n",
    "W1 = np.load('W1.npy')\n",
    "b1 = np.load('b1.npy')\n",
    "\n",
    "W2 = np.load('W2.npy')\n",
    "b2 = np.load('b2.npy')\n",
    "\n",
    "W3 = np.load('W3.npy')\n",
    "b3 = np.load('b3.npy')"
   ]
  },
  {
   "cell_type": "code",
   "execution_count": 10,
   "id": "5f68e29c",
   "metadata": {},
   "outputs": [
    {
     "name": "stdout",
     "output_type": "stream",
     "text": [
      "0.0043027400970458984\n",
      "✅ Test Accuracy: 0.3961\n"
     ]
    }
   ],
   "source": [
    "z1 = X_test @ W1 + b1\n",
    "a1 = relu(z1)\n",
    "z2 = a1 @ W2 + b2\n",
    "a2 = relu(z2)\n",
    "z3 = a2 @ W3 + b3\n",
    "out = softmax(z3)\n",
    "\n",
    "import time\n",
    "start = time.time()\n",
    "preds = np.argmax(out, axis=1)\n",
    "end = time.time()\n",
    "print(end-start)\n",
    "# Manual accuracy\n",
    "accuracy = np.mean(preds == y_test)\n",
    "print(f\"✅ Test Accuracy: {accuracy:.4f}\")"
   ]
  },
  {
   "cell_type": "code",
   "execution_count": null,
   "id": "794b5cde",
   "metadata": {},
   "outputs": [],
   "source": [
    "test_acc = accuracy_score(y_test, preds)\n",
    "print(f\"✅ Test Accuracy (NumPy Model): {test_acc:.4f}\")"
   ]
  }
 ],
 "metadata": {
  "kernelspec": {
   "display_name": "Python 3 (ipykernel)",
   "language": "python",
   "name": "python3"
  },
  "language_info": {
   "codemirror_mode": {
    "name": "ipython",
    "version": 3
   },
   "file_extension": ".py",
   "mimetype": "text/x-python",
   "name": "python",
   "nbconvert_exporter": "python",
   "pygments_lexer": "ipython3",
   "version": "3.10.4"
  }
 },
 "nbformat": 4,
 "nbformat_minor": 5
}
