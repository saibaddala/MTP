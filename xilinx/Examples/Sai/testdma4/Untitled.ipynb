{
 "cells": [
  {
   "cell_type": "code",
   "execution_count": 1,
   "id": "c4b5ea0c",
   "metadata": {},
   "outputs": [
    {
     "data": {
      "application/javascript": [
       "\n",
       "try {\n",
       "require(['notebook/js/codecell'], function(codecell) {\n",
       "  codecell.CodeCell.options_default.highlight_modes[\n",
       "      'magic_text/x-csrc'] = {'reg':[/^%%microblaze/]};\n",
       "  Jupyter.notebook.events.one('kernel_ready.Kernel', function(){\n",
       "      Jupyter.notebook.get_cells().map(function(cell){\n",
       "          if (cell.cell_type == 'code'){ cell.auto_highlight(); } }) ;\n",
       "  });\n",
       "});\n",
       "} catch (e) {};\n"
      ]
     },
     "metadata": {},
     "output_type": "display_data"
    },
    {
     "data": {
      "application/javascript": [
       "\n",
       "try {\n",
       "require(['notebook/js/codecell'], function(codecell) {\n",
       "  codecell.CodeCell.options_default.highlight_modes[\n",
       "      'magic_text/x-csrc'] = {'reg':[/^%%pybind11/]};\n",
       "  Jupyter.notebook.events.one('kernel_ready.Kernel', function(){\n",
       "      Jupyter.notebook.get_cells().map(function(cell){\n",
       "          if (cell.cell_type == 'code'){ cell.auto_highlight(); } }) ;\n",
       "  });\n",
       "});\n",
       "} catch (e) {};\n"
      ]
     },
     "metadata": {},
     "output_type": "display_data"
    },
    {
     "name": "stdout",
     "output_type": "stream",
     "text": [
      "Sent integer 1: 15\n",
      "Sent integer 2: 25\n",
      "Received integers: 15, 25\n"
     ]
    }
   ],
   "source": [
    "from pynq import Overlay, allocate\n",
    "\n",
    "# Load the overlay (with the custom IP)\n",
    "overlay = Overlay(\"./test.bit\")\n",
    "\n",
    "# Access the DMAs (Assuming the IP is connected to three DMAs)\n",
    "dma_input1 = overlay.axi_dma_0  # DMA for the first integer input\n",
    "dma_input2 = overlay.axi_dma_1  # DMA for the second integer input\n",
    "dma_output = overlay.axi_dma_2  # DMA for the output\n",
    "\n",
    "# Allocate memory buffers for inputs and output\n",
    "input_buffer1 = allocate(shape=(2,), dtype='int32')  # Buffer for the first integer\n",
    "input_buffer2 = allocate(shape=(1,), dtype='int32')  # Buffer for the second integer\n",
    "output_buffer = allocate(shape=(2,), dtype='int32')  # Buffer for the two integers (output)\n",
    "\n",
    "# Assign values to the input buffers\n",
    "input_buffer1[0] = 15\n",
    "input_buffer1[1] = 30\n",
    "# First integer\n",
    "input_buffer2[0] = 25  # Second integer\n",
    "\n",
    "# Start DMA transfers to send the integers to the IP\n",
    "dma_input1.sendchannel.transfer(input_buffer1)\n",
    "dma_input2.sendchannel.transfer(input_buffer2)\n",
    "\n",
    "# Receive the results from the IP (the two integers)\n",
    "dma_output.recvchannel.transfer(output_buffer)  # Expecting two 32-bit integers (8 bytes)\n",
    "\n",
    "# Wait for all transfers to complete\n",
    "dma_input1.sendchannel.wait()\n",
    "dma_input2.sendchannel.wait()\n",
    "dma_output.recvchannel.wait()\n",
    "\n",
    "# Display the results\n",
    "print(f\"Sent integer 1: {input_buffer1[0]}\")\n",
    "print(f\"Sent integer 2: {input_buffer2[0]}\")\n",
    "print(f\"Received integers: {output_buffer[0]}, {output_buffer[1]}\")\n"
   ]
  }
 ],
 "metadata": {
  "kernelspec": {
   "display_name": "Python 3 (ipykernel)",
   "language": "python",
   "name": "python3"
  },
  "language_info": {
   "codemirror_mode": {
    "name": "ipython",
    "version": 3
   },
   "file_extension": ".py",
   "mimetype": "text/x-python",
   "name": "python",
   "nbconvert_exporter": "python",
   "pygments_lexer": "ipython3",
   "version": "3.10.4"
  }
 },
 "nbformat": 4,
 "nbformat_minor": 5
}
