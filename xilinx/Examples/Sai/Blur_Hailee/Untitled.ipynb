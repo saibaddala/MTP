{
 "cells": [
  {
   "cell_type": "code",
   "execution_count": 2,
   "id": "6180ec87",
   "metadata": {
    "scrolled": true
   },
   "outputs": [
    {
     "name": "stdout",
     "output_type": "stream",
     "text": [
      "Waiting for a connection...\n",
      "Connected by ('10.21.236.238', 46410)\n"
     ]
    }
   ],
   "source": [
    "import socket\n",
    "import os\n",
    "import numpy as np\n",
    "import cv2\n",
    "from pynq import Overlay\n",
    "from pynq.lib.dma import DMA\n",
    "from pynq import allocate\n",
    "\n",
    "# Load the overlay and DMA\n",
    "overlay = Overlay(\"design_1.bit\")\n",
    "dma = overlay.axi_dma_0\n",
    "\n",
    "# Create a socket for the server\n",
    "server_socket = socket.socket(socket.AF_INET, socket.SOCK_STREAM)\n",
    "server_socket.bind(('0.0.0.0', 9092))  # Listen on all available interfaces\n",
    "server_socket.listen(1)\n",
    "\n",
    "print(\"Waiting for a connection...\")\n",
    "conn, addr = server_socket.accept()\n",
    "print(f\"Connected by {addr}\")\n",
    "\n",
    "while True:\n",
    "    # Receive image dimensions first\n",
    "    image_info = conn.recv(1024).decode()\n",
    "    if not image_info:\n",
    "        break  # Exit the loop if no data is received\n",
    "\n",
    "    height, width, channels = map(int, image_info.split(','))\n",
    "\n",
    "    # Allocate buffers for input and output\n",
    "    input_buffer = allocate(shape=(height * width * channels,), dtype=np.uint8)\n",
    "    output_buffer = allocate(shape=(height * width * channels,), dtype=np.uint8)\n",
    "\n",
    "    # Receive image bytes\n",
    "    image_bytes = b''\n",
    "    while len(image_bytes) < height * width * channels:\n",
    "        packet = conn.recv(4096)\n",
    "        if not packet:\n",
    "            break\n",
    "        image_bytes += packet\n",
    "\n",
    "    # Copy the image bytes to the input buffer\n",
    "    np.copyto(input_buffer, np.frombuffer(image_bytes, dtype=np.uint8))\n",
    "\n",
    "    # Process the image in chunks\n",
    "    rows_per_chunk = 8\n",
    "    for i in range(0, height, rows_per_chunk):\n",
    "        start_row = i\n",
    "        end_row = min(i + rows_per_chunk, height)\n",
    "\n",
    "        # Transfer current chunk\n",
    "        dma.sendchannel.transfer(input_buffer[start_row * width * channels:end_row * width * channels])\n",
    "        dma.recvchannel.transfer(output_buffer[start_row * width * channels:end_row * width * channels])\n",
    "        \n",
    "        # Wait for transfer to complete\n",
    "        dma.sendchannel.wait()\n",
    "        dma.recvchannel.wait()\n",
    "\n",
    "    # Send the processed image back to the client\n",
    "    conn.sendall(output_buffer[:height * width * channels])\n",
    "\n",
    "# Close connections\n",
    "conn.close()\n",
    "server_socket.close()\n",
    "print(\"Mission Accomplished Successfully.....\")"
   ]
  }
 ],
 "metadata": {
  "kernelspec": {
   "display_name": "Python 3 (ipykernel)",
   "language": "python",
   "name": "python3"
  },
  "language_info": {
   "codemirror_mode": {
    "name": "ipython",
    "version": 3
   },
   "file_extension": ".py",
   "mimetype": "text/x-python",
   "name": "python",
   "nbconvert_exporter": "python",
   "pygments_lexer": "ipython3",
   "version": "3.10.4"
  }
 },
 "nbformat": 4,
 "nbformat_minor": 5
}
