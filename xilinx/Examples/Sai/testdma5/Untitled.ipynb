{
 "cells": [
  {
   "cell_type": "code",
   "execution_count": 5,
   "id": "9b3c3a5d",
   "metadata": {},
   "outputs": [
    {
     "name": "stdout",
     "output_type": "stream",
     "text": [
      "Sum of 123 and 456 is 123\n"
     ]
    }
   ],
   "source": [
    "from pynq import Overlay, allocate\n",
    "import numpy as np\n",
    "\n",
    "# Load the overlay (bitstream) for your design\n",
    "overlay = Overlay(\"./test.bit\")\n",
    "\n",
    "# Access the custom IP and DMA engines\n",
    "dma0 = overlay.axi_dma_0\n",
    "dma1 = overlay.axi_dma_1\n",
    "dma2 = overlay.axi_dma_2\n",
    "# custom_ip = overlay.axi_dma_sum_two_input_0\n",
    "\n",
    "# Allocate memory buffers for DMA transfers\n",
    "input_buffer1 = allocate(shape=(1,), dtype=np.int32)\n",
    "input_buffer2 = allocate(shape=(1,), dtype=np.int32)\n",
    "output_buffer = allocate(shape=(1,), dtype=np.int32)\n",
    "\n",
    "# Assign input values to the buffers\n",
    "input_buffer1[0] = 123  # Example value for input 1\n",
    "input_buffer2[0] = 456  # Example value for input 2\n",
    "\n",
    "# Send data to the custom IP using DMA (input buffers)\n",
    "dma0.sendchannel.transfer(input_buffer1)\n",
    "dma1.sendchannel.transfer(input_buffer2)\n",
    "\n",
    "# Start the custom IP processing\n",
    "# custom_ip.write(0x00, 1)  # Assume 0x00 is the control register\n",
    "\n",
    "# Receive the result from the custom IP using DMA (output buffer)\n",
    "dma2.recvchannel.transfer(output_buffer)\n",
    "\n",
    "# Wait for the DMA transfers to complete\n",
    "dma0.sendchannel.wait()\n",
    "dma1.sendchannel.wait()\n",
    "# dma2.recvchannel.wait()\n",
    "\n",
    "# Check the result\n",
    "print(f\"Sum of {input_buffer1[0]} and {input_buffer2[0]} is {output_buffer[0]}\")\n",
    "\n",
    "# Free up the buffers\n",
    "input_buffer1.freebuffer()\n",
    "input_buffer2.freebuffer()\n",
    "output_buffer.freebuffer()\n"
   ]
  },
  {
   "cell_type": "code",
   "execution_count": null,
   "id": "b8fbf068",
   "metadata": {},
   "outputs": [],
   "source": []
  }
 ],
 "metadata": {
  "kernelspec": {
   "display_name": "Python 3 (ipykernel)",
   "language": "python",
   "name": "python3"
  },
  "language_info": {
   "codemirror_mode": {
    "name": "ipython",
    "version": 3
   },
   "file_extension": ".py",
   "mimetype": "text/x-python",
   "name": "python",
   "nbconvert_exporter": "python",
   "pygments_lexer": "ipython3",
   "version": "3.10.4"
  }
 },
 "nbformat": 4,
 "nbformat_minor": 5
}
