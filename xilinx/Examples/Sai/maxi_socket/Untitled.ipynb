{
 "cells": [
  {
   "cell_type": "code",
   "execution_count": 1,
   "id": "bb5986ec",
   "metadata": {},
   "outputs": [
    {
     "name": "stdout",
     "output_type": "stream",
     "text": [
      "Waiting for a connection...\n",
      "Connection from ('10.21.236.238', 58274)\n",
      "Received data: [1, 2, 3, 4, 5]\n"
     ]
    }
   ],
   "source": [
    "import socket\n",
    "import pickle\n",
    "\n",
    "# Create a TCP/IP socket\n",
    "server_socket = socket.socket(socket.AF_INET, socket.SOCK_STREAM)\n",
    "\n",
    "# Bind the socket to the IP address and port\n",
    "server_socket.bind(('0.0.0.0', 12345))  # Listen on all available interfaces, port 12345\n",
    "\n",
    "# Start listening for incoming connections\n",
    "server_socket.listen(1)\n",
    "print('Waiting for a connection...')\n",
    "\n",
    "# Wait for a connection\n",
    "client_socket, client_address = server_socket.accept()\n",
    "print(f'Connection from {client_address}')\n",
    "\n",
    "# Receive data\n",
    "data = client_socket.recv(1024)  # Receive up to 1024 bytes of data\n",
    "integers = pickle.loads(data) \n",
    "print(f'Received data: {integers}')\n",
    "\n",
    "# Send a response (optional)\n",
    "client_socket.sendall(b'Data received')\n",
    "\n",
    "# Close the connection\n",
    "client_socket.close()\n"
   ]
  },
  {
   "cell_type": "code",
   "execution_count": 2,
   "id": "fbc7859c",
   "metadata": {},
   "outputs": [
    {
     "data": {
      "application/javascript": [
       "\n",
       "try {\n",
       "require(['notebook/js/codecell'], function(codecell) {\n",
       "  codecell.CodeCell.options_default.highlight_modes[\n",
       "      'magic_text/x-csrc'] = {'reg':[/^%%microblaze/]};\n",
       "  Jupyter.notebook.events.one('kernel_ready.Kernel', function(){\n",
       "      Jupyter.notebook.get_cells().map(function(cell){\n",
       "          if (cell.cell_type == 'code'){ cell.auto_highlight(); } }) ;\n",
       "  });\n",
       "});\n",
       "} catch (e) {};\n"
      ]
     },
     "metadata": {},
     "output_type": "display_data"
    },
    {
     "data": {
      "application/javascript": [
       "\n",
       "try {\n",
       "require(['notebook/js/codecell'], function(codecell) {\n",
       "  codecell.CodeCell.options_default.highlight_modes[\n",
       "      'magic_text/x-csrc'] = {'reg':[/^%%pybind11/]};\n",
       "  Jupyter.notebook.events.one('kernel_ready.Kernel', function(){\n",
       "      Jupyter.notebook.get_cells().map(function(cell){\n",
       "          if (cell.cell_type == 'code'){ cell.auto_highlight(); } }) ;\n",
       "  });\n",
       "});\n",
       "} catch (e) {};\n"
      ]
     },
     "metadata": {},
     "output_type": "display_data"
    },
    {
     "name": "stdout",
     "output_type": "stream",
     "text": [
      "Input Buffer:  [1 2 3 4 5]\n",
      "Maximum Value Received from IP:  [5]\n"
     ]
    }
   ],
   "source": [
    "from pynq import Overlay, allocate\n",
    "import numpy as np\n",
    "\n",
    "overlay = Overlay(\"maxi.bit\")\n",
    "\n",
    "# Get the DMA instance\n",
    "dma = overlay.axi_dma_0\n",
    "\n",
    "# Number of integers to send\n",
    "num_integers = len(integers)\n",
    "\n",
    "# Allocate memory for input and output buffers\n",
    "input_buffer = allocate(shape=(num_integers,), dtype=np.uint32)\n",
    "output_buffer = allocate(shape=(1,), dtype=np.uint32)  # Single output for max value\n",
    "\n",
    "# Fill the input buffer with some integers to test max finder\n",
    "input_data = np.array(integers, dtype=np.uint32)\n",
    "input_buffer[:] = input_data\n",
    "\n",
    "# Initialize the output buffer with zeros\n",
    "output_buffer[:] = np.zeros(1, dtype=np.uint32)\n",
    "\n",
    "print(\"Input Buffer: \", input_buffer)\n",
    "\n",
    "# Start the DMA send (from PS to PL)\n",
    "dma.sendchannel.transfer(input_buffer)\n",
    "\n",
    "# Start the DMA receive (from PL to PS)\n",
    "dma.recvchannel.transfer(output_buffer)\n",
    "\n",
    "# Wait for both send and receive transfers to complete\n",
    "dma.sendchannel.wait()\n",
    "dma.recvchannel.wait()\n",
    "\n",
    "# Print the maximum value received from the IP\n",
    "print(\"Maximum Value Received from IP: \", output_buffer)\n"
   ]
  },
  {
   "cell_type": "code",
   "execution_count": null,
   "id": "a1b5bded",
   "metadata": {},
   "outputs": [],
   "source": []
  }
 ],
 "metadata": {
  "kernelspec": {
   "display_name": "Python 3 (ipykernel)",
   "language": "python",
   "name": "python3"
  },
  "language_info": {
   "codemirror_mode": {
    "name": "ipython",
    "version": 3
   },
   "file_extension": ".py",
   "mimetype": "text/x-python",
   "name": "python",
   "nbconvert_exporter": "python",
   "pygments_lexer": "ipython3",
   "version": "3.10.4"
  }
 },
 "nbformat": 4,
 "nbformat_minor": 5
}
