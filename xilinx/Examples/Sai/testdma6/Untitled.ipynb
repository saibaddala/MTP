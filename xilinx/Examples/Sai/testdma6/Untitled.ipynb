{
 "cells": [
  {
   "cell_type": "code",
   "execution_count": 2,
   "id": "368fc874",
   "metadata": {},
   "outputs": [
    {
     "name": "stdout",
     "output_type": "stream",
     "text": [
      "Input Buffer:  [ 1  8  3  7  4 10  2  6  5  9]\n",
      "Maximum Value Received from IP:  10\n",
      "Test Passed! The maximum value is correct.\n"
     ]
    }
   ],
   "source": [
    "from pynq import Overlay, allocate\n",
    "import numpy as np\n",
    "\n",
    "overlay = Overlay(\"test.bit\")\n",
    "\n",
    "# Get the DMA instance for read and write\n",
    "dma_read = overlay.axi_dma_0  # HP0 (sending data to PL)\n",
    "dma_write = overlay.axi_dma_1  # HP1 (receiving data from PL)\n",
    "\n",
    "# Number of integers to send (change this to test different lengths)\n",
    "num_integers = 10\n",
    "\n",
    "# Allocate memory for input and output buffers\n",
    "input_buffer = allocate(shape=(num_integers,), dtype=np.uint32)\n",
    "output_buffer = allocate(shape=(1,), dtype=np.uint32)  # Single output for max value\n",
    "\n",
    "# Fill the input buffer with some integers to test max finder\n",
    "input_data = np.array([1, 8, 3, 7, 4, 10, 2, 6, 5, 9], dtype=np.uint32)\n",
    "input_buffer[:] = input_data\n",
    "\n",
    "# Initialize the output buffer with zeros (optional)\n",
    "output_buffer[:] = np.zeros(1, dtype=np.uint32)\n",
    "\n",
    "print(\"Input Buffer: \", input_buffer)\n",
    "\n",
    "# Start the DMA send through HP0 (from PS to PL)\n",
    "dma_read.sendchannel.transfer(input_buffer)\n",
    "\n",
    "# Start the DMA receive through HP1 (from PL to PS)\n",
    "dma_write.recvchannel.transfer(output_buffer)\n",
    "\n",
    "# Wait for both send and receive transfers to complete\n",
    "dma_read.sendchannel.wait()\n",
    "dma_write.recvchannel.wait()\n",
    "\n",
    "# Print the maximum value received from the IP\n",
    "print(\"Maximum Value Received from IP: \", output_buffer[0])\n",
    "\n",
    "# Check if the output is correct\n",
    "expected_max = np.max(input_buffer)\n",
    "if output_buffer[0] == expected_max:\n",
    "    print(\"Test Passed! The maximum value is correct.\")\n",
    "else:\n",
    "    print(\"Test Failed! Expected:\", expected_max, \"but got:\", output_buffer[0])\n",
    "\n",
    "# Clean up the buffers\n",
    "input_buffer.close()\n",
    "output_buffer.close()\n"
   ]
  }
 ],
 "metadata": {
  "kernelspec": {
   "display_name": "Python 3 (ipykernel)",
   "language": "python",
   "name": "python3"
  },
  "language_info": {
   "codemirror_mode": {
    "name": "ipython",
    "version": 3
   },
   "file_extension": ".py",
   "mimetype": "text/x-python",
   "name": "python",
   "nbconvert_exporter": "python",
   "pygments_lexer": "ipython3",
   "version": "3.10.4"
  }
 },
 "nbformat": 4,
 "nbformat_minor": 5
}
