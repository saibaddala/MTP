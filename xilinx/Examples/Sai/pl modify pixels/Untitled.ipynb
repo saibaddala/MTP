{
 "cells": [
  {
   "cell_type": "code",
   "execution_count": null,
   "id": "06fa5b66",
   "metadata": {},
   "outputs": [],
   "source": [
    "from pynq import Overlay, allocate\n",
    "import numpy as np\n",
    "from PIL import Image\n",
    "\n",
    "# Load the bitstream\n",
    "overlay = Overlay(\"mod.bit\")\n",
    "\n",
    "# Define DMA objects\n",
    "dma_send = overlay.axi_dma_0  # For sending image data to PL\n",
    "dma_recv = overlay.axi_dma_1  # For receiving the dimmed image back from PL\n",
    "\n",
    "# Open and process the image\n",
    "image = Image.open(\"hailee.jpg\")  # Replace with your image path\n",
    "image_array = np.array(image)\n",
    "\n",
    "# Flatten the image array into 1D array\n",
    "image_array = image_array.flatten()\n",
    "\n",
    "# Calculate chunk size\n",
    "CHUNK_SIZE = 4094  # Set according to the DMA limit\n",
    "\n",
    "# Create input buffer for each chunk (sending the image)\n",
    "input_buffer = allocate(shape=(CHUNK_SIZE,), dtype=np.uint32)\n",
    "\n",
    "# Create output buffer for receiving dimmed image (same size as input)\n",
    "output_buffer = allocate(shape=(CHUNK_SIZE,), dtype=np.uint32)\n",
    "\n",
    "# Loop through image chunks and transfer them using DMA\n",
    "for i in range(0, image_array.size, CHUNK_SIZE):\n",
    "    chunk_end = min(i + CHUNK_SIZE, image_array.size)\n",
    "    \n",
    "    # Populate input buffer with a chunk of image data\n",
    "    input_buffer[:chunk_end - i] = image_array[i:chunk_end]\n",
    "\n",
    "    # Send the chunk to PL through DMA\n",
    "    dma_send.sendchannel.transfer(input_buffer)\n",
    "\n",
    "    # Start receiving the dimmed image chunk from PL\n",
    "    dma_recv.recvchannel.transfer(output_buffer)\n",
    "\n",
    "    # Wait for the transfers to complete\n",
    "    dma_send.sendchannel.wait()\n",
    "    dma_recv.recvchannel.wait()\n",
    "    print(\"ok\")\n",
    "    # Collect the processed image chunks (dimmed pixels)\n",
    "    image_array[i:chunk_end] = output_buffer[:chunk_end - i]\n",
    "\n",
    "# Reshape the dimmed image back to its original dimensions\n",
    "dimmed_image = image_array.reshape(image.size[1], image.size[0], 3)\n",
    "\n",
    "# Convert array back to an image and display\n",
    "dimmed_image = Image.fromarray(dimmed_image.astype('uint8'))\n",
    "dimmed_image.show()  # This will open the dimmed image\n",
    "\n"
   ]
  }
 ],
 "metadata": {
  "kernelspec": {
   "display_name": "Python 3 (ipykernel)",
   "language": "python",
   "name": "python3"
  },
  "language_info": {
   "codemirror_mode": {
    "name": "ipython",
    "version": 3
   },
   "file_extension": ".py",
   "mimetype": "text/x-python",
   "name": "python",
   "nbconvert_exporter": "python",
   "pygments_lexer": "ipython3",
   "version": "3.10.4"
  }
 },
 "nbformat": 4,
 "nbformat_minor": 5
}
