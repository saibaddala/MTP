{
 "cells": [
  {
   "cell_type": "code",
   "execution_count": 2,
   "id": "1c3f0a72",
   "metadata": {},
   "outputs": [
    {
     "name": "stdout",
     "output_type": "stream",
     "text": [
      "Input Buffer:  [ 1  2  3  4  5  6  7  8  9 10 11 12 13 14 15 16 17 18 19 20 21 22 23 24\n",
      " 25]\n",
      "Output Buffer (Data echoed from the IP):  [ 1  2  3  4  5  6  7  8  9 10 11 12 13 14 15 16 17 18 19 20 21 22 23 24\n",
      " 25]\n",
      "Test Passed! The output matches the input.\n"
     ]
    }
   ],
   "source": [
    "from pynq import Overlay, allocate\n",
    "import numpy as np\n",
    "\n",
    "# Load the bitstream (assuming the name of the bitstream is 'dma_echo.bit')\n",
    "overlay = Overlay(\"buf.bit\")\n",
    "\n",
    "# Get the DMA instance\n",
    "dma = overlay.axi_dma_0  # Adjust this based on your Vivado project name for the DMA\n",
    "\n",
    "# Number of integers to send (change this to test different lengths)\n",
    "num_integers = 25\n",
    "\n",
    "# Allocate memory for input and output buffers\n",
    "# 'allocate' method allocates physically contiguous memory for use by the DMA\n",
    "input_buffer = allocate(shape=(num_integers,), dtype=np.uint32)\n",
    "output_buffer = allocate(shape=(num_integers,), dtype=np.uint32)\n",
    "\n",
    "# Fill the input buffer with some integers to send to the IP (e.g., 1, 2, 3, ...)\n",
    "for i in range(num_integers):\n",
    "    input_buffer[i] = i + 1\n",
    "\n",
    "# Initialize the output buffer with zeros (optional, just for clarity)\n",
    "output_buffer[:] = np.zeros(num_integers, dtype=np.uint32)\n",
    "\n",
    "print(\"Input Buffer: \", input_buffer)\n",
    "\n",
    "# Start the DMA send (from PS to PL)\n",
    "dma.sendchannel.transfer(input_buffer)\n",
    "\n",
    "# Start the DMA receive (from PL to PS)\n",
    "dma.recvchannel.transfer(output_buffer)\n",
    "\n",
    "# Wait for both send and receive transfers to complete\n",
    "dma.sendchannel.wait()\n",
    "dma.recvchannel.wait()\n",
    "\n",
    "print(\"Output Buffer (Data echoed from the IP): \", output_buffer)\n",
    "\n",
    "# Verify if the output matches the input\n",
    "if np.array_equal(input_buffer, output_buffer):\n",
    "    print(\"Test Passed! The output matches the input.\")\n",
    "else:\n",
    "    print(\"Test Failed! The output does not match the input.\")\n",
    "\n",
    "# Clean up the buffers\n",
    "input_buffer.close()\n",
    "output_buffer.close()\n"
   ]
  },
  {
   "cell_type": "code",
   "execution_count": null,
   "id": "89bc568a",
   "metadata": {},
   "outputs": [],
   "source": []
  }
 ],
 "metadata": {
  "kernelspec": {
   "display_name": "Python 3 (ipykernel)",
   "language": "python",
   "name": "python3"
  },
  "language_info": {
   "codemirror_mode": {
    "name": "ipython",
    "version": 3
   },
   "file_extension": ".py",
   "mimetype": "text/x-python",
   "name": "python",
   "nbconvert_exporter": "python",
   "pygments_lexer": "ipython3",
   "version": "3.10.4"
  }
 },
 "nbformat": 4,
 "nbformat_minor": 5
}
