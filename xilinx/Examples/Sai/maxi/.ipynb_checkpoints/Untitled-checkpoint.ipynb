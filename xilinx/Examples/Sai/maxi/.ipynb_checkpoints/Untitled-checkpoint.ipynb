{
 "cells": [
  {
   "cell_type": "code",
   "execution_count": 3,
   "id": "2760ee14",
   "metadata": {},
   "outputs": [
    {
     "name": "stdout",
     "output_type": "stream",
     "text": [
      "Input Buffer:  [ 1  8 32  7  4 10  2  6  5  9]\n",
      "Maximum Value Received from IP:  [32]\n"
     ]
    }
   ],
   "source": [
    "from pynq import Overlay, allocate\n",
    "import numpy as np\n",
    "\n",
    "overlay = Overlay(\"maxi.bit\")\n",
    "\n",
    "# Get the DMA instance\n",
    "dma = overlay.axi_dma_0\n",
    "\n",
    "# Number of integers to send\n",
    "num_integers = 10\n",
    "\n",
    "# Allocate memory for input and output buffers\n",
    "input_buffer = allocate(shape=(num_integers,), dtype=np.uint32)\n",
    "output_buffer = allocate(shape=(1,), dtype=np.uint32)  # Single output for max value\n",
    "\n",
    "# Fill the input buffer with some integers to test max finder\n",
    "input_data = np.array([1, 8, 32, 7, 4, 10, 2, 6, 5, 9], dtype=np.uint32)\n",
    "input_buffer[:] = input_data\n",
    "\n",
    "# Initialize the output buffer with zeros\n",
    "output_buffer[:] = np.zeros(1, dtype=np.uint32)\n",
    "\n",
    "print(\"Input Buffer: \", input_buffer)\n",
    "\n",
    "# Start the DMA send (from PS to PL)\n",
    "dma.sendchannel.transfer(input_buffer)\n",
    "\n",
    "# Start the DMA receive (from PL to PS)\n",
    "dma.recvchannel.transfer(output_buffer)\n",
    "\n",
    "# Wait for both send and receive transfers to complete\n",
    "dma.sendchannel.wait()\n",
    "dma.recvchannel.wait()\n",
    "\n",
    "# Print the maximum value received from the IP\n",
    "print(\"Maximum Value Received from IP: \", output_buffer)\n"
   ]
  }
 ],
 "metadata": {
  "kernelspec": {
   "display_name": "Python 3 (ipykernel)",
   "language": "python",
   "name": "python3"
  },
  "language_info": {
   "codemirror_mode": {
    "name": "ipython",
    "version": 3
   },
   "file_extension": ".py",
   "mimetype": "text/x-python",
   "name": "python",
   "nbconvert_exporter": "python",
   "pygments_lexer": "ipython3",
   "version": "3.10.4"
  }
 },
 "nbformat": 4,
 "nbformat_minor": 5
}
