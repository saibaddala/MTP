{
 "cells": [
  {
   "cell_type": "code",
   "execution_count": null,
   "id": "b4fe4ce1",
   "metadata": {},
   "outputs": [
    {
     "data": {
      "application/javascript": [
       "\n",
       "try {\n",
       "require(['notebook/js/codecell'], function(codecell) {\n",
       "  codecell.CodeCell.options_default.highlight_modes[\n",
       "      'magic_text/x-csrc'] = {'reg':[/^%%microblaze/]};\n",
       "  Jupyter.notebook.events.one('kernel_ready.Kernel', function(){\n",
       "      Jupyter.notebook.get_cells().map(function(cell){\n",
       "          if (cell.cell_type == 'code'){ cell.auto_highlight(); } }) ;\n",
       "  });\n",
       "});\n",
       "} catch (e) {};\n"
      ]
     },
     "metadata": {},
     "output_type": "display_data"
    },
    {
     "data": {
      "application/javascript": [
       "\n",
       "try {\n",
       "require(['notebook/js/codecell'], function(codecell) {\n",
       "  codecell.CodeCell.options_default.highlight_modes[\n",
       "      'magic_text/x-csrc'] = {'reg':[/^%%pybind11/]};\n",
       "  Jupyter.notebook.events.one('kernel_ready.Kernel', function(){\n",
       "      Jupyter.notebook.get_cells().map(function(cell){\n",
       "          if (cell.cell_type == 'code'){ cell.auto_highlight(); } }) ;\n",
       "  });\n",
       "});\n",
       "} catch (e) {};\n"
      ]
     },
     "metadata": {},
     "output_type": "display_data"
    },
    {
     "name": "stdout",
     "output_type": "stream",
     "text": [
      "Waiting for a connection...\n"
     ]
    }
   ],
   "source": [
    "import socket\n",
    "import numpy as np\n",
    "import cv2\n",
    "from pynq import Overlay\n",
    "from pynq.lib.dma import DMA\n",
    "from pynq import allocate\n",
    "import time  # For performance measurement\n",
    "\n",
    "# Load the overlay and DMA\n",
    "overlay = Overlay(\"Dimmer.bit\")\n",
    "dma = overlay.axi_dma_0\n",
    "\n",
    "# Create a socket for the server\n",
    "server_socket = socket.socket(socket.AF_INET, socket.SOCK_STREAM)\n",
    "server_socket.bind(('0.0.0.0', 9092))  # Listen on all available interfaces\n",
    "server_socket.listen(1)\n",
    "\n",
    "print(\"Waiting for a connection...\")\n",
    "conn, addr = server_socket.accept()\n",
    "print(f\"Connected by {addr}\")\n",
    "\n",
    "# Initialize variables for performance measurement\n",
    "num_images_processed = 0  # Count the number of images processed\n",
    "total_fpga_processing_time = 0  # To sum up the FPGA processing times\n",
    "\n",
    "# Start timer for total image processing\n",
    "overall_start_time = time.time()  # Timer to measure total image processing time\n",
    "\n",
    "while True:\n",
    "    # Receive image dimensions first\n",
    "    image_info = conn.recv(1024).decode()\n",
    "    if not image_info:\n",
    "        break  # Exit the loop if no data is received\n",
    "\n",
    "    height, width, channels = map(int, image_info.split(','))\n",
    "\n",
    "    try:\n",
    "        # Allocate buffers for input and output\n",
    "        input_buffer = allocate(shape=(height * width * channels,), dtype=np.uint8)\n",
    "        output_buffer = allocate(shape=(height * width * channels,), dtype=np.uint8)\n",
    "    except RuntimeError as e:\n",
    "        print(f\"Memory allocation failed: {e}\")\n",
    "        continue  # Skip to the next iteration or handle accordingly\n",
    "\n",
    "    # Receive image bytes\n",
    "    image_bytes = b''\n",
    "    while len(image_bytes) < height * width * channels:\n",
    "        packet = conn.recv(4096)\n",
    "        if not packet:\n",
    "            break\n",
    "        image_bytes += packet\n",
    "\n",
    "    # Copy the image bytes to the input buffer\n",
    "    np.copyto(input_buffer, np.frombuffer(image_bytes, dtype=np.uint8))\n",
    "\n",
    "    # Process the image in chunks\n",
    "    rows_per_chunk = 8\n",
    "    for i in range(0, height, rows_per_chunk):\n",
    "        start_row = i\n",
    "        end_row = min(i + rows_per_chunk, height)\n",
    "\n",
    "        # Transfer current chunk\n",
    "        dma.sendchannel.transfer(input_buffer[start_row * width * channels:end_row * width * channels])\n",
    "        dma.recvchannel.transfer(output_buffer[start_row * width * channels:end_row * width * channels])\n",
    "\n",
    "        # Wait for transfer to complete\n",
    "        dma.sendchannel.wait()\n",
    "        dma.recvchannel.wait()\n",
    "\n",
    "    # Convert the output buffer to a numpy array for the processed image\n",
    "    processed_image = np.reshape(output_buffer[:height * width * channels], (height, width, channels))\n",
    "\n",
    "    # Send the processed image back to the client\n",
    "    conn.sendall(output_buffer[:height * width * channels])\n",
    "\n",
    "    # Increment image count\n",
    "    num_images_processed += 1\n",
    "\n",
    "# End timer for total image processing\n",
    "overall_end_time = time.time()  \n",
    "total_fpga_processing_time = overall_end_time - overall_start_time\n",
    "\n",
    "# After all images are processed, calculate the throughput\n",
    "if num_images_processed > 0:\n",
    "    throughput = num_images_processed / total_fpga_processing_time  # Images per second\n",
    "    print(f\"Total images processed: {num_images_processed}\")\n",
    "    print(f\"Total FPGA processing time: {total_fpga_processing_time:.6f} seconds\")\n",
    "    print(f\"Throughput: {throughput:.2f} images per second\")\n",
    "else:\n",
    "    print(\"No images were processed.\")\n",
    "\n",
    "# Close connections and destroy windows\n",
    "conn.close()\n",
    "server_socket.close()\n"
   ]
  },
  {
   "cell_type": "code",
   "execution_count": 3,
   "id": "62cc87f6",
   "metadata": {},
   "outputs": [
    {
     "name": "stdout",
     "output_type": "stream",
     "text": [
      "PING 8.8.8.8 (8.8.8.8) 56(84) bytes of data.\n",
      "\n",
      "--- 8.8.8.8 ping statistics ---\n",
      "4 packets transmitted, 0 received, 100% packet loss, time 3082ms\n",
      "\n"
     ]
    }
   ],
   "source": [
    "!ping 8.8.8.8 -c 4"
   ]
  },
  {
   "cell_type": "code",
   "execution_count": 1,
   "id": "4bd5da25",
   "metadata": {},
   "outputs": [
    {
     "data": {
      "application/javascript": [
       "\n",
       "try {\n",
       "require(['notebook/js/codecell'], function(codecell) {\n",
       "  codecell.CodeCell.options_default.highlight_modes[\n",
       "      'magic_text/x-csrc'] = {'reg':[/^%%microblaze/]};\n",
       "  Jupyter.notebook.events.one('kernel_ready.Kernel', function(){\n",
       "      Jupyter.notebook.get_cells().map(function(cell){\n",
       "          if (cell.cell_type == 'code'){ cell.auto_highlight(); } }) ;\n",
       "  });\n",
       "});\n",
       "} catch (e) {};\n"
      ]
     },
     "metadata": {},
     "output_type": "display_data"
    },
    {
     "data": {
      "application/javascript": [
       "\n",
       "try {\n",
       "require(['notebook/js/codecell'], function(codecell) {\n",
       "  codecell.CodeCell.options_default.highlight_modes[\n",
       "      'magic_text/x-csrc'] = {'reg':[/^%%pybind11/]};\n",
       "  Jupyter.notebook.events.one('kernel_ready.Kernel', function(){\n",
       "      Jupyter.notebook.get_cells().map(function(cell){\n",
       "          if (cell.cell_type == 'code'){ cell.auto_highlight(); } }) ;\n",
       "  });\n",
       "});\n",
       "} catch (e) {};\n"
      ]
     },
     "metadata": {},
     "output_type": "display_data"
    },
    {
     "name": "stdout",
     "output_type": "stream",
     "text": [
      "dict_keys(['axi_dma_0', 'processing_system7_0'])\n"
     ]
    }
   ],
   "source": [
    "from pynq import Overlay\n",
    "overlay = Overlay(\"Dimmer.bit\")\n",
    "print(overlay.ip_dict.keys())"
   ]
  }
 ],
 "metadata": {
  "kernelspec": {
   "display_name": "Python 3 (ipykernel)",
   "language": "python",
   "name": "python3"
  },
  "language_info": {
   "codemirror_mode": {
    "name": "ipython",
    "version": 3
   },
   "file_extension": ".py",
   "mimetype": "text/x-python",
   "name": "python",
   "nbconvert_exporter": "python",
   "pygments_lexer": "ipython3",
   "version": "3.10.4"
  }
 },
 "nbformat": 4,
 "nbformat_minor": 5
}
