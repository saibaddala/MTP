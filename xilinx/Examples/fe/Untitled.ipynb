{
 "cells": [
  {
   "cell_type": "code",
   "execution_count": 3,
   "id": "01a979f2",
   "metadata": {},
   "outputs": [
    {
     "ename": "AttributeError",
     "evalue": "Could not find IP or hierarchy axi_fifo_in in overlay",
     "output_type": "error",
     "traceback": [
      "\u001b[0;31m---------------------------------------------------------------------------\u001b[0m",
      "\u001b[0;31mAttributeError\u001b[0m                            Traceback (most recent call last)",
      "Input \u001b[0;32mIn [3]\u001b[0m, in \u001b[0;36m<cell line: 10>\u001b[0;34m()\u001b[0m\n\u001b[1;32m      7\u001b[0m overlay\u001b[38;5;241m.\u001b[39mdownload()\n\u001b[1;32m      9\u001b[0m \u001b[38;5;66;03m# 2. Reference to FIFO IPs\u001b[39;00m\n\u001b[0;32m---> 10\u001b[0m fifo_in \u001b[38;5;241m=\u001b[39m \u001b[43moverlay\u001b[49m\u001b[38;5;241;43m.\u001b[39;49m\u001b[43maxi_fifo_in\u001b[49m  \u001b[38;5;66;03m# change if names differ\u001b[39;00m\n\u001b[1;32m     11\u001b[0m fifo_out \u001b[38;5;241m=\u001b[39m overlay\u001b[38;5;241m.\u001b[39maxi_fifo_out\n\u001b[1;32m     13\u001b[0m \u001b[38;5;66;03m# 3. Generate dummy packet data (64-bit = 8 bytes per word)\u001b[39;00m\n",
      "File \u001b[0;32m/usr/local/share/pynq-venv/lib/python3.10/site-packages/pynq/overlay.py:363\u001b[0m, in \u001b[0;36mOverlay.__getattr__\u001b[0;34m(self, key)\u001b[0m\n\u001b[1;32m    358\u001b[0m \u001b[38;5;124;03m\"\"\"Overload of __getattr__ to return a driver for an IP or\u001b[39;00m\n\u001b[1;32m    359\u001b[0m \u001b[38;5;124;03mhierarchy. Throws an `RuntimeError` if the overlay is not loaded.\u001b[39;00m\n\u001b[1;32m    360\u001b[0m \n\u001b[1;32m    361\u001b[0m \u001b[38;5;124;03m\"\"\"\u001b[39;00m\n\u001b[1;32m    362\u001b[0m \u001b[38;5;28;01mif\u001b[39;00m \u001b[38;5;28mself\u001b[39m\u001b[38;5;241m.\u001b[39mis_loaded():\n\u001b[0;32m--> 363\u001b[0m     \u001b[38;5;28;01mreturn\u001b[39;00m \u001b[38;5;28;43mgetattr\u001b[39;49m\u001b[43m(\u001b[49m\u001b[38;5;28;43mself\u001b[39;49m\u001b[38;5;241;43m.\u001b[39;49m\u001b[43m_ip_map\u001b[49m\u001b[43m,\u001b[49m\u001b[43m \u001b[49m\u001b[43mkey\u001b[49m\u001b[43m)\u001b[49m\n\u001b[1;32m    364\u001b[0m \u001b[38;5;28;01melse\u001b[39;00m:\n\u001b[1;32m    365\u001b[0m     \u001b[38;5;28;01mraise\u001b[39;00m \u001b[38;5;167;01mRuntimeError\u001b[39;00m(\u001b[38;5;124m\"\u001b[39m\u001b[38;5;124mOverlay not currently loaded\u001b[39m\u001b[38;5;124m\"\u001b[39m)\n",
      "File \u001b[0;32m/usr/local/share/pynq-venv/lib/python3.10/site-packages/pynq/overlay.py:931\u001b[0m, in \u001b[0;36m_IPMap.__getattr__\u001b[0;34m(self, key)\u001b[0m\n\u001b[1;32m    929\u001b[0m     \u001b[38;5;28;01mreturn\u001b[39;00m mem\n\u001b[1;32m    930\u001b[0m \u001b[38;5;28;01melse\u001b[39;00m:\n\u001b[0;32m--> 931\u001b[0m     \u001b[38;5;28;01mraise\u001b[39;00m \u001b[38;5;167;01mAttributeError\u001b[39;00m(\n\u001b[1;32m    932\u001b[0m         \u001b[38;5;124m\"\u001b[39m\u001b[38;5;124mCould not find IP or hierarchy \u001b[39m\u001b[38;5;132;01m{}\u001b[39;00m\u001b[38;5;124m in overlay\u001b[39m\u001b[38;5;124m\"\u001b[39m\u001b[38;5;241m.\u001b[39mformat(key)\n\u001b[1;32m    933\u001b[0m     )\n",
      "\u001b[0;31mAttributeError\u001b[0m: Could not find IP or hierarchy axi_fifo_in in overlay"
     ]
    }
   ],
   "source": [
    "from pynq import Overlay, allocate\n",
    "import numpy as np\n",
    "import time\n",
    "\n",
    "# 1. Load the overlay\n",
    "overlay = Overlay(\"fe.bit\")\n",
    "overlay.download()\n",
    "\n",
    "# 2. Reference to FIFO IPs\n",
    "fifo_in = overlay.axi_fifo_in  # change if names differ\n",
    "fifo_out = overlay.axi_fifo_out\n",
    "\n",
    "# 3. Generate dummy packet data (64-bit = 8 bytes per word)\n",
    "packet_count = 100\n",
    "packet_length_bytes = 40  # each packet\n",
    "words_per_packet = packet_length_bytes // 8\n",
    "\n",
    "# Create stream of 100 packets, each with 5x 64-bit words\n",
    "input_data = []\n",
    "for i in range(packet_count):\n",
    "    pkt = np.random.randint(0, 2**64, size=words_per_packet, dtype=np.uint64)\n",
    "    input_data.extend(pkt)\n",
    "\n",
    "input_buffer = allocate(shape=(len(input_data),), dtype=np.uint64)\n",
    "input_buffer[:] = input_data\n",
    "\n",
    "# 4. Send data into AXI-Stream FIFO\n",
    "print(\"[INFO] Sending packets to feature extractor...\")\n",
    "fifo_in.write(input_buffer)\n",
    "\n",
    "# 5. Wait briefly for processing\n",
    "time.sleep(0.5)\n",
    "\n",
    "# 6. Read output from AXI-Stream FIFO\n",
    "# Assuming 1 feature per packet as 32-bit value\n",
    "output_buffer = allocate(shape=(packet_count,), dtype=np.uint32)\n",
    "fifo_out.read(output_buffer)\n",
    "\n",
    "# 7. Display features\n",
    "print(\"[INFO] Received features:\")\n",
    "for i, feat in enumerate(output_buffer):\n",
    "    print(f\"Packet {i+1:03d}: Feature = {feat}\")\n",
    "\n",
    "# 8. Cleanup\n",
    "input_buffer.freebuffer()\n",
    "output_buffer.freebuffer()\n"
   ]
  },
  {
   "cell_type": "code",
   "execution_count": 2,
   "id": "9d358130",
   "metadata": {},
   "outputs": [
    {
     "ename": "RuntimeError",
     "evalue": "Unable to parse metadata",
     "output_type": "error",
     "traceback": [
      "\u001b[0;31m---------------------------------------------------------------------------\u001b[0m",
      "\u001b[0;31mFileNotFoundError\u001b[0m                         Traceback (most recent call last)",
      "File \u001b[0;32m/usr/local/share/pynq-venv/lib/python3.10/site-packages/pynq/pl_server/embedded_device.py:252\u001b[0m, in \u001b[0;36mBitstreamHandler.get_parser\u001b[0;34m(self, partial)\u001b[0m\n\u001b[1;32m    251\u001b[0m \u001b[38;5;28;01mtry\u001b[39;00m:\n\u001b[0;32m--> 252\u001b[0m     parser \u001b[38;5;241m=\u001b[39m \u001b[38;5;28;43mself\u001b[39;49m\u001b[38;5;241;43m.\u001b[39;49m\u001b[43m_get_cache\u001b[49m\u001b[43m(\u001b[49m\u001b[43m)\u001b[49m \n\u001b[1;32m    253\u001b[0m \u001b[38;5;28;01mexcept\u001b[39;00m CacheMetadataError:\n",
      "File \u001b[0;32m/usr/local/share/pynq-venv/lib/python3.10/site-packages/pynq/pl_server/embedded_device.py:205\u001b[0m, in \u001b[0;36mBitstreamHandler._get_cache\u001b[0;34m(self)\u001b[0m\n\u001b[1;32m    204\u001b[0m \u001b[38;5;124;03m\"\"\" Tries to return the Cached data \"\"\"\u001b[39;00m\n\u001b[0;32m--> 205\u001b[0m \u001b[38;5;28;01mif\u001b[39;00m \u001b[38;5;28;43mself\u001b[39;49m\u001b[38;5;241;43m.\u001b[39;49m\u001b[43m_cache_exists\u001b[49m\u001b[43m(\u001b[49m\u001b[43m)\u001b[49m:\n\u001b[1;32m    206\u001b[0m     metadata_state_file \u001b[38;5;241m=\u001b[39m Path(\u001b[38;5;124mf\u001b[39m\u001b[38;5;124m\"\u001b[39m\u001b[38;5;132;01m{\u001b[39;00mos\u001b[38;5;241m.\u001b[39mpath\u001b[38;5;241m.\u001b[39mdirname(\u001b[38;5;18m__file__\u001b[39m)\u001b[38;5;132;01m}\u001b[39;00m\u001b[38;5;124m/_current_metadata.pkl\u001b[39m\u001b[38;5;124m\"\u001b[39m)\n",
      "File \u001b[0;32m/usr/local/share/pynq-venv/lib/python3.10/site-packages/pynq/pl_server/embedded_device.py:192\u001b[0m, in \u001b[0;36mBitstreamHandler._cache_exists\u001b[0;34m(self)\u001b[0m\n\u001b[1;32m    191\u001b[0m \u001b[38;5;28;01mif\u001b[39;00m global_state_file_exists():\n\u001b[0;32m--> 192\u001b[0m     glob_state \u001b[38;5;241m=\u001b[39m \u001b[43mload_global_state\u001b[49m\u001b[43m(\u001b[49m\u001b[43m)\u001b[49m\n\u001b[1;32m    193\u001b[0m     \u001b[38;5;28;01mreturn\u001b[39;00m glob_state\u001b[38;5;241m.\u001b[39mbitfile_hash \u001b[38;5;241m==\u001b[39m bitstream_hash(\u001b[38;5;28mself\u001b[39m\u001b[38;5;241m.\u001b[39m_filepath)\n",
      "File \u001b[0;32m/usr/local/share/pynq-venv/lib/python3.10/site-packages/pynq/pl_server/global_state.py:91\u001b[0m, in \u001b[0;36mload_global_state\u001b[0;34m()\u001b[0m\n\u001b[1;32m     90\u001b[0m     jdict \u001b[38;5;241m=\u001b[39m json\u001b[38;5;241m.\u001b[39mload(state_file)\n\u001b[0;32m---> 91\u001b[0m     \u001b[38;5;28;01mreturn\u001b[39;00m \u001b[43mGlobalState\u001b[49m\u001b[38;5;241;43m.\u001b[39;49m\u001b[43mparse_obj\u001b[49m\u001b[43m(\u001b[49m\u001b[43mjdict\u001b[49m\u001b[43m)\u001b[49m\n\u001b[1;32m     92\u001b[0m \u001b[38;5;28;01mreturn\u001b[39;00m \u001b[38;5;28;01mNone\u001b[39;00m\n",
      "File \u001b[0;32m/usr/local/share/pynq-venv/lib/python3.10/site-packages/pydantic/main.py:521\u001b[0m, in \u001b[0;36mBaseModel.parse_obj\u001b[0;34m(cls, obj)\u001b[0m\n\u001b[1;32m    520\u001b[0m         \u001b[38;5;28;01mraise\u001b[39;00m ValidationError([ErrorWrapper(exc, loc\u001b[38;5;241m=\u001b[39mROOT_KEY)], \u001b[38;5;28mcls\u001b[39m) \u001b[38;5;28;01mfrom\u001b[39;00m \u001b[38;5;21;01me\u001b[39;00m\n\u001b[0;32m--> 521\u001b[0m \u001b[38;5;28;01mreturn\u001b[39;00m \u001b[38;5;28;43mcls\u001b[39;49m\u001b[43m(\u001b[49m\u001b[38;5;241;43m*\u001b[39;49m\u001b[38;5;241;43m*\u001b[39;49m\u001b[43mobj\u001b[49m\u001b[43m)\u001b[49m\n",
      "File \u001b[0;32m/usr/local/share/pynq-venv/lib/python3.10/site-packages/pynq/pl_server/global_state.py:49\u001b[0m, in \u001b[0;36mGlobalState.__init__\u001b[0;34m(self, **kwargs)\u001b[0m\n\u001b[1;32m     48\u001b[0m \u001b[38;5;28msuper\u001b[39m()\u001b[38;5;241m.\u001b[39m\u001b[38;5;21m__init__\u001b[39m(\u001b[38;5;241m*\u001b[39m\u001b[38;5;241m*\u001b[39mkwargs)\n\u001b[0;32m---> 49\u001b[0m \u001b[38;5;28mself\u001b[39m\u001b[38;5;241m.\u001b[39mbitfile_hash \u001b[38;5;241m=\u001b[39m \u001b[43mbitstream_hash\u001b[49m\u001b[43m(\u001b[49m\u001b[38;5;28;43mself\u001b[39;49m\u001b[38;5;241;43m.\u001b[39;49m\u001b[43mbitfile_name\u001b[49m\u001b[43m)\u001b[49m\n",
      "File \u001b[0;32m/usr/local/share/pynq-venv/lib/python3.10/site-packages/pynq/pl_server/global_state.py:22\u001b[0m, in \u001b[0;36mbitstream_hash\u001b[0;34m(filename)\u001b[0m\n\u001b[1;32m     21\u001b[0m h \u001b[38;5;241m=\u001b[39m hashlib\u001b[38;5;241m.\u001b[39msha1()\n\u001b[0;32m---> 22\u001b[0m \u001b[38;5;28;01mwith\u001b[39;00m \u001b[38;5;28;43mopen\u001b[39;49m\u001b[43m(\u001b[49m\u001b[43mfilename\u001b[49m\u001b[43m,\u001b[49m\u001b[43m \u001b[49m\u001b[38;5;124;43m'\u001b[39;49m\u001b[38;5;124;43mrb\u001b[39;49m\u001b[38;5;124;43m'\u001b[39;49m\u001b[43m)\u001b[49m \u001b[38;5;28;01mas\u001b[39;00m file:\n\u001b[1;32m     23\u001b[0m     chunk\u001b[38;5;241m=\u001b[39m\u001b[38;5;241m0\u001b[39m\n",
      "\u001b[0;31mFileNotFoundError\u001b[0m: [Errno 2] No such file or directory: '/home/xilinx/jupyter_notebooks/Examples/fe/fe.bit'",
      "\nDuring handling of the above exception, another exception occurred:\n",
      "\u001b[0;31mRuntimeError\u001b[0m                              Traceback (most recent call last)",
      "Input \u001b[0;32mIn [2]\u001b[0m, in \u001b[0;36m<cell line: 2>\u001b[0;34m()\u001b[0m\n\u001b[1;32m      1\u001b[0m \u001b[38;5;28;01mfrom\u001b[39;00m \u001b[38;5;21;01mpynq\u001b[39;00m \u001b[38;5;28;01mimport\u001b[39;00m Overlay\n\u001b[0;32m----> 2\u001b[0m overlay \u001b[38;5;241m=\u001b[39m \u001b[43mOverlay\u001b[49m\u001b[43m(\u001b[49m\u001b[38;5;124;43m\"\u001b[39;49m\u001b[38;5;124;43mfe_h.bit\u001b[39;49m\u001b[38;5;124;43m\"\u001b[39;49m\u001b[43m)\u001b[49m\n\u001b[1;32m      3\u001b[0m overlay\u001b[38;5;241m.\u001b[39mdownload()\n\u001b[1;32m      4\u001b[0m \u001b[38;5;28mprint\u001b[39m(overlay\u001b[38;5;241m.\u001b[39mip_dict\u001b[38;5;241m.\u001b[39mkeys())\n",
      "File \u001b[0;32m/usr/local/share/pynq-venv/lib/python3.10/site-packages/pynq/overlay.py:319\u001b[0m, in \u001b[0;36mOverlay.__init__\u001b[0;34m(self, bitfile_name, dtbo, download, ignore_version, device, gen_cache)\u001b[0m\n\u001b[1;32m    315\u001b[0m \u001b[38;5;28msuper\u001b[39m()\u001b[38;5;241m.\u001b[39m\u001b[38;5;21m__init__\u001b[39m(bitfile_name, dtbo, partial\u001b[38;5;241m=\u001b[39m\u001b[38;5;28;01mFalse\u001b[39;00m, device\u001b[38;5;241m=\u001b[39mdevice)\n\u001b[1;32m    317\u001b[0m \u001b[38;5;28mself\u001b[39m\u001b[38;5;241m.\u001b[39m_register_drivers()\n\u001b[0;32m--> 319\u001b[0m \u001b[38;5;28;43mself\u001b[39;49m\u001b[38;5;241;43m.\u001b[39;49m\u001b[43mdevice\u001b[49m\u001b[38;5;241;43m.\u001b[39;49m\u001b[43mset_bitfile_name\u001b[49m\u001b[43m(\u001b[49m\u001b[38;5;28;43mself\u001b[39;49m\u001b[38;5;241;43m.\u001b[39;49m\u001b[43mbitfile_name\u001b[49m\u001b[43m)\u001b[49m\n\u001b[1;32m    320\u001b[0m \u001b[38;5;28mself\u001b[39m\u001b[38;5;241m.\u001b[39mparser \u001b[38;5;241m=\u001b[39m \u001b[38;5;28mself\u001b[39m\u001b[38;5;241m.\u001b[39mdevice\u001b[38;5;241m.\u001b[39mparser\n\u001b[1;32m    322\u001b[0m \u001b[38;5;28mself\u001b[39m\u001b[38;5;241m.\u001b[39mip_dict \u001b[38;5;241m=\u001b[39m (\n\u001b[1;32m    323\u001b[0m     \u001b[38;5;28mself\u001b[39m\u001b[38;5;241m.\u001b[39mgpio_dict\n\u001b[1;32m    324\u001b[0m ) \u001b[38;5;241m=\u001b[39m (\n\u001b[1;32m    325\u001b[0m     \u001b[38;5;28mself\u001b[39m\u001b[38;5;241m.\u001b[39minterrupt_controllers\n\u001b[1;32m    326\u001b[0m ) \u001b[38;5;241m=\u001b[39m \u001b[38;5;28mself\u001b[39m\u001b[38;5;241m.\u001b[39minterrupt_pins \u001b[38;5;241m=\u001b[39m \u001b[38;5;28mself\u001b[39m\u001b[38;5;241m.\u001b[39mhierarchy_dict \u001b[38;5;241m=\u001b[39m \u001b[38;5;28mdict\u001b[39m()\n",
      "File \u001b[0;32m/usr/local/share/pynq-venv/lib/python3.10/site-packages/pynq/pl_server/device.py:118\u001b[0m, in \u001b[0;36mDevice.set_bitfile_name\u001b[0;34m(self, bitfile_name)\u001b[0m\n\u001b[1;32m    116\u001b[0m \u001b[38;5;28;01mdef\u001b[39;00m \u001b[38;5;21mset_bitfile_name\u001b[39m(\u001b[38;5;28mself\u001b[39m, bitfile_name: \u001b[38;5;28mstr\u001b[39m) \u001b[38;5;241m-\u001b[39m\u001b[38;5;241m>\u001b[39m \u001b[38;5;28;01mNone\u001b[39;00m:\n\u001b[1;32m    117\u001b[0m     \u001b[38;5;28mself\u001b[39m\u001b[38;5;241m.\u001b[39mbitfile_name \u001b[38;5;241m=\u001b[39m bitfile_name\n\u001b[0;32m--> 118\u001b[0m     \u001b[38;5;28mself\u001b[39m\u001b[38;5;241m.\u001b[39mparser \u001b[38;5;241m=\u001b[39m \u001b[38;5;28;43mself\u001b[39;49m\u001b[38;5;241;43m.\u001b[39;49m\u001b[43mget_bitfile_metadata\u001b[49m\u001b[43m(\u001b[49m\u001b[38;5;28;43mself\u001b[39;49m\u001b[38;5;241;43m.\u001b[39;49m\u001b[43mbitfile_name\u001b[49m\u001b[43m)\u001b[49m\n\u001b[1;32m    119\u001b[0m     \u001b[38;5;28mself\u001b[39m\u001b[38;5;241m.\u001b[39mmem_dict \u001b[38;5;241m=\u001b[39m \u001b[38;5;28mself\u001b[39m\u001b[38;5;241m.\u001b[39mparser\u001b[38;5;241m.\u001b[39mmem_dict\n\u001b[1;32m    120\u001b[0m     \u001b[38;5;28mself\u001b[39m\u001b[38;5;241m.\u001b[39mip_dict \u001b[38;5;241m=\u001b[39m \u001b[38;5;28mself\u001b[39m\u001b[38;5;241m.\u001b[39mparser\u001b[38;5;241m.\u001b[39mip_dict\n",
      "File \u001b[0;32m/usr/local/share/pynq-venv/lib/python3.10/site-packages/pynq/pl_server/embedded_device.py:690\u001b[0m, in \u001b[0;36mEmbeddedDevice.get_bitfile_metadata\u001b[0;34m(self, bitfile_name, partial)\u001b[0m\n\u001b[1;32m    689\u001b[0m \u001b[38;5;28;01mdef\u001b[39;00m \u001b[38;5;21mget_bitfile_metadata\u001b[39m(\u001b[38;5;28mself\u001b[39m, bitfile_name:\u001b[38;5;28mstr\u001b[39m, partial:\u001b[38;5;28mbool\u001b[39m\u001b[38;5;241m=\u001b[39m\u001b[38;5;28;01mFalse\u001b[39;00m):\n\u001b[0;32m--> 690\u001b[0m     parser \u001b[38;5;241m=\u001b[39m \u001b[43m_get_bitstream_handler\u001b[49m\u001b[43m(\u001b[49m\u001b[43mbitfile_name\u001b[49m\u001b[43m)\u001b[49m\u001b[38;5;241;43m.\u001b[39;49m\u001b[43mget_parser\u001b[49m\u001b[43m(\u001b[49m\u001b[43mpartial\u001b[49m\u001b[38;5;241;43m=\u001b[39;49m\u001b[43mpartial\u001b[49m\u001b[43m)\u001b[49m\n\u001b[1;32m    691\u001b[0m     \u001b[38;5;28;01mif\u001b[39;00m parser \u001b[38;5;129;01mis\u001b[39;00m \u001b[38;5;28;01mNone\u001b[39;00m:\n\u001b[1;32m    692\u001b[0m         \u001b[38;5;28;01mraise\u001b[39;00m \u001b[38;5;167;01mRuntimeError\u001b[39;00m(\u001b[38;5;124m\"\u001b[39m\u001b[38;5;124mUnable to find metadata for bitstream\u001b[39m\u001b[38;5;124m\"\u001b[39m)\n",
      "File \u001b[0;32m/usr/local/share/pynq-venv/lib/python3.10/site-packages/pynq/pl_server/embedded_device.py:256\u001b[0m, in \u001b[0;36mBitstreamHandler.get_parser\u001b[0;34m(self, partial)\u001b[0m\n\u001b[1;32m    254\u001b[0m         parser \u001b[38;5;241m=\u001b[39m RuntimeMetadataParser(Metadata(\u001b[38;5;28minput\u001b[39m\u001b[38;5;241m=\u001b[39m\u001b[38;5;28mself\u001b[39m\u001b[38;5;241m.\u001b[39m_filepath\u001b[38;5;241m.\u001b[39mwith_suffix(\u001b[38;5;124m\"\u001b[39m\u001b[38;5;124m.hwh\u001b[39m\u001b[38;5;124m\"\u001b[39m)))\n\u001b[1;32m    255\u001b[0m     \u001b[38;5;28;01mexcept\u001b[39;00m:\n\u001b[0;32m--> 256\u001b[0m         \u001b[38;5;28;01mraise\u001b[39;00m \u001b[38;5;167;01mRuntimeError\u001b[39;00m(\u001b[38;5;124mf\u001b[39m\u001b[38;5;124m\"\u001b[39m\u001b[38;5;124mUnable to parse metadata\u001b[39m\u001b[38;5;124m\"\u001b[39m)\n\u001b[1;32m    258\u001b[0m \u001b[38;5;28;01mif\u001b[39;00m xclbin_data \u001b[38;5;129;01mis\u001b[39;00m \u001b[38;5;28;01mNone\u001b[39;00m:\n\u001b[1;32m    259\u001b[0m     xclbin_data \u001b[38;5;241m=\u001b[39m _create_xclbin(parser\u001b[38;5;241m.\u001b[39mmem_dict)\n",
      "\u001b[0;31mRuntimeError\u001b[0m: Unable to parse metadata"
     ]
    }
   ],
   "source": [
    "from pynq import Overlay\n",
    "overlay = Overlay(\"fe_h.bit\")\n",
    "overlay.download()\n",
    "print(overlay.ip_dict.keys())\n"
   ]
  }
 ],
 "metadata": {
  "kernelspec": {
   "display_name": "Python 3 (ipykernel)",
   "language": "python",
   "name": "python3"
  },
  "language_info": {
   "codemirror_mode": {
    "name": "ipython",
    "version": 3
   },
   "file_extension": ".py",
   "mimetype": "text/x-python",
   "name": "python",
   "nbconvert_exporter": "python",
   "pygments_lexer": "ipython3",
   "version": "3.10.4"
  }
 },
 "nbformat": 4,
 "nbformat_minor": 5
}
