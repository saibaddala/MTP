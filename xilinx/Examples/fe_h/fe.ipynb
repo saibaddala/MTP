{
 "cells": [
  {
   "cell_type": "code",
   "execution_count": 6,
   "id": "ed75ccad",
   "metadata": {},
   "outputs": [
    {
     "name": "stdout",
     "output_type": "stream",
     "text": [
      "dict_keys(['processing_system7_0'])\n"
     ]
    }
   ],
   "source": [
    "from pynq import Overlay\n",
    "overlay = Overlay(\"fe_h.bit\")\n",
    "print(overlay.ip_dict.keys())"
   ]
  },
  {
   "cell_type": "code",
   "execution_count": 9,
   "id": "193fa751",
   "metadata": {},
   "outputs": [
    {
     "ename": "AttributeError",
     "evalue": "Could not find IP or hierarchy axis_data_fifo_0 in overlay",
     "output_type": "error",
     "traceback": [
      "\u001b[0;31m---------------------------------------------------------------------------\u001b[0m",
      "\u001b[0;31mAttributeError\u001b[0m                            Traceback (most recent call last)",
      "Input \u001b[0;32mIn [9]\u001b[0m, in \u001b[0;36m<cell line: 10>\u001b[0;34m()\u001b[0m\n\u001b[1;32m      7\u001b[0m overlay\u001b[38;5;241m.\u001b[39mdownload()\n\u001b[1;32m      9\u001b[0m \u001b[38;5;66;03m# 2. Reference to FIFO IPs\u001b[39;00m\n\u001b[0;32m---> 10\u001b[0m fifo_in \u001b[38;5;241m=\u001b[39m \u001b[43moverlay\u001b[49m\u001b[38;5;241;43m.\u001b[39;49m\u001b[43maxis_data_fifo_0\u001b[49m  \u001b[38;5;66;03m# check exact name from .ipynb or overlay.ip_dict\u001b[39;00m\n\u001b[1;32m     11\u001b[0m fifo_out \u001b[38;5;241m=\u001b[39m overlay\u001b[38;5;241m.\u001b[39maxis_data_fifo_0\n\u001b[1;32m     13\u001b[0m \u001b[38;5;66;03m# 3. Generate dummy packet data (64-bit per word)\u001b[39;00m\n",
      "File \u001b[0;32m/usr/local/share/pynq-venv/lib/python3.10/site-packages/pynq/overlay.py:363\u001b[0m, in \u001b[0;36mOverlay.__getattr__\u001b[0;34m(self, key)\u001b[0m\n\u001b[1;32m    358\u001b[0m \u001b[38;5;124;03m\"\"\"Overload of __getattr__ to return a driver for an IP or\u001b[39;00m\n\u001b[1;32m    359\u001b[0m \u001b[38;5;124;03mhierarchy. Throws an `RuntimeError` if the overlay is not loaded.\u001b[39;00m\n\u001b[1;32m    360\u001b[0m \n\u001b[1;32m    361\u001b[0m \u001b[38;5;124;03m\"\"\"\u001b[39;00m\n\u001b[1;32m    362\u001b[0m \u001b[38;5;28;01mif\u001b[39;00m \u001b[38;5;28mself\u001b[39m\u001b[38;5;241m.\u001b[39mis_loaded():\n\u001b[0;32m--> 363\u001b[0m     \u001b[38;5;28;01mreturn\u001b[39;00m \u001b[38;5;28;43mgetattr\u001b[39;49m\u001b[43m(\u001b[49m\u001b[38;5;28;43mself\u001b[39;49m\u001b[38;5;241;43m.\u001b[39;49m\u001b[43m_ip_map\u001b[49m\u001b[43m,\u001b[49m\u001b[43m \u001b[49m\u001b[43mkey\u001b[49m\u001b[43m)\u001b[49m\n\u001b[1;32m    364\u001b[0m \u001b[38;5;28;01melse\u001b[39;00m:\n\u001b[1;32m    365\u001b[0m     \u001b[38;5;28;01mraise\u001b[39;00m \u001b[38;5;167;01mRuntimeError\u001b[39;00m(\u001b[38;5;124m\"\u001b[39m\u001b[38;5;124mOverlay not currently loaded\u001b[39m\u001b[38;5;124m\"\u001b[39m)\n",
      "File \u001b[0;32m/usr/local/share/pynq-venv/lib/python3.10/site-packages/pynq/overlay.py:931\u001b[0m, in \u001b[0;36m_IPMap.__getattr__\u001b[0;34m(self, key)\u001b[0m\n\u001b[1;32m    929\u001b[0m     \u001b[38;5;28;01mreturn\u001b[39;00m mem\n\u001b[1;32m    930\u001b[0m \u001b[38;5;28;01melse\u001b[39;00m:\n\u001b[0;32m--> 931\u001b[0m     \u001b[38;5;28;01mraise\u001b[39;00m \u001b[38;5;167;01mAttributeError\u001b[39;00m(\n\u001b[1;32m    932\u001b[0m         \u001b[38;5;124m\"\u001b[39m\u001b[38;5;124mCould not find IP or hierarchy \u001b[39m\u001b[38;5;132;01m{}\u001b[39;00m\u001b[38;5;124m in overlay\u001b[39m\u001b[38;5;124m\"\u001b[39m\u001b[38;5;241m.\u001b[39mformat(key)\n\u001b[1;32m    933\u001b[0m     )\n",
      "\u001b[0;31mAttributeError\u001b[0m: Could not find IP or hierarchy axis_data_fifo_0 in overlay"
     ]
    }
   ],
   "source": [
    "from pynq import Overlay, allocate\n",
    "import numpy as np\n",
    "import time\n",
    "\n",
    "# 1. Load the overlay\n",
    "overlay = Overlay(\"fe_h.bit\")\n",
    "overlay.download()\n",
    "\n",
    "# 2. Reference to FIFO IPs\n",
    "fifo_in = overlay.axis_data_fifo_0  # check exact name from .ipynb or overlay.ip_dict\n",
    "fifo_out = overlay.axis_data_fifo_0\n",
    "\n",
    "# 3. Generate dummy packet data (64-bit per word)\n",
    "packet_count = 100\n",
    "packet_length_bytes = 40\n",
    "words_per_packet = packet_length_bytes // 8\n",
    "\n",
    "input_data = []\n",
    "for _ in range(packet_count):\n",
    "    pkt = np.random.randint(0, 2**64, size=words_per_packet, dtype=np.uint64)\n",
    "    input_data.extend(pkt)\n",
    "\n",
    "input_buffer = allocate(shape=(len(input_data),), dtype=np.uint64)\n",
    "input_buffer[:] = input_data\n",
    "\n",
    "# 4. Send input to FIFO\n",
    "print(\"[INFO] Sending packets...\")\n",
    "fifo_in.write(input_buffer)\n",
    "\n",
    "# 5. Wait for processing\n",
    "time.sleep(0.5)\n",
    "\n",
    "# 6. Receive results\n",
    "output_buffer = allocate(shape=(packet_count,), dtype=np.uint32)\n",
    "fifo_out.read(output_buffer)\n",
    "\n",
    "# 7. Print\n",
    "print(\"[INFO] Output features:\")\n",
    "for i, val in enumerate(output_buffer):\n",
    "    print(f\"Packet {i+1:03d}: Feature = {val}\")\n",
    "\n",
    "# 8. Cleanup\n",
    "input_buffer.freebuffer()\n",
    "output_buffer.freebuffer()"
   ]
  },
  {
   "cell_type": "code",
   "execution_count": 10,
   "id": "2dd66132",
   "metadata": {},
   "outputs": [
    {
     "ename": "AttributeError",
     "evalue": "Could not find IP or hierarchy axis_data_fifo_0 in overlay",
     "output_type": "error",
     "traceback": [
      "\u001b[0;31m---------------------------------------------------------------------------\u001b[0m",
      "\u001b[0;31mAttributeError\u001b[0m                            Traceback (most recent call last)",
      "Input \u001b[0;32mIn [10]\u001b[0m, in \u001b[0;36m<cell line: 7>\u001b[0;34m()\u001b[0m\n\u001b[1;32m      4\u001b[0m overlay \u001b[38;5;241m=\u001b[39m Overlay(\u001b[38;5;124m\"\u001b[39m\u001b[38;5;124mfe_h.bit\u001b[39m\u001b[38;5;124m\"\u001b[39m)\n\u001b[1;32m      6\u001b[0m \u001b[38;5;66;03m# 2. Reference to FIFO IPs\u001b[39;00m\n\u001b[0;32m----> 7\u001b[0m fifo_in \u001b[38;5;241m=\u001b[39m \u001b[43moverlay\u001b[49m\u001b[38;5;241;43m.\u001b[39;49m\u001b[43maxis_data_fifo_0\u001b[49m  \u001b[38;5;66;03m# check exact name from .ipynb or overlay.ip_dict\u001b[39;00m\n\u001b[1;32m      8\u001b[0m fifo_out \u001b[38;5;241m=\u001b[39m overlay\u001b[38;5;241m.\u001b[39maxis_data_fifo_0\n",
      "File \u001b[0;32m/usr/local/share/pynq-venv/lib/python3.10/site-packages/pynq/overlay.py:363\u001b[0m, in \u001b[0;36mOverlay.__getattr__\u001b[0;34m(self, key)\u001b[0m\n\u001b[1;32m    358\u001b[0m \u001b[38;5;124;03m\"\"\"Overload of __getattr__ to return a driver for an IP or\u001b[39;00m\n\u001b[1;32m    359\u001b[0m \u001b[38;5;124;03mhierarchy. Throws an `RuntimeError` if the overlay is not loaded.\u001b[39;00m\n\u001b[1;32m    360\u001b[0m \n\u001b[1;32m    361\u001b[0m \u001b[38;5;124;03m\"\"\"\u001b[39;00m\n\u001b[1;32m    362\u001b[0m \u001b[38;5;28;01mif\u001b[39;00m \u001b[38;5;28mself\u001b[39m\u001b[38;5;241m.\u001b[39mis_loaded():\n\u001b[0;32m--> 363\u001b[0m     \u001b[38;5;28;01mreturn\u001b[39;00m \u001b[38;5;28;43mgetattr\u001b[39;49m\u001b[43m(\u001b[49m\u001b[38;5;28;43mself\u001b[39;49m\u001b[38;5;241;43m.\u001b[39;49m\u001b[43m_ip_map\u001b[49m\u001b[43m,\u001b[49m\u001b[43m \u001b[49m\u001b[43mkey\u001b[49m\u001b[43m)\u001b[49m\n\u001b[1;32m    364\u001b[0m \u001b[38;5;28;01melse\u001b[39;00m:\n\u001b[1;32m    365\u001b[0m     \u001b[38;5;28;01mraise\u001b[39;00m \u001b[38;5;167;01mRuntimeError\u001b[39;00m(\u001b[38;5;124m\"\u001b[39m\u001b[38;5;124mOverlay not currently loaded\u001b[39m\u001b[38;5;124m\"\u001b[39m)\n",
      "File \u001b[0;32m/usr/local/share/pynq-venv/lib/python3.10/site-packages/pynq/overlay.py:931\u001b[0m, in \u001b[0;36m_IPMap.__getattr__\u001b[0;34m(self, key)\u001b[0m\n\u001b[1;32m    929\u001b[0m     \u001b[38;5;28;01mreturn\u001b[39;00m mem\n\u001b[1;32m    930\u001b[0m \u001b[38;5;28;01melse\u001b[39;00m:\n\u001b[0;32m--> 931\u001b[0m     \u001b[38;5;28;01mraise\u001b[39;00m \u001b[38;5;167;01mAttributeError\u001b[39;00m(\n\u001b[1;32m    932\u001b[0m         \u001b[38;5;124m\"\u001b[39m\u001b[38;5;124mCould not find IP or hierarchy \u001b[39m\u001b[38;5;132;01m{}\u001b[39;00m\u001b[38;5;124m in overlay\u001b[39m\u001b[38;5;124m\"\u001b[39m\u001b[38;5;241m.\u001b[39mformat(key)\n\u001b[1;32m    933\u001b[0m     )\n",
      "\u001b[0;31mAttributeError\u001b[0m: Could not find IP or hierarchy axis_data_fifo_0 in overlay"
     ]
    }
   ],
   "source": [
    "from pynq import Overlay\n",
    "\n",
    "# 1. Load the overlay\n",
    "overlay = Overlay(\"fe_h.bit\")\n",
    "\n",
    "# 2. Reference to FIFO IPs\n",
    "fifo_in = overlay.axis_data_fifo_0  # check exact name from .ipynb or overlay.ip_dict\n",
    "fifo_out = overlay.axis_data_fifo_0"
   ]
  },
  {
   "cell_type": "code",
   "execution_count": null,
   "id": "a406331f",
   "metadata": {},
   "outputs": [],
   "source": []
  }
 ],
 "metadata": {
  "kernelspec": {
   "display_name": "Python 3 (ipykernel)",
   "language": "python",
   "name": "python3"
  },
  "language_info": {
   "codemirror_mode": {
    "name": "ipython",
    "version": 3
   },
   "file_extension": ".py",
   "mimetype": "text/x-python",
   "name": "python",
   "nbconvert_exporter": "python",
   "pygments_lexer": "ipython3",
   "version": "3.10.4"
  }
 },
 "nbformat": 4,
 "nbformat_minor": 5
}
