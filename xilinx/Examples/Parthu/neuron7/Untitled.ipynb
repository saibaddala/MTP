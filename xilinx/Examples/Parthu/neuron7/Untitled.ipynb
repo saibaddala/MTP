{
 "cells": [
  {
   "cell_type": "code",
   "execution_count": null,
   "id": "bed6aaac",
   "metadata": {},
   "outputs": [],
   "source": []
  },
  {
   "cell_type": "code",
   "execution_count": 9,
   "id": "b2b4a419",
   "metadata": {},
   "outputs": [
    {
     "name": "stdout",
     "output_type": "stream",
     "text": [
      "result : 0x0\n",
      "result : 0b0\n"
     ]
    }
   ],
   "source": [
    "\"\"\"\n",
    "module weight(\n",
    "        output [31:0] y\n",
    "    );\n",
    "    reg signed [31:0] w;\n",
    "    reg signed [15:0] weight_mem [0:1];\n",
    "    reg signed [15:0] another;\n",
    "    reg signed [15:0] another2;\n",
    "    initial begin\n",
    "        $readmemh(\"w_2_0.mif\", weight_mem);\n",
    "        another = weight_mem[0];\n",
    "        another2 = weight_mem[1];\n",
    "        w = {another2, another};\n",
    "    end\n",
    "    assign y = {another2, another};\n",
    "endmodule\n",
    "\"\"\"\n",
    "from pynq import Overlay , MMIO\n",
    "overlay = Overlay('ten.bit')\n",
    "gpio_0 = MMIO(0x41200000, 0x10000)\n",
    "\n",
    "result  = gpio_0.read(0x00)\n",
    "print(f\"result : {hex(result)}\")\n",
    "print(f\"result : {bin(result)}\")"
   ]
  },
  {
   "cell_type": "code",
   "execution_count": 10,
   "id": "25922957",
   "metadata": {},
   "outputs": [
    {
     "name": "stdout",
     "output_type": "stream",
     "text": [
      "result : 0x0\n",
      "result : 0b0\n"
     ]
    }
   ],
   "source": [
    "\"\"\"\n",
    "module weight(\n",
    "        output [31:0] y\n",
    "    );\n",
    "    reg signed [31:0] w;\n",
    "    reg signed [15:0] weight_mem [0:1];\n",
    "    reg signed [15:0] another;\n",
    "    reg signed [15:0] another2;\n",
    "    initial begin\n",
    "        $readmemh(\"w_2_0.mif\", weight_mem);\n",
    "        another = weight_mem[0];\n",
    "        another2 = weight_mem[1];\n",
    "        w = {another2, another};\n",
    "    end\n",
    "    assign y = w;\n",
    "endmodule\n",
    "\"\"\"\n",
    "from pynq import Overlay , MMIO\n",
    "overlay = Overlay('nine.bit')\n",
    "gpio_0 = MMIO(0x41200000, 0x10000)\n",
    "\n",
    "result  = gpio_0.read(0x00)\n",
    "print(f\"result : {hex(result)}\")\n",
    "print(f\"result : {bin(result)}\")"
   ]
  },
  {
   "cell_type": "code",
   "execution_count": 11,
   "id": "9a0da614",
   "metadata": {},
   "outputs": [
    {
     "name": "stdout",
     "output_type": "stream",
     "text": [
      "result : 0x250026\n",
      "result : 0b1001010000000000100110\n"
     ]
    }
   ],
   "source": [
    "\"\"\"\n",
    "            module weight(\n",
    "                    output [31:0] y\n",
    "                );\n",
    "                reg signed [31:0] w;\n",
    "                reg signed [15:0] weight_mem [0:1];\n",
    "                reg signed [15:0] another;\n",
    "                initial begin\n",
    "                    $readmemh(\"w_2_0.mif\", weight_mem);\n",
    "                    another = weight_mem[0];\n",
    "                    w = {weight_mem[0], weight_mem[1]};\n",
    "                end\n",
    "                assign y = {weight_mem[1], another};\n",
    "            endmodule\n",
    "\"\"\"\n",
    "from pynq import Overlay , MMIO\n",
    "overlay = Overlay('eight.bit')\n",
    "gpio_0 = MMIO(0x41200000, 0x10000)\n",
    "\n",
    "result  = gpio_0.read(0x00)\n",
    "print(f\"result : {hex(result)}\")\n",
    "print(f\"result : {bin(result)}\")\n"
   ]
  },
  {
   "cell_type": "code",
   "execution_count": 6,
   "id": "ef4d5f70",
   "metadata": {},
   "outputs": [
    {
     "name": "stdout",
     "output_type": "stream",
     "text": [
      "result : 0x250026\n",
      "result : 0b1001010000000000100110\n"
     ]
    }
   ],
   "source": [
    "\"\"\"\n",
    "                module weight(\n",
    "                        output [31:0] y\n",
    "                    );\n",
    "                    reg signed [31:0] w;\n",
    "                    reg signed [15:0] weight_mem [0:1];\n",
    "                    reg signed [15:0] another;\n",
    "                    initial begin\n",
    "                        $readmemh(\"w_2_0.mif\", weight_mem);\n",
    "                        w = {weight_mem[0], weight_mem[1]};\n",
    "                    end\n",
    "                    assign y = {weight_mem[1], weight_mem[0]};\n",
    "                endmodule\n",
    "\"\"\"\n",
    "\n",
    "from pynq import Overlay , MMIO\n",
    "overlay = Overlay('seven.bit')\n",
    "gpio_0 = MMIO(0x41200000, 0x10000)\n",
    "\n",
    "result  = gpio_0.read(0x00)\n",
    "print(f\"result : {hex(result)}\")\n",
    "print(f\"result : {bin(result)}\")"
   ]
  },
  {
   "cell_type": "code",
   "execution_count": 2,
   "id": "bd6b3a75",
   "metadata": {},
   "outputs": [
    {
     "name": "stdout",
     "output_type": "stream",
     "text": [
      "result : 0x0\n",
      "result : 0b0\n"
     ]
    }
   ],
   "source": [
    "\"\"\"\n",
    "                initial begin\n",
    "                    $readmemh(\"w_2_0.mif\", weight_mem);\n",
    "                    another = weight_mem[0];\n",
    "                end \n",
    "                always @(posedge clk or posedge reset) begin\n",
    "                    if(reset) begin\n",
    "                        w <= 32'b0;\n",
    "                        y <= 32'b0;\n",
    "                    end\n",
    "                    else begin\n",
    "                        w = 32'h00250027;\n",
    "                        y <= w;\n",
    "                    end\n",
    "                end\n",
    "\"\"\"\n",
    "from pynq import Overlay , MMIO\n",
    "\n",
    "overlay = Overlay('five.bit')\n",
    "\n",
    "gpio_0_baseaddr = 0x41200000\n",
    "\n",
    "gpio_0 = MMIO(gpio_0_baseaddr,0x10000)\n",
    "\n",
    "result  = gpio_0.read(0x00)\n",
    "print(f\"result : {hex(result)}\")\n",
    "print(f\"result : {bin(result)}\")"
   ]
  },
  {
   "cell_type": "code",
   "execution_count": 3,
   "id": "dc700a47",
   "metadata": {},
   "outputs": [
    {
     "name": "stdout",
     "output_type": "stream",
     "text": [
      "result : 0x250026\n",
      "result : 0b1001010000000000100110\n"
     ]
    }
   ],
   "source": [
    "\"\"\"\n",
    "                module weight(\n",
    "                        output [31:0] y\n",
    "                    );\n",
    "\n",
    "                    reg signed [31:0] w;\n",
    "                    reg signed [15:0] weight_mem [0:1];\n",
    "                    reg signed [15:0] another;\n",
    "                    initial begin\n",
    "                        $readmemh(\"w_2_0.mif\", weight_mem);\n",
    "                        w = {weight_mem[0], weight_mem[1]};\n",
    "                    end\n",
    "                    assign y = {weight_mem[1], weight_mem[0]};\n",
    "                endmodule\n",
    "\"\"\"\n",
    "from pynq import Overlay , MMIO\n",
    "\n",
    "overlay = Overlay('twevle.bit')\n",
    "\n",
    "gpio_0_baseaddr = 0x41200000\n",
    "\n",
    "gpio_0 = MMIO(gpio_0_baseaddr,0x10000)\n",
    "\n",
    "result  = gpio_0.read(0x00)\n",
    "print(f\"result : {hex(result)}\")\n",
    "print(f\"result : {bin(result)}\")"
   ]
  },
  {
   "cell_type": "code",
   "execution_count": 2,
   "id": "e1f34dcb",
   "metadata": {},
   "outputs": [
    {
     "name": "stdout",
     "output_type": "stream",
     "text": [
      "result : 0x250026\n",
      "result : 0b1001010000000000100110\n"
     ]
    }
   ],
   "source": [
    "\n",
    "from pynq import Overlay , MMIO\n",
    "\n",
    "overlay = Overlay('eleven.bit')\n",
    "\n",
    "gpio_0_baseaddr = 0x41200000\n",
    "\n",
    "gpio_0 = MMIO(gpio_0_baseaddr,0x10000)\n",
    "\n",
    "result  = gpio_0.read(0x00)\n",
    "print(f\"result : {hex(result)}\")\n",
    "print(f\"result : {bin(result)}\")"
   ]
  },
  {
   "cell_type": "code",
   "execution_count": 1,
   "id": "2bf19dfb",
   "metadata": {},
   "outputs": [
    {
     "data": {
      "application/javascript": [
       "\n",
       "try {\n",
       "require(['notebook/js/codecell'], function(codecell) {\n",
       "  codecell.CodeCell.options_default.highlight_modes[\n",
       "      'magic_text/x-csrc'] = {'reg':[/^%%microblaze/]};\n",
       "  Jupyter.notebook.events.one('kernel_ready.Kernel', function(){\n",
       "      Jupyter.notebook.get_cells().map(function(cell){\n",
       "          if (cell.cell_type == 'code'){ cell.auto_highlight(); } }) ;\n",
       "  });\n",
       "});\n",
       "} catch (e) {};\n"
      ]
     },
     "metadata": {},
     "output_type": "display_data"
    },
    {
     "data": {
      "application/javascript": [
       "\n",
       "try {\n",
       "require(['notebook/js/codecell'], function(codecell) {\n",
       "  codecell.CodeCell.options_default.highlight_modes[\n",
       "      'magic_text/x-csrc'] = {'reg':[/^%%pybind11/]};\n",
       "  Jupyter.notebook.events.one('kernel_ready.Kernel', function(){\n",
       "      Jupyter.notebook.get_cells().map(function(cell){\n",
       "          if (cell.cell_type == 'code'){ cell.auto_highlight(); } }) ;\n",
       "  });\n",
       "});\n",
       "} catch (e) {};\n"
      ]
     },
     "metadata": {},
     "output_type": "display_data"
    },
    {
     "name": "stdout",
     "output_type": "stream",
     "text": [
      "result : 0x0\n",
      "result : 0b0\n"
     ]
    }
   ],
   "source": [
    "\"\"\"\n",
    "module weight(\n",
    "        output [31:0] y\n",
    "    );\n",
    "    \n",
    "    reg [31:0] w;\n",
    "    reg signed [15:0] weight_mem [0:1];\n",
    "    reg signed [15:0] another;\n",
    "    initial begin\n",
    "        $readmemh(\"w_2_0.mif\", weight_mem);\n",
    "        another = weight_mem[0];\n",
    "    end\n",
    "    assign y = another;\n",
    "endmodule\n",
    "\"\"\"\n",
    "\n",
    "\n",
    "from pynq import Overlay , MMIO\n",
    "\n",
    "overlay = Overlay('ten.bit')\n",
    "\n",
    "gpio_0_baseaddr = 0x41200000\n",
    "\n",
    "gpio_0 = MMIO(gpio_0_baseaddr,0x10000)\n",
    "\n",
    "result  = gpio_0.read(0x00)\n",
    "print(f\"result : {hex(result)}\")\n",
    "print(f\"result : {bin(result)}\")"
   ]
  },
  {
   "cell_type": "code",
   "execution_count": 11,
   "id": "f5d7aecd",
   "metadata": {},
   "outputs": [
    {
     "name": "stdout",
     "output_type": "stream",
     "text": [
      "result : 0x0\n",
      "result : 0b0\n"
     ]
    }
   ],
   "source": [
    "from pynq import Overlay , MMIO\n",
    "\n",
    "overlay = Overlay('nine.bit')\n",
    "\n",
    "gpio_0_baseaddr = 0x41200000\n",
    "\n",
    "gpio_0 = MMIO(gpio_0_baseaddr,0x10000)\n",
    "\n",
    "result  = gpio_0.read(0x00)\n",
    "print(f\"result : {hex(result)}\")\n",
    "print(f\"result : {bin(result)}\")"
   ]
  },
  {
   "cell_type": "code",
   "execution_count": 10,
   "id": "6f166fdb",
   "metadata": {},
   "outputs": [
    {
     "name": "stdout",
     "output_type": "stream",
     "text": [
      "result : 0x0\n",
      "result : 0b0\n"
     ]
    }
   ],
   "source": [
    "from pynq import Overlay , MMIO\n",
    "\n",
    "overlay = Overlay('eight.bit')\n",
    "\n",
    "gpio_0_baseaddr = 0x41200000\n",
    "\n",
    "gpio_0 = MMIO(gpio_0_baseaddr,0x10000)\n",
    "\n",
    "result  = gpio_0.read(0x00)\n",
    "print(f\"result : {hex(result)}\")\n",
    "print(f\"result : {bin(result)}\")"
   ]
  },
  {
   "cell_type": "code",
   "execution_count": 9,
   "id": "c5878f55",
   "metadata": {},
   "outputs": [
    {
     "name": "stdout",
     "output_type": "stream",
     "text": [
      "result : 0x300020\n",
      "result : 0b1100000000000000100000\n"
     ]
    }
   ],
   "source": [
    "\"\"\"\n",
    "            reg [31:0] w;\n",
    "            reg [15:0] weight_mem [0:1];\n",
    "            initial begin\n",
    "                $readmemh(\"w_2_0.mif\", weight_mem);\n",
    "                w[15:0] = 16'h0020;\n",
    "                w[31:16] = 16'h0030;\n",
    "            end\n",
    "            assign y = w;\n",
    "\"\"\"\n",
    "\n",
    "from pynq import Overlay , MMIO\n",
    "\n",
    "overlay = Overlay('seven.bit')\n",
    "\n",
    "gpio_0_baseaddr = 0x41200000\n",
    "\n",
    "gpio_0 = MMIO(gpio_0_baseaddr,0x10000)\n",
    "\n",
    "result  = gpio_0.read(0x00)\n",
    "print(f\"result : {hex(result)}\")\n",
    "print(f\"result : {bin(result)}\")"
   ]
  },
  {
   "cell_type": "code",
   "execution_count": 8,
   "id": "2f046d0c",
   "metadata": {},
   "outputs": [
    {
     "name": "stdout",
     "output_type": "stream",
     "text": [
      "result : 0x260025\n",
      "result : 0b1001100000000000100101\n"
     ]
    }
   ],
   "source": [
    "\"\"\"\n",
    "module weight(\n",
    "        output [31:0] y\n",
    "    );\n",
    "    \n",
    "    reg [31:0] w;\n",
    "    reg [15:0] weight_mem [0:1];\n",
    "    initial begin\n",
    "        $readmemh(\"w_2_0.mif\", weight_mem);\n",
    "        w[15:0] = weight_mem[0];\n",
    "        w[31:16] = weight_mem[1];\n",
    "//        w = {weight_mem[0], weight_mem[1]};\n",
    "    end\n",
    "//    assign y = w;\n",
    "    assign y = {weight_mem[0], weight_mem[1]};\n",
    "endmodule\n",
    "\"\"\"\n",
    "from pynq import Overlay , MMIO\n",
    "\n",
    "overlay = Overlay('six.bit')\n",
    "\n",
    "gpio_0_baseaddr = 0x41200000\n",
    "\n",
    "gpio_0 = MMIO(gpio_0_baseaddr,0x10000)\n",
    "\n",
    "result  = gpio_0.read(0x00)\n",
    "print(f\"result : {hex(result)}\")\n",
    "print(f\"result : {bin(result)}\")"
   ]
  },
  {
   "cell_type": "code",
   "execution_count": 7,
   "id": "304cb439",
   "metadata": {},
   "outputs": [
    {
     "name": "stdout",
     "output_type": "stream",
     "text": [
      "result : 0x0\n",
      "result : 0b0\n"
     ]
    }
   ],
   "source": [
    "\"\"\"\n",
    "module weight(\n",
    "        output [31:0] y\n",
    "    );\n",
    "    \n",
    "    reg [31:0] w;\n",
    "    reg [15:0] weight_mem [0:1];\n",
    "    initial begin\n",
    "        $readmemh(\"w_2_0.mif\", weight_mem);\n",
    "        w[15:0] = weight_mem[0];\n",
    "        w[31:16] = weight_mem[1];\n",
    "    end\n",
    "    assign y = w;\n",
    "endmodule\n",
    "\"\"\"\n",
    "from pynq import Overlay , MMIO\n",
    "\n",
    "overlay = Overlay('five.bit')\n",
    "\n",
    "gpio_0_baseaddr = 0x41200000\n",
    "\n",
    "gpio_0 = MMIO(gpio_0_baseaddr,0x10000)\n",
    "\n",
    "result  = gpio_0.read(0x00)\n",
    "print(f\"result : {hex(result)}\")\n",
    "print(f\"result : {bin(result)}\")"
   ]
  },
  {
   "cell_type": "code",
   "execution_count": 5,
   "id": "8ccc2c38",
   "metadata": {},
   "outputs": [
    {
     "name": "stdout",
     "output_type": "stream",
     "text": [
      "result : 0x26\n",
      "result : 0b100110\n"
     ]
    }
   ],
   "source": [
    "\"\"\"\n",
    "module weight(\n",
    "        output [31:0] y\n",
    "    );\n",
    "    \n",
    "    reg [31:0] w;\n",
    "    reg [15:0] weight_mem [0:1];\n",
    "    initial begin\n",
    "        $readmemh(\"w_2_0.mif\", weight_mem);\n",
    "        w = {weight_mem[0], weight_mem[1]};\n",
    "    end\n",
    "    assign y = weight_mem[0];\n",
    "endmodule\n",
    "\"\"\"\n",
    "from pynq import Overlay , MMIO\n",
    "\n",
    "overlay = Overlay('four.bit')\n",
    "\n",
    "gpio_0_baseaddr = 0x41200000\n",
    "\n",
    "gpio_0 = MMIO(gpio_0_baseaddr,0x10000)\n",
    "\n",
    "result  = gpio_0.read(0x00)\n",
    "print(f\"result : {hex(result)}\")\n",
    "print(f\"result : {bin(result)}\")"
   ]
  },
  {
   "cell_type": "code",
   "execution_count": 3,
   "id": "c662f303",
   "metadata": {},
   "outputs": [
    {
     "name": "stdout",
     "output_type": "stream",
     "text": [
      "result : 0x0\n",
      "result : 0b0\n"
     ]
    }
   ],
   "source": [
    "\"\"\"\n",
    "module weight(\n",
    "        output [31:0] y\n",
    "    );\n",
    "    \n",
    "    reg [31:0] w;\n",
    "    reg [15:0] weight_mem [0:1];\n",
    "    initial begin\n",
    "        $readmemh(\"w_2_0.mif\", weight_mem);\n",
    "        w = {weight_mem[0], weight_mem[1]};\n",
    "    end\n",
    "    assign y = w;\n",
    "endmodule\n",
    "\"\"\"\n",
    "\n",
    "from pynq import Overlay , MMIO\n",
    "\n",
    "overlay = Overlay('three.bit')\n",
    "\n",
    "gpio_0_baseaddr = 0x41200000\n",
    "\n",
    "gpio_0 = MMIO(gpio_0_baseaddr,0x10000)\n",
    "\n",
    "result  = gpio_0.read(0x00)\n",
    "print(f\"result : {hex(result)}\")\n",
    "print(f\"result : {bin(result)}\")"
   ]
  },
  {
   "cell_type": "code",
   "execution_count": 2,
   "id": "e63faaf1",
   "metadata": {},
   "outputs": [
    {
     "name": "stdout",
     "output_type": "stream",
     "text": [
      "result : 0x110022\n",
      "result : 0b100010000000000100010\n"
     ]
    }
   ],
   "source": [
    "\"\"\"\n",
    "module weight(\n",
    "        output [31:0] y\n",
    "    );\n",
    "    \n",
    "    reg [31:0] w;\n",
    "    reg [15:0] weight_mem [0:1];\n",
    "    initial begin\n",
    "        $readmemh(\"w_2_0.mif\", weight_mem);\n",
    "        w = {weight_mem[0], weight_mem[1]};\n",
    "    end\n",
    "    assign y = 32'h00110022;\n",
    "endmodule\n",
    "\"\"\"\n",
    "from pynq import Overlay , MMIO\n",
    "\n",
    "overlay = Overlay('two.bit')\n",
    "\n",
    "gpio_0_baseaddr = 0x41200000\n",
    "\n",
    "gpio_0 = MMIO(gpio_0_baseaddr,0x10000)\n",
    "\n",
    "result  = gpio_0.read(0x00)\n",
    "print(f\"result : {hex(result)}\")\n",
    "print(f\"result : {bin(result)}\")"
   ]
  },
  {
   "cell_type": "code",
   "execution_count": 1,
   "id": "cd39f46a",
   "metadata": {},
   "outputs": [
    {
     "data": {
      "application/javascript": [
       "\n",
       "try {\n",
       "require(['notebook/js/codecell'], function(codecell) {\n",
       "  codecell.CodeCell.options_default.highlight_modes[\n",
       "      'magic_text/x-csrc'] = {'reg':[/^%%microblaze/]};\n",
       "  Jupyter.notebook.events.one('kernel_ready.Kernel', function(){\n",
       "      Jupyter.notebook.get_cells().map(function(cell){\n",
       "          if (cell.cell_type == 'code'){ cell.auto_highlight(); } }) ;\n",
       "  });\n",
       "});\n",
       "} catch (e) {};\n"
      ]
     },
     "metadata": {},
     "output_type": "display_data"
    },
    {
     "data": {
      "application/javascript": [
       "\n",
       "try {\n",
       "require(['notebook/js/codecell'], function(codecell) {\n",
       "  codecell.CodeCell.options_default.highlight_modes[\n",
       "      'magic_text/x-csrc'] = {'reg':[/^%%pybind11/]};\n",
       "  Jupyter.notebook.events.one('kernel_ready.Kernel', function(){\n",
       "      Jupyter.notebook.get_cells().map(function(cell){\n",
       "          if (cell.cell_type == 'code'){ cell.auto_highlight(); } }) ;\n",
       "  });\n",
       "});\n",
       "} catch (e) {};\n"
      ]
     },
     "metadata": {},
     "output_type": "display_data"
    },
    {
     "name": "stdout",
     "output_type": "stream",
     "text": [
      "result : 0x0\n",
      "result : 0b0\n"
     ]
    }
   ],
   "source": [
    "from pynq import Overlay , MMIO\n",
    "\n",
    "overlay = Overlay('one.bit')\n",
    "\n",
    "gpio_0_baseaddr = 0x41200000\n",
    "\n",
    "gpio_0 = MMIO(gpio_0_baseaddr,0x10000)\n",
    "\n",
    "result  = gpio_0.read(0x00)\n",
    "print(f\"result : {hex(result)}\")\n",
    "print(f\"result : {bin(result)}\")"
   ]
  },
  {
   "cell_type": "code",
   "execution_count": null,
   "id": "c5e8dba5",
   "metadata": {},
   "outputs": [],
   "source": []
  }
 ],
 "metadata": {
  "kernelspec": {
   "display_name": "Python 3 (ipykernel)",
   "language": "python",
   "name": "python3"
  },
  "language_info": {
   "codemirror_mode": {
    "name": "ipython",
    "version": 3
   },
   "file_extension": ".py",
   "mimetype": "text/x-python",
   "name": "python",
   "nbconvert_exporter": "python",
   "pygments_lexer": "ipython3",
   "version": "3.10.4"
  }
 },
 "nbformat": 4,
 "nbformat_minor": 5
}
