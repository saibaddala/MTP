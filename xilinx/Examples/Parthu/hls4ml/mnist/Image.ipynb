{
 "cells": [
  {
   "cell_type": "code",
   "execution_count": 30,
   "id": "9d9b9146",
   "metadata": {},
   "outputs": [],
   "source": [
    "from axi_stream_driver import NeuralNetworkOverlay\n",
    "import numpy as np\n",
    "import time"
   ]
  },
  {
   "cell_type": "code",
   "execution_count": 31,
   "id": "9a223e0c",
   "metadata": {},
   "outputs": [],
   "source": [
    "X_test = np.load('x_test.npy')\n",
    "y_test = np.load('y_text.npy')"
   ]
  },
  {
   "cell_type": "code",
   "execution_count": 32,
   "id": "de968ccb",
   "metadata": {},
   "outputs": [
    {
     "name": "stdout",
     "output_type": "stream",
     "text": [
      "(10000, 196)\n",
      "(196,)\n",
      "(10000, 10)\n"
     ]
    }
   ],
   "source": [
    "print(X_test.shape)\n",
    "print(X_test[0].shape)\n",
    "\n",
    "print(y_test.shape)"
   ]
  },
  {
   "cell_type": "code",
   "execution_count": 33,
   "id": "33c59bfe",
   "metadata": {},
   "outputs": [],
   "source": [
    "nn = NeuralNetworkOverlay('design_1.bit', X_test.shape, y_test.shape)"
   ]
  },
  {
   "cell_type": "code",
   "execution_count": 34,
   "id": "14f95a91",
   "metadata": {},
   "outputs": [
    {
     "name": "stdout",
     "output_type": "stream",
     "text": [
      "Classified 10000 samples in 0.07280099999999999 seconds (137360.75053914095 inferences / s)\n",
      "0.0745549201965332\n",
      "0.17152\n"
     ]
    }
   ],
   "source": [
    "start = time.time()\n",
    "y_hw, latency, throughput = nn.predict(X_test, profile=True)\n",
    "end = time.time()\n",
    "\n",
    "correct_predictions = (y_hw == y_test)\n",
    "accuracy_manual = np.mean(correct_predictions)\n",
    "\n",
    "# correct = 0\n",
    "# total = len(y_test)\n",
    "\n",
    "\n",
    "print(end-start)\n",
    "print(accuracy_manual)"
   ]
  },
  {
   "cell_type": "code",
   "execution_count": 35,
   "id": "0b0d5526",
   "metadata": {},
   "outputs": [],
   "source": [
    "np.save('y_hw.npy', y_hw)"
   ]
  },
  {
   "cell_type": "code",
   "execution_count": 11,
   "id": "f28af86e",
   "metadata": {},
   "outputs": [
    {
     "data": {
      "text/plain": [
       "PynqBuffer([0.        , 0.        , 0.        , 0.        , 0.01367188,\n",
       "            0.        , 0.        , 0.875     , 0.01367188, 0.08203125],\n",
       "           dtype=float32)"
      ]
     },
     "execution_count": 11,
     "metadata": {},
     "output_type": "execute_result"
    }
   ],
   "source": [
    "y_hw[0]"
   ]
  },
  {
   "cell_type": "code",
   "execution_count": 14,
   "id": "0ac92879",
   "metadata": {
    "scrolled": true
   },
   "outputs": [
    {
     "name": "stdout",
     "output_type": "stream",
     "text": [
      "0 7\n",
      "1 2\n",
      "2 1\n",
      "3 0\n",
      "4 4\n",
      "5 1\n",
      "6 4\n",
      "7 0\n",
      "8 3\n",
      "9 2\n",
      "10 0\n",
      "11 7\n",
      "12 9\n",
      "13 0\n",
      "14 1\n",
      "15 7\n",
      "16 9\n",
      "17 7\n",
      "18 9\n",
      "19 4\n",
      "20 2\n",
      "21 6\n",
      "22 0\n",
      "23 5\n",
      "24 4\n",
      "25 0\n",
      "26 7\n",
      "27 4\n",
      "28 0\n",
      "29 1\n",
      "30 3\n",
      "31 1\n",
      "32 3\n",
      "33 1\n",
      "34 7\n",
      "35 2\n",
      "36 7\n",
      "37 1\n",
      "38 4\n",
      "39 1\n",
      "40 1\n",
      "41 7\n",
      "42 4\n",
      "43 7\n",
      "44 4\n",
      "45 7\n",
      "46 3\n",
      "47 2\n",
      "48 1\n",
      "49 4\n"
     ]
    }
   ],
   "source": [
    "import numpy as np\n",
    "frame_index = 0\n",
    "for i in range(50):\n",
    "    max_index = np.argmax(y_hw[i])\n",
    "    print(frame_index, max_index)\n",
    "    frame_index += 1\n"
   ]
  },
  {
   "cell_type": "code",
   "execution_count": null,
   "id": "ab3aeaef",
   "metadata": {},
   "outputs": [],
   "source": []
  },
  {
   "cell_type": "code",
   "execution_count": null,
   "id": "c7a091c3",
   "metadata": {},
   "outputs": [],
   "source": []
  },
  {
   "cell_type": "code",
   "execution_count": 1,
   "id": "05884b9d",
   "metadata": {},
   "outputs": [],
   "source": [
    "from axi_stream_driver import NeuralNetworkOverlay\n",
    "import numpy as np"
   ]
  },
  {
   "cell_type": "code",
   "execution_count": 6,
   "id": "bab535fb",
   "metadata": {},
   "outputs": [],
   "source": [
    "X_test = np.load('x_video_test.npy')\n",
    "# y_test = np.load('y_text.npy')\n"
   ]
  },
  {
   "cell_type": "code",
   "execution_count": 5,
   "id": "c210d331",
   "metadata": {},
   "outputs": [
    {
     "ename": "NameError",
     "evalue": "name 'tf' is not defined",
     "output_type": "error",
     "traceback": [
      "\u001b[0;31m---------------------------------------------------------------------------\u001b[0m",
      "\u001b[0;31mNameError\u001b[0m                                 Traceback (most recent call last)",
      "Input \u001b[0;32mIn [5]\u001b[0m, in \u001b[0;36m<cell line: 1>\u001b[0;34m()\u001b[0m\n\u001b[0;32m----> 1\u001b[0m X_test \u001b[38;5;241m=\u001b[39m \u001b[43mtf\u001b[49m\u001b[38;5;241m.\u001b[39mimage\u001b[38;5;241m.\u001b[39mresize(X_test[\u001b[38;5;241m.\u001b[39m\u001b[38;5;241m.\u001b[39m\u001b[38;5;241m.\u001b[39m, np\u001b[38;5;241m.\u001b[39mnewaxis], (\u001b[38;5;241m14\u001b[39m, \u001b[38;5;241m14\u001b[39m))\u001b[38;5;241m.\u001b[39mnumpy()\u001b[38;5;241m.\u001b[39msqueeze()\n\u001b[1;32m      2\u001b[0m X_test \u001b[38;5;241m=\u001b[39m X_test\u001b[38;5;241m.\u001b[39mreshape(\u001b[38;5;241m-\u001b[39m\u001b[38;5;241m1\u001b[39m, \u001b[38;5;241m14\u001b[39m \u001b[38;5;241m*\u001b[39m \u001b[38;5;241m14\u001b[39m)\u001b[38;5;241m.\u001b[39mastype(\u001b[38;5;124m'\u001b[39m\u001b[38;5;124mfloat32\u001b[39m\u001b[38;5;124m'\u001b[39m) \u001b[38;5;241m/\u001b[39m \u001b[38;5;241m255.0\u001b[39m\n",
      "\u001b[0;31mNameError\u001b[0m: name 'tf' is not defined"
     ]
    }
   ],
   "source": [
    "X_test = tf.image.resize(X_test[..., np.newaxis], (14, 14)).numpy().squeeze()\n",
    "X_test = X_test.reshape(-1, 14 * 14).astype('float32') / 255.0\n"
   ]
  },
  {
   "cell_type": "code",
   "execution_count": 3,
   "id": "dcb4ed58",
   "metadata": {},
   "outputs": [
    {
     "data": {
      "application/javascript": [
       "\n",
       "try {\n",
       "require(['notebook/js/codecell'], function(codecell) {\n",
       "  codecell.CodeCell.options_default.highlight_modes[\n",
       "      'magic_text/x-csrc'] = {'reg':[/^%%microblaze/]};\n",
       "  Jupyter.notebook.events.one('kernel_ready.Kernel', function(){\n",
       "      Jupyter.notebook.get_cells().map(function(cell){\n",
       "          if (cell.cell_type == 'code'){ cell.auto_highlight(); } }) ;\n",
       "  });\n",
       "});\n",
       "} catch (e) {};\n"
      ]
     },
     "metadata": {},
     "output_type": "display_data"
    },
    {
     "data": {
      "application/javascript": [
       "\n",
       "try {\n",
       "require(['notebook/js/codecell'], function(codecell) {\n",
       "  codecell.CodeCell.options_default.highlight_modes[\n",
       "      'magic_text/x-csrc'] = {'reg':[/^%%pybind11/]};\n",
       "  Jupyter.notebook.events.one('kernel_ready.Kernel', function(){\n",
       "      Jupyter.notebook.get_cells().map(function(cell){\n",
       "          if (cell.cell_type == 'code'){ cell.auto_highlight(); } }) ;\n",
       "  });\n",
       "});\n",
       "} catch (e) {};\n"
      ]
     },
     "metadata": {},
     "output_type": "display_data"
    }
   ],
   "source": [
    "nn = NeuralNetworkOverlay('design_1.bit', (10000, 196), (10000, 10))"
   ]
  },
  {
   "cell_type": "code",
   "execution_count": 15,
   "id": "7f059c29",
   "metadata": {},
   "outputs": [
    {
     "name": "stdout",
     "output_type": "stream",
     "text": [
      "Classified 10000 samples in 0.068752 seconds (145450.31417267863 inferences / s)\n"
     ]
    }
   ],
   "source": [
    "y_hw, latency, throughput = nn.predict(X_test, profile=True)"
   ]
  },
  {
   "cell_type": "code",
   "execution_count": 16,
   "id": "a5b70875",
   "metadata": {},
   "outputs": [
    {
     "name": "stdout",
     "output_type": "stream",
     "text": [
      "[0.         0.         0.         0.         0.01367188 0.\n",
      " 0.         0.875      0.01367188 0.08203125]\n"
     ]
    }
   ],
   "source": [
    "print(y_hw[0])"
   ]
  },
  {
   "cell_type": "code",
   "execution_count": 18,
   "id": "c9f0518e",
   "metadata": {},
   "outputs": [
    {
     "name": "stdout",
     "output_type": "stream",
     "text": [
      "0 7\n",
      "1 2\n",
      "2 1\n",
      "3 0\n",
      "4 4\n",
      "5 1\n",
      "6 4\n",
      "7 0\n",
      "8 3\n",
      "9 2\n",
      "10 0\n",
      "11 7\n",
      "12 9\n",
      "13 0\n",
      "14 1\n",
      "15 7\n",
      "16 9\n",
      "17 7\n",
      "18 9\n",
      "19 4\n",
      "20 2\n",
      "21 6\n",
      "22 0\n",
      "23 5\n",
      "24 4\n",
      "25 0\n",
      "26 7\n",
      "27 4\n",
      "28 0\n",
      "29 1\n",
      "30 3\n",
      "31 1\n",
      "32 3\n",
      "33 1\n",
      "34 7\n",
      "35 2\n",
      "36 7\n",
      "37 1\n",
      "38 4\n",
      "39 1\n",
      "40 1\n",
      "41 7\n",
      "42 4\n",
      "43 7\n",
      "44 4\n",
      "45 7\n",
      "46 3\n",
      "47 2\n",
      "48 1\n",
      "49 4\n"
     ]
    }
   ],
   "source": [
    "import numpy as np\n",
    "frame_index = 0\n",
    "for i in range(50):\n",
    "    max_index = np.argmax(y_hw[i])\n",
    "    print(frame_index, max_index)\n",
    "    frame_index += 1"
   ]
  },
  {
   "cell_type": "code",
   "execution_count": null,
   "id": "b3169678",
   "metadata": {},
   "outputs": [],
   "source": []
  }
 ],
 "metadata": {
  "kernelspec": {
   "display_name": "Python 3 (ipykernel)",
   "language": "python",
   "name": "python3"
  },
  "language_info": {
   "codemirror_mode": {
    "name": "ipython",
    "version": 3
   },
   "file_extension": ".py",
   "mimetype": "text/x-python",
   "name": "python",
   "nbconvert_exporter": "python",
   "pygments_lexer": "ipython3",
   "version": "3.10.4"
  }
 },
 "nbformat": 4,
 "nbformat_minor": 5
}
