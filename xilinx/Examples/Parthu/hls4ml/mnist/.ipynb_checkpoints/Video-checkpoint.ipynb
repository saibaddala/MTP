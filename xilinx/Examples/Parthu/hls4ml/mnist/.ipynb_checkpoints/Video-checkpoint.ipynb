{
 "cells": [
  {
   "cell_type": "code",
   "execution_count": 1,
   "id": "93b13916",
   "metadata": {},
   "outputs": [],
   "source": [
    "from axi_stream_driver import NeuralNetworkOverlay\n",
    "import numpy as np"
   ]
  },
  {
   "cell_type": "code",
   "execution_count": 8,
   "id": "0a333449",
   "metadata": {},
   "outputs": [],
   "source": [
    "X_test = np.load('x_test.npy')\n",
    "# hello"
   ]
  },
  {
   "cell_type": "code",
   "execution_count": 5,
   "id": "af1bdd8b",
   "metadata": {},
   "outputs": [],
   "source": [
    "nn = NeuralNetworkOverlay('design_1.bit', (10000,196), (10000, 10))\n",
    "\n",
    "# bit file\n",
    "# input shape (no of samples, input neurons)\n",
    "# output shape (no of samples, output neurons)"
   ]
  },
  {
   "cell_type": "code",
   "execution_count": 7,
   "id": "aba5f05f",
   "metadata": {},
   "outputs": [
    {
     "name": "stdout",
     "output_type": "stream",
     "text": [
      "Classified 10000 samples in 0.077258 seconds (129436.43376737685 inferences / s)\n"
     ]
    }
   ],
   "source": [
    "y_hw, latency, throughput = nn.predict(X_test, profile=True)"
   ]
  },
  {
   "cell_type": "code",
   "execution_count": null,
   "id": "ca6a09f6",
   "metadata": {},
   "outputs": [],
   "source": []
  }
 ],
 "metadata": {
  "kernelspec": {
   "display_name": "Python 3 (ipykernel)",
   "language": "python",
   "name": "python3"
  },
  "language_info": {
   "codemirror_mode": {
    "name": "ipython",
    "version": 3
   },
   "file_extension": ".py",
   "mimetype": "text/x-python",
   "name": "python",
   "nbconvert_exporter": "python",
   "pygments_lexer": "ipython3",
   "version": "3.10.4"
  }
 },
 "nbformat": 4,
 "nbformat_minor": 5
}
