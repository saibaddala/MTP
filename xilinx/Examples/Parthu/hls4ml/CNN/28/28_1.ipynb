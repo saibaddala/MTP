{
 "cells": [
  {
   "cell_type": "code",
   "execution_count": 1,
   "id": "21fa20d1",
   "metadata": {},
   "outputs": [
    {
     "name": "stdout",
     "output_type": "stream",
     "text": [
      "(1, 32, 32, 3)\n",
      "(32, 32, 3)\n",
      "(1, 10)\n"
     ]
    }
   ],
   "source": [
    "from axi_stream_driver import NeuralNetworkOverlay\n",
    "import numpy as np\n",
    "import time\n",
    "\n",
    "X_test = np.load('../X_test.npy')\n",
    "y_test = np.load('../Y_test.npy')\n",
    "\n",
    "print(X_test.shape)\n",
    "print(X_test[0].shape)\n",
    "\n",
    "print(y_test.shape)"
   ]
  },
  {
   "cell_type": "code",
   "execution_count": 2,
   "id": "83b3189b",
   "metadata": {},
   "outputs": [
    {
     "data": {
      "application/javascript": [
       "\n",
       "try {\n",
       "require(['notebook/js/codecell'], function(codecell) {\n",
       "  codecell.CodeCell.options_default.highlight_modes[\n",
       "      'magic_text/x-csrc'] = {'reg':[/^%%microblaze/]};\n",
       "  Jupyter.notebook.events.one('kernel_ready.Kernel', function(){\n",
       "      Jupyter.notebook.get_cells().map(function(cell){\n",
       "          if (cell.cell_type == 'code'){ cell.auto_highlight(); } }) ;\n",
       "  });\n",
       "});\n",
       "} catch (e) {};\n"
      ]
     },
     "metadata": {},
     "output_type": "display_data"
    },
    {
     "data": {
      "application/javascript": [
       "\n",
       "try {\n",
       "require(['notebook/js/codecell'], function(codecell) {\n",
       "  codecell.CodeCell.options_default.highlight_modes[\n",
       "      'magic_text/x-csrc'] = {'reg':[/^%%pybind11/]};\n",
       "  Jupyter.notebook.events.one('kernel_ready.Kernel', function(){\n",
       "      Jupyter.notebook.get_cells().map(function(cell){\n",
       "          if (cell.cell_type == 'code'){ cell.auto_highlight(); } }) ;\n",
       "  });\n",
       "});\n",
       "} catch (e) {};\n"
      ]
     },
     "metadata": {},
     "output_type": "display_data"
    }
   ],
   "source": [
    "nn = NeuralNetworkOverlay('design_1.bit', X_test[0:1].shape, y_test[0:1].shape)"
   ]
  },
  {
   "cell_type": "code",
   "execution_count": 49,
   "id": "57c1f515",
   "metadata": {},
   "outputs": [
    {
     "name": "stdout",
     "output_type": "stream",
     "text": [
      "Classified 1 samples in 0.00436 seconds (229.3577981651376 inferences / s)\n",
      "0.006272792816162109\n",
      "0.00436\n"
     ]
    }
   ],
   "source": [
    "start = time.time()\n",
    "y_hw, latency, throughput = nn.predict(X_test[0:1], profile=True)\n",
    "end = time.time()\n",
    "\n",
    "print(end-start)\n",
    "print(latency)\n",
    "# print(y_hw)"
   ]
  },
  {
   "cell_type": "code",
   "execution_count": null,
   "id": "8ed1fa71",
   "metadata": {},
   "outputs": [],
   "source": []
  }
 ],
 "metadata": {
  "kernelspec": {
   "display_name": "Python 3 (ipykernel)",
   "language": "python",
   "name": "python3"
  },
  "language_info": {
   "codemirror_mode": {
    "name": "ipython",
    "version": 3
   },
   "file_extension": ".py",
   "mimetype": "text/x-python",
   "name": "python",
   "nbconvert_exporter": "python",
   "pygments_lexer": "ipython3",
   "version": "3.10.4"
  }
 },
 "nbformat": 4,
 "nbformat_minor": 5
}
