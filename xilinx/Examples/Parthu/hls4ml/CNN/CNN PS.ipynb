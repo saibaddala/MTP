{
 "cells": [
  {
   "cell_type": "code",
   "execution_count": 8,
   "id": "dcdc0742",
   "metadata": {},
   "outputs": [],
   "source": [
    "import numpy as np\n",
    "import time"
   ]
  },
  {
   "cell_type": "code",
   "execution_count": 2,
   "id": "303deabb",
   "metadata": {},
   "outputs": [],
   "source": [
    "data = np.load(\"scratch_cnn_model.npz\")\n",
    "\n",
    "conv1_w = data[\"conv1_w\"]\n",
    "conv1_b = data[\"conv1_b\"]\n",
    "conv2_w = data[\"conv2_w\"]\n",
    "conv2_b = data[\"conv2_b\"]\n",
    "conv3_w = data[\"conv3_w\"]\n",
    "conv3_b = data[\"conv3_b\"]\n",
    "dense1_w = data[\"dense1_w\"]\n",
    "dense1_b = data[\"dense1_b\"]\n",
    "dense2_w = data[\"dense2_w\"]\n",
    "dense2_b = data[\"dense2_b\"]\n",
    "output_w = data[\"output_w\"]\n",
    "output_b = data[\"output_b\"]\n"
   ]
  },
  {
   "cell_type": "code",
   "execution_count": 3,
   "id": "fcd3e504",
   "metadata": {},
   "outputs": [],
   "source": [
    "# Activation\n",
    "def relu(x): return np.maximum(0, x)\n",
    "def softmax(x):\n",
    "    e = np.exp(x - np.max(x, axis=1, keepdims=True))\n",
    "    return e / np.sum(e, axis=1, keepdims=True)\n",
    "\n",
    "\n",
    "def flatten(x): return x.reshape(x.shape[0], -1)\n",
    "\n",
    "# Conv and pooling\n",
    "def conv2d(x, w, b, stride=1):\n",
    "    N, H, W, C = x.shape\n",
    "    F, kH, kW, _ = w.shape\n",
    "    out_h = (H - kH) // stride + 1\n",
    "    out_w = (W - kW) // stride + 1\n",
    "    out = np.zeros((N, out_h, out_w, F))\n",
    "    for n in range(N):\n",
    "        for f in range(F):\n",
    "            for i in range(out_h):\n",
    "                for j in range(out_w):\n",
    "                    h_start = i * stride\n",
    "                    w_start = j * stride\n",
    "                    region = x[n, h_start:h_start+kH, w_start:w_start+kW, :]\n",
    "                    out[n, i, j, f] = np.sum(region * w[f]) + b[f]\n",
    "    return out\n",
    "def maxpool2d(x, size=2, stride=2):\n",
    "    N, H, W, C = x.shape\n",
    "    H_out = (H - size) // stride + 1\n",
    "    W_out = (W - size) // stride + 1\n",
    "    out = np.zeros((N, H_out, W_out, C))\n",
    "    for n in range(N):\n",
    "        for c in range(C):\n",
    "            for i in range(H_out):\n",
    "                for j in range(W_out):\n",
    "                    h_start = i * stride\n",
    "                    w_start = j * stride\n",
    "                    h_end = h_start + size\n",
    "                    w_end = w_start + size\n",
    "                    out[n, i, j, c] = np.max(x[n, h_start:h_end, w_start:w_end, c])\n",
    "    return out\n",
    "\n",
    "# Evaluate\n",
    "def evaluate(xd, yd):\n",
    "    x = conv2d(xd, conv1_w, conv1_b)\n",
    "    x = relu(x)\n",
    "    x = maxpool2d(x)\n",
    "    x = conv2d(x, conv2_w, conv2_b)\n",
    "    x = relu(x)\n",
    "    x = maxpool2d(x)\n",
    "    x = conv2d(x, conv3_w, conv3_b)\n",
    "    x = relu(x)\n",
    "    x = maxpool2d(x)\n",
    "    x = flatten(x)\n",
    "    x = relu(np.dot(x, dense1_w.T) + dense1_b)\n",
    "    x = relu(np.dot(x, dense2_w.T) + dense2_b)\n",
    "    logits = np.dot(x, output_w.T) + output_b\n",
    "    probs = softmax(logits)\n",
    "    pred = np.argmax(probs, axis=1)\n",
    "    label = np.argmax(yd, axis=1)\n",
    "    return np.mean(pred == label)\n",
    "\n",
    "\n"
   ]
  },
  {
   "cell_type": "code",
   "execution_count": 10,
   "id": "1cefc81a",
   "metadata": {},
   "outputs": [],
   "source": [
    "x_test = np.load('x_test_small.npy')\n",
    "y_test = np.load('y_test_small.npy')"
   ]
  },
  {
   "cell_type": "code",
   "execution_count": 11,
   "id": "515a775c",
   "metadata": {},
   "outputs": [
    {
     "name": "stdout",
     "output_type": "stream",
     "text": [
      "(100, 32, 32, 3)\n",
      "(100, 10)\n"
     ]
    }
   ],
   "source": [
    "print(x_test.shape)\n",
    "print(y_test.shape)"
   ]
  },
  {
   "cell_type": "code",
   "execution_count": 13,
   "id": "bdaee546",
   "metadata": {},
   "outputs": [
    {
     "name": "stdout",
     "output_type": "stream",
     "text": [
      "0.0\n",
      "13.577001571655273\n"
     ]
    }
   ],
   "source": [
    "start = time.time()\n",
    "x_test_eva = evaluate(x_test[0:2], y_test[0:2])\n",
    "end = time.time()\n",
    "\n",
    "print(x_test_eva)\n",
    "print(end-start)"
   ]
  },
  {
   "cell_type": "code",
   "execution_count": null,
   "id": "1963ab49",
   "metadata": {},
   "outputs": [],
   "source": []
  }
 ],
 "metadata": {
  "kernelspec": {
   "display_name": "Python 3 (ipykernel)",
   "language": "python",
   "name": "python3"
  },
  "language_info": {
   "codemirror_mode": {
    "name": "ipython",
    "version": 3
   },
   "file_extension": ".py",
   "mimetype": "text/x-python",
   "name": "python",
   "nbconvert_exporter": "python",
   "pygments_lexer": "ipython3",
   "version": "3.10.4"
  }
 },
 "nbformat": 4,
 "nbformat_minor": 5
}
