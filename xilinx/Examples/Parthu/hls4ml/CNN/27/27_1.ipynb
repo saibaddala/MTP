{
 "cells": [
  {
   "cell_type": "code",
   "execution_count": 1,
   "id": "a01b403b",
   "metadata": {},
   "outputs": [
    {
     "name": "stdout",
     "output_type": "stream",
     "text": [
      "(100, 32, 32, 3)\n",
      "(32, 32, 3)\n",
      "(100, 10)\n"
     ]
    }
   ],
   "source": [
    "from axi_stream_driver1 import NeuralNetworkOverlay\n",
    "import numpy as np\n",
    "import time\n",
    "\n",
    "X_test = np.load('../x_test_small.npy')\n",
    "y_test = np.load('../y_test_small.npy')\n",
    "\n",
    "print(X_test.shape)\n",
    "print(X_test[0].shape)\n",
    "\n",
    "print(y_test.shape)"
   ]
  },
  {
   "cell_type": "code",
   "execution_count": 2,
   "id": "94b897dd",
   "metadata": {},
   "outputs": [
    {
     "data": {
      "application/javascript": [
       "\n",
       "try {\n",
       "require(['notebook/js/codecell'], function(codecell) {\n",
       "  codecell.CodeCell.options_default.highlight_modes[\n",
       "      'magic_text/x-csrc'] = {'reg':[/^%%microblaze/]};\n",
       "  Jupyter.notebook.events.one('kernel_ready.Kernel', function(){\n",
       "      Jupyter.notebook.get_cells().map(function(cell){\n",
       "          if (cell.cell_type == 'code'){ cell.auto_highlight(); } }) ;\n",
       "  });\n",
       "});\n",
       "} catch (e) {};\n"
      ]
     },
     "metadata": {},
     "output_type": "display_data"
    },
    {
     "data": {
      "application/javascript": [
       "\n",
       "try {\n",
       "require(['notebook/js/codecell'], function(codecell) {\n",
       "  codecell.CodeCell.options_default.highlight_modes[\n",
       "      'magic_text/x-csrc'] = {'reg':[/^%%pybind11/]};\n",
       "  Jupyter.notebook.events.one('kernel_ready.Kernel', function(){\n",
       "      Jupyter.notebook.get_cells().map(function(cell){\n",
       "          if (cell.cell_type == 'code'){ cell.auto_highlight(); } }) ;\n",
       "  });\n",
       "});\n",
       "} catch (e) {};\n"
      ]
     },
     "metadata": {},
     "output_type": "display_data"
    }
   ],
   "source": [
    "nn = NeuralNetworkOverlay('design_1.bit', X_test[0:2].shape, y_test[0:2].shape)"
   ]
  },
  {
   "cell_type": "code",
   "execution_count": 7,
   "id": "b55f50db",
   "metadata": {},
   "outputs": [
    {
     "name": "stdout",
     "output_type": "stream",
     "text": [
      "Classified 2 samples in 0.0036599999999999996 seconds (546.448087431694 inferences / s)\n",
      "0.0057413578033447266\n",
      "0.0036599999999999996\n"
     ]
    }
   ],
   "source": [
    "start = time.time()\n",
    "y_hw, latency, throughput = nn.predict(X_test[0:2], profile=True)\n",
    "end = time.time()\n",
    "\n",
    "print(end-start)\n",
    "print(latency)\n",
    "# print(y_hw)"
   ]
  },
  {
   "cell_type": "code",
   "execution_count": 4,
   "id": "d5a7072b",
   "metadata": {},
   "outputs": [
    {
     "name": "stdout",
     "output_type": "stream",
     "text": [
      "Classified 2 samples in 0.006728 seconds (297.2651605231867 inferences / s)\n",
      "0.008610010147094727\n",
      "0.006728\n"
     ]
    }
   ],
   "source": [
    "start = time.time()\n",
    "y_hw, latency, throughput = nn.predict(X_test[0:2], profile=True)\n",
    "end = time.time()\n",
    "\n",
    "print(end-start)\n",
    "print(latency)\n",
    "# print(y_hw)"
   ]
  },
  {
   "cell_type": "code",
   "execution_count": 5,
   "id": "555059d1",
   "metadata": {},
   "outputs": [
    {
     "name": "stdout",
     "output_type": "stream",
     "text": [
      "Classified 2 samples in 0.003955 seconds (505.6890012642225 inferences / s)\n",
      "0.007552385330200195\n",
      "0.003955\n"
     ]
    }
   ],
   "source": [
    "start = time.time()\n",
    "y_hw, latency, throughput = nn.predict(X_test[0:2], profile=True)\n",
    "end = time.time()\n",
    "\n",
    "print(end-start)\n",
    "print(latency)\n",
    "# print(y_hw)"
   ]
  },
  {
   "cell_type": "code",
   "execution_count": 6,
   "id": "17bd1008",
   "metadata": {},
   "outputs": [
    {
     "name": "stdout",
     "output_type": "stream",
     "text": [
      "Classified 2 samples in 0.007875 seconds (253.96825396825398 inferences / s)\n",
      "0.010944843292236328\n",
      "0.007875\n"
     ]
    }
   ],
   "source": [
    "start = time.time()\n",
    "y_hw, latency, throughput = nn.predict(X_test[0:2], profile=True)\n",
    "end = time.time()\n",
    "\n",
    "print(end-start)\n",
    "print(latency)\n",
    "# print(y_hw)"
   ]
  },
  {
   "cell_type": "code",
   "execution_count": null,
   "id": "44e9c866",
   "metadata": {},
   "outputs": [],
   "source": []
  }
 ],
 "metadata": {
  "kernelspec": {
   "display_name": "Python 3 (ipykernel)",
   "language": "python",
   "name": "python3"
  },
  "language_info": {
   "codemirror_mode": {
    "name": "ipython",
    "version": 3
   },
   "file_extension": ".py",
   "mimetype": "text/x-python",
   "name": "python",
   "nbconvert_exporter": "python",
   "pygments_lexer": "ipython3",
   "version": "3.10.4"
  }
 },
 "nbformat": 4,
 "nbformat_minor": 5
}
