{
 "cells": [
  {
   "cell_type": "code",
   "execution_count": 1,
   "id": "a01b403b",
   "metadata": {},
   "outputs": [
    {
     "name": "stdout",
     "output_type": "stream",
     "text": [
      "(100, 32, 32, 3)\n",
      "(32, 32, 3)\n",
      "(100, 10)\n"
     ]
    }
   ],
   "source": [
    "from axi_stream_driver2 import NeuralNetworkOverlay\n",
    "import numpy as np\n",
    "import time\n",
    "\n",
    "X_test = np.load('../x_test_small.npy')\n",
    "y_test = np.load('../y_test_small.npy')\n",
    "\n",
    "print(X_test.shape)\n",
    "print(X_test[0].shape)\n",
    "\n",
    "print(y_test.shape)"
   ]
  },
  {
   "cell_type": "code",
   "execution_count": 2,
   "id": "94b897dd",
   "metadata": {},
   "outputs": [
    {
     "data": {
      "application/javascript": [
       "\n",
       "try {\n",
       "require(['notebook/js/codecell'], function(codecell) {\n",
       "  codecell.CodeCell.options_default.highlight_modes[\n",
       "      'magic_text/x-csrc'] = {'reg':[/^%%microblaze/]};\n",
       "  Jupyter.notebook.events.one('kernel_ready.Kernel', function(){\n",
       "      Jupyter.notebook.get_cells().map(function(cell){\n",
       "          if (cell.cell_type == 'code'){ cell.auto_highlight(); } }) ;\n",
       "  });\n",
       "});\n",
       "} catch (e) {};\n"
      ]
     },
     "metadata": {},
     "output_type": "display_data"
    },
    {
     "data": {
      "application/javascript": [
       "\n",
       "try {\n",
       "require(['notebook/js/codecell'], function(codecell) {\n",
       "  codecell.CodeCell.options_default.highlight_modes[\n",
       "      'magic_text/x-csrc'] = {'reg':[/^%%pybind11/]};\n",
       "  Jupyter.notebook.events.one('kernel_ready.Kernel', function(){\n",
       "      Jupyter.notebook.get_cells().map(function(cell){\n",
       "          if (cell.cell_type == 'code'){ cell.auto_highlight(); } }) ;\n",
       "  });\n",
       "});\n",
       "} catch (e) {};\n"
      ]
     },
     "metadata": {},
     "output_type": "display_data"
    }
   ],
   "source": [
    "nn = NeuralNetworkOverlay('design_2.bit', X_test[0:2].shape, y_test[0:2].shape)"
   ]
  },
  {
   "cell_type": "code",
   "execution_count": 6,
   "id": "b55f50db",
   "metadata": {},
   "outputs": [
    {
     "name": "stdout",
     "output_type": "stream",
     "text": [
      "Classified 2 samples in 0.006451 seconds (310.0294527980158 inferences / s)\n",
      "0.013330221176147461\n",
      "0.006451\n"
     ]
    }
   ],
   "source": [
    "start = time.time()\n",
    "y_hw, latency, throughput = nn.predict(X_test[0:2], profile=True)\n",
    "end = time.time()\n",
    "\n",
    "print(end-start)\n",
    "print(latency)\n",
    "# print(y_hw)"
   ]
  },
  {
   "cell_type": "code",
   "execution_count": 4,
   "id": "d5a7072b",
   "metadata": {},
   "outputs": [
    {
     "name": "stdout",
     "output_type": "stream",
     "text": [
      "Classified 2 samples in 0.0073279999999999994 seconds (272.92576419213975 inferences / s)\n",
      "0.009020328521728516\n",
      "0.0073279999999999994\n"
     ]
    }
   ],
   "source": [
    "start = time.time()\n",
    "y_hw, latency, throughput = nn.predict(X_test[0:2], profile=True)\n",
    "end = time.time()\n",
    "\n",
    "print(end-start)\n",
    "print(latency)\n",
    "# print(y_hw)"
   ]
  },
  {
   "cell_type": "code",
   "execution_count": 5,
   "id": "555059d1",
   "metadata": {},
   "outputs": [
    {
     "name": "stdout",
     "output_type": "stream",
     "text": [
      "Classified 2 samples in 0.0037619999999999997 seconds (531.632110579479 inferences / s)\n",
      "0.008714675903320312\n",
      "0.0037619999999999997\n"
     ]
    }
   ],
   "source": [
    "start = time.time()\n",
    "y_hw, latency, throughput = nn.predict(X_test[0:2], profile=True)\n",
    "end = time.time()\n",
    "\n",
    "print(end-start)\n",
    "print(latency)\n",
    "# print(y_hw)"
   ]
  },
  {
   "cell_type": "code",
   "execution_count": 6,
   "id": "3db1dbe2",
   "metadata": {},
   "outputs": [
    {
     "name": "stdout",
     "output_type": "stream",
     "text": [
      "Classified 2 samples in 0.004654 seconds (429.73785990545764 inferences / s)\n",
      "0.014189720153808594\n",
      "0.004654\n"
     ]
    }
   ],
   "source": [
    "start = time.time()\n",
    "y_hw, latency, throughput = nn.predict(X_test[0:2], profile=True)\n",
    "end = time.time()\n",
    "\n",
    "print(end-start)\n",
    "print(latency)\n",
    "# print(y_hw)"
   ]
  },
  {
   "cell_type": "code",
   "execution_count": 7,
   "id": "f11e529f",
   "metadata": {},
   "outputs": [
    {
     "name": "stdout",
     "output_type": "stream",
     "text": [
      "Classified 2 samples in 0.0065249999999999996 seconds (306.51340996168585 inferences / s)\n",
      "0.008173227310180664\n",
      "0.0065249999999999996\n"
     ]
    }
   ],
   "source": [
    "start = time.time()\n",
    "y_hw, latency, throughput = nn.predict(X_test[0:2], profile=True)\n",
    "end = time.time()\n",
    "\n",
    "print(end-start)\n",
    "print(latency)\n",
    "# print(y_hw)"
   ]
  },
  {
   "cell_type": "code",
   "execution_count": 5,
   "id": "3829233d",
   "metadata": {},
   "outputs": [
    {
     "name": "stdout",
     "output_type": "stream",
     "text": [
      "Classified 2 samples in 0.007845 seconds (254.93945188017847 inferences / s)\n",
      "0.01110386848449707\n",
      "0.007845\n"
     ]
    }
   ],
   "source": [
    "start = time.time()\n",
    "y_hw, latency, throughput = nn.predict(X_test[0:2], profile=True)\n",
    "end = time.time()\n",
    "\n",
    "print(end-start)\n",
    "print(latency)\n",
    "# print(y_hw)"
   ]
  },
  {
   "cell_type": "code",
   "execution_count": 4,
   "id": "8e68b1f1",
   "metadata": {},
   "outputs": [
    {
     "name": "stdout",
     "output_type": "stream",
     "text": [
      "Classified 2 samples in 0.004522 seconds (442.2821760283061 inferences / s)\n",
      "0.0069580078125\n",
      "0.004522\n"
     ]
    }
   ],
   "source": [
    "start = time.time()\n",
    "y_hw, latency, throughput = nn.predict(X_test[0:2], profile=True)\n",
    "end = time.time()\n",
    "\n",
    "print(end-start)\n",
    "print(latency)\n",
    "# print(y_hw)"
   ]
  },
  {
   "cell_type": "code",
   "execution_count": 3,
   "id": "64ca91fd",
   "metadata": {},
   "outputs": [
    {
     "name": "stdout",
     "output_type": "stream",
     "text": [
      "Classified 2 samples in 0.004017 seconds (497.88399302962415 inferences / s)\n",
      "0.00741267204284668\n",
      "0.004017\n"
     ]
    }
   ],
   "source": [
    "start = time.time()\n",
    "y_hw, latency, throughput = nn.predict(X_test[20:22], profile=True)\n",
    "end = time.time()\n",
    "\n",
    "print(end-start)\n",
    "print(latency)\n",
    "# print(y_hw)"
   ]
  },
  {
   "cell_type": "code",
   "execution_count": null,
   "id": "e2a669f1",
   "metadata": {},
   "outputs": [],
   "source": []
  }
 ],
 "metadata": {
  "kernelspec": {
   "display_name": "Python 3 (ipykernel)",
   "language": "python",
   "name": "python3"
  },
  "language_info": {
   "codemirror_mode": {
    "name": "ipython",
    "version": 3
   },
   "file_extension": ".py",
   "mimetype": "text/x-python",
   "name": "python",
   "nbconvert_exporter": "python",
   "pygments_lexer": "ipython3",
   "version": "3.10.4"
  }
 },
 "nbformat": 4,
 "nbformat_minor": 5
}
