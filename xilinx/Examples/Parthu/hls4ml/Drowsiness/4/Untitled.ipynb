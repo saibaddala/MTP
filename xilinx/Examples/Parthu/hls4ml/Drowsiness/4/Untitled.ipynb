{
 "cells": [
  {
   "cell_type": "code",
   "execution_count": 27,
   "id": "dc73ce3e",
   "metadata": {},
   "outputs": [
    {
     "name": "stdout",
     "output_type": "stream",
     "text": [
      "(10, 50, 50, 3)\n",
      "(50, 50, 3)\n",
      "(10, 2)\n"
     ]
    }
   ],
   "source": [
    "from axi_stream_driver import NeuralNetworkOverlay\n",
    "import numpy as np\n",
    "import time\n",
    "\n",
    "X_test = np.load('../x_test_small.npy')\n",
    "y_test = np.load('../y_test_small.npy')\n",
    "\n",
    "print(X_test.shape)\n",
    "print(X_test[0].shape)\n",
    "\n",
    "print(y_test.shape)\n",
    "\n",
    "\n",
    "\n",
    "# print(X_test[0])\n"
   ]
  },
  {
   "cell_type": "code",
   "execution_count": 28,
   "id": "1962830c",
   "metadata": {},
   "outputs": [],
   "source": [
    "\n",
    "nn = NeuralNetworkOverlay('design_1.bit', X_test.shape, y_test.shape)\n",
    "\n"
   ]
  },
  {
   "cell_type": "code",
   "execution_count": 29,
   "id": "3fe591f0",
   "metadata": {},
   "outputs": [
    {
     "name": "stdout",
     "output_type": "stream",
     "text": [
      "Classified 10 samples in 0.010218999999999999 seconds (978.5693316371465 inferences / s)\n",
      "0.01653766632080078\n",
      "0.010218999999999999\n"
     ]
    }
   ],
   "source": [
    "start = time.time()\n",
    "y_hw, latency, throughput = nn.predict(X_test, profile=True)\n",
    "end = time.time()\n",
    "\n",
    "print(end-start)\n",
    "print(latency)"
   ]
  },
  {
   "cell_type": "code",
   "execution_count": null,
   "id": "1c11ab67",
   "metadata": {},
   "outputs": [],
   "source": []
  }
 ],
 "metadata": {
  "kernelspec": {
   "display_name": "Python 3 (ipykernel)",
   "language": "python",
   "name": "python3"
  },
  "language_info": {
   "codemirror_mode": {
    "name": "ipython",
    "version": 3
   },
   "file_extension": ".py",
   "mimetype": "text/x-python",
   "name": "python",
   "nbconvert_exporter": "python",
   "pygments_lexer": "ipython3",
   "version": "3.10.4"
  }
 },
 "nbformat": 4,
 "nbformat_minor": 5
}
