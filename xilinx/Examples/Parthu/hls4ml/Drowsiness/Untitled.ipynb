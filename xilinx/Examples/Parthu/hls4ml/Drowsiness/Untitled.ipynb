{
 "cells": [
  {
   "cell_type": "code",
   "execution_count": 1,
   "id": "a86dd9c6",
   "metadata": {},
   "outputs": [
    {
     "name": "stdout",
     "output_type": "stream",
     "text": [
      "(9, 80, 80, 3)\n",
      "(80, 80, 3)\n",
      "(9, 2)\n"
     ]
    },
    {
     "data": {
      "application/javascript": [
       "\n",
       "try {\n",
       "require(['notebook/js/codecell'], function(codecell) {\n",
       "  codecell.CodeCell.options_default.highlight_modes[\n",
       "      'magic_text/x-csrc'] = {'reg':[/^%%microblaze/]};\n",
       "  Jupyter.notebook.events.one('kernel_ready.Kernel', function(){\n",
       "      Jupyter.notebook.get_cells().map(function(cell){\n",
       "          if (cell.cell_type == 'code'){ cell.auto_highlight(); } }) ;\n",
       "  });\n",
       "});\n",
       "} catch (e) {};\n"
      ]
     },
     "metadata": {},
     "output_type": "display_data"
    },
    {
     "data": {
      "application/javascript": [
       "\n",
       "try {\n",
       "require(['notebook/js/codecell'], function(codecell) {\n",
       "  codecell.CodeCell.options_default.highlight_modes[\n",
       "      'magic_text/x-csrc'] = {'reg':[/^%%pybind11/]};\n",
       "  Jupyter.notebook.events.one('kernel_ready.Kernel', function(){\n",
       "      Jupyter.notebook.get_cells().map(function(cell){\n",
       "          if (cell.cell_type == 'code'){ cell.auto_highlight(); } }) ;\n",
       "  });\n",
       "});\n",
       "} catch (e) {};\n"
      ]
     },
     "metadata": {},
     "output_type": "display_data"
    },
    {
     "name": "stdout",
     "output_type": "stream",
     "text": [
      "Classified 1 samples in 0.0031379999999999997 seconds (318.6743148502231 inferences / s)\n",
      "0.004920244216918945\n",
      "0.0031379999999999997\n"
     ]
    }
   ],
   "source": [
    "from axi_stream_driver import NeuralNetworkOverlay\n",
    "import numpy as np\n",
    "import time\n",
    "\n",
    "X_test = np.load('x_test.npy')\n",
    "y_test = np.load('y_test.npy')\n",
    "\n",
    "print(X_test.shape)\n",
    "print(X_test[0].shape)\n",
    "\n",
    "print(y_test.shape)\n",
    "\n",
    "\n",
    "\n",
    "# print(X_test[0])\n",
    "\n",
    "nn = NeuralNetworkOverlay('design_1.bit', X_test[0:1].shape, y_test[0:1].shape)\n",
    "\n",
    "start = time.time()\n",
    "y_hw, latency, throughput = nn.predict(X_test[0:1], profile=True)\n",
    "end = time.time()\n",
    "\n",
    "print(end-start)\n",
    "print(latency)"
   ]
  },
  {
   "cell_type": "code",
   "execution_count": 33,
   "id": "683a1aa0",
   "metadata": {},
   "outputs": [
    {
     "name": "stdout",
     "output_type": "stream",
     "text": [
      "(9, 80, 80, 3)\n",
      "(80, 80, 3)\n",
      "(9, 2)\n"
     ]
    },
    {
     "ename": "ValueError",
     "evalue": "not enough values to unpack (expected 3, got 1)",
     "output_type": "error",
     "traceback": [
      "\u001b[0;31m---------------------------------------------------------------------------\u001b[0m",
      "\u001b[0;31mValueError\u001b[0m                                Traceback (most recent call last)",
      "Input \u001b[0;32mIn [33]\u001b[0m, in \u001b[0;36m<cell line: 20>\u001b[0;34m()\u001b[0m\n\u001b[1;32m     17\u001b[0m nn \u001b[38;5;241m=\u001b[39m NeuralNetworkOverlay(\u001b[38;5;124m'\u001b[39m\u001b[38;5;124mdesign_1.bit\u001b[39m\u001b[38;5;124m'\u001b[39m, X_test[\u001b[38;5;241m0\u001b[39m:\u001b[38;5;241m1\u001b[39m]\u001b[38;5;241m.\u001b[39mshape, y_test[\u001b[38;5;241m0\u001b[39m:\u001b[38;5;241m1\u001b[39m]\u001b[38;5;241m.\u001b[39mshape)\n\u001b[1;32m     19\u001b[0m start \u001b[38;5;241m=\u001b[39m time\u001b[38;5;241m.\u001b[39mtime()\n\u001b[0;32m---> 20\u001b[0m y_hw, latency, throughput \u001b[38;5;241m=\u001b[39m nn\u001b[38;5;241m.\u001b[39mpredict(X_test[\u001b[38;5;241m0\u001b[39m:\u001b[38;5;241m1\u001b[39m], profile\u001b[38;5;241m=\u001b[39m\u001b[38;5;28;01mFalse\u001b[39;00m)\n\u001b[1;32m     21\u001b[0m end \u001b[38;5;241m=\u001b[39m time\u001b[38;5;241m.\u001b[39mtime()\n\u001b[1;32m     23\u001b[0m \u001b[38;5;28mprint\u001b[39m(end\u001b[38;5;241m-\u001b[39mstart)\n",
      "\u001b[0;31mValueError\u001b[0m: not enough values to unpack (expected 3, got 1)"
     ]
    }
   ],
   "source": [
    "from axi_stream_driver import NeuralNetworkOverlay\n",
    "import numpy as np\n",
    "import time\n",
    "\n",
    "X_test = np.load('x_test.npy')\n",
    "y_test = np.load('y_test.npy')\n",
    "\n",
    "print(X_test.shape)\n",
    "print(X_test[0].shape)\n",
    "\n",
    "print(y_test.shape)\n",
    "\n",
    "\n",
    "\n",
    "# print(X_test[0])\n",
    "\n",
    "nn = NeuralNetworkOverlay('design_1.bit', X_test[0:1].shape, y_test[0:1].shape)\n",
    "\n",
    "start = time.time()\n",
    "y_hw, latency, throughput = nn.predict(X_test[0:1], profile=False)\n",
    "end = time.time()\n",
    "\n",
    "print(end-start)\n",
    "print(latency)"
   ]
  },
  {
   "cell_type": "code",
   "execution_count": 35,
   "id": "0939b492",
   "metadata": {},
   "outputs": [
    {
     "ename": "AttributeError",
     "evalue": "Could not find IP or hierarchy overlay in overlay",
     "output_type": "error",
     "traceback": [
      "\u001b[0;31m---------------------------------------------------------------------------\u001b[0m",
      "\u001b[0;31mAttributeError\u001b[0m                            Traceback (most recent call last)",
      "Input \u001b[0;32mIn [35]\u001b[0m, in \u001b[0;36m<cell line: 14>\u001b[0;34m()\u001b[0m\n\u001b[1;32m      9\u001b[0m nn \u001b[38;5;241m=\u001b[39m NeuralNetworkOverlay(\u001b[38;5;124m'\u001b[39m\u001b[38;5;124mdesign_1.bit\u001b[39m\u001b[38;5;124m'\u001b[39m,\n\u001b[1;32m     10\u001b[0m                           X_test[\u001b[38;5;241m0\u001b[39m:\u001b[38;5;241m1\u001b[39m]\u001b[38;5;241m.\u001b[39mshape,\n\u001b[1;32m     11\u001b[0m                           y_test[\u001b[38;5;241m0\u001b[39m:\u001b[38;5;241m1\u001b[39m]\u001b[38;5;241m.\u001b[39mshape)\n\u001b[1;32m     13\u001b[0m \u001b[38;5;66;03m# 3) Grab the AXI‑Timer instance from the overlay\u001b[39;00m\n\u001b[0;32m---> 14\u001b[0m timer \u001b[38;5;241m=\u001b[39m \u001b[43mnn\u001b[49m\u001b[38;5;241;43m.\u001b[39;49m\u001b[43moverlay\u001b[49m\u001b[38;5;241m.\u001b[39mip_dict[\u001b[38;5;124m'\u001b[39m\u001b[38;5;124maxi_timer_0\u001b[39m\u001b[38;5;124m'\u001b[39m]\n\u001b[1;32m     16\u001b[0m \u001b[38;5;66;03m# 4) Reset and start the timer\u001b[39;00m\n\u001b[1;32m     17\u001b[0m timer\u001b[38;5;241m.\u001b[39mreset()\n",
      "File \u001b[0;32m/usr/local/share/pynq-venv/lib/python3.10/site-packages/pynq/overlay.py:363\u001b[0m, in \u001b[0;36mOverlay.__getattr__\u001b[0;34m(self, key)\u001b[0m\n\u001b[1;32m    358\u001b[0m \u001b[38;5;124;03m\"\"\"Overload of __getattr__ to return a driver for an IP or\u001b[39;00m\n\u001b[1;32m    359\u001b[0m \u001b[38;5;124;03mhierarchy. Throws an `RuntimeError` if the overlay is not loaded.\u001b[39;00m\n\u001b[1;32m    360\u001b[0m \n\u001b[1;32m    361\u001b[0m \u001b[38;5;124;03m\"\"\"\u001b[39;00m\n\u001b[1;32m    362\u001b[0m \u001b[38;5;28;01mif\u001b[39;00m \u001b[38;5;28mself\u001b[39m\u001b[38;5;241m.\u001b[39mis_loaded():\n\u001b[0;32m--> 363\u001b[0m     \u001b[38;5;28;01mreturn\u001b[39;00m \u001b[38;5;28;43mgetattr\u001b[39;49m\u001b[43m(\u001b[49m\u001b[38;5;28;43mself\u001b[39;49m\u001b[38;5;241;43m.\u001b[39;49m\u001b[43m_ip_map\u001b[49m\u001b[43m,\u001b[49m\u001b[43m \u001b[49m\u001b[43mkey\u001b[49m\u001b[43m)\u001b[49m\n\u001b[1;32m    364\u001b[0m \u001b[38;5;28;01melse\u001b[39;00m:\n\u001b[1;32m    365\u001b[0m     \u001b[38;5;28;01mraise\u001b[39;00m \u001b[38;5;167;01mRuntimeError\u001b[39;00m(\u001b[38;5;124m\"\u001b[39m\u001b[38;5;124mOverlay not currently loaded\u001b[39m\u001b[38;5;124m\"\u001b[39m)\n",
      "File \u001b[0;32m/usr/local/share/pynq-venv/lib/python3.10/site-packages/pynq/overlay.py:931\u001b[0m, in \u001b[0;36m_IPMap.__getattr__\u001b[0;34m(self, key)\u001b[0m\n\u001b[1;32m    929\u001b[0m     \u001b[38;5;28;01mreturn\u001b[39;00m mem\n\u001b[1;32m    930\u001b[0m \u001b[38;5;28;01melse\u001b[39;00m:\n\u001b[0;32m--> 931\u001b[0m     \u001b[38;5;28;01mraise\u001b[39;00m \u001b[38;5;167;01mAttributeError\u001b[39;00m(\n\u001b[1;32m    932\u001b[0m         \u001b[38;5;124m\"\u001b[39m\u001b[38;5;124mCould not find IP or hierarchy \u001b[39m\u001b[38;5;132;01m{}\u001b[39;00m\u001b[38;5;124m in overlay\u001b[39m\u001b[38;5;124m\"\u001b[39m\u001b[38;5;241m.\u001b[39mformat(key)\n\u001b[1;32m    933\u001b[0m     )\n",
      "\u001b[0;31mAttributeError\u001b[0m: Could not find IP or hierarchy overlay in overlay"
     ]
    }
   ],
   "source": [
    "from axi_stream_driver import NeuralNetworkOverlay\n",
    "import numpy as np\n",
    "\n",
    "# 1) Load your test data\n",
    "X_test = np.load('x_test.npy')\n",
    "y_test = np.load('y_test.npy')\n",
    "\n",
    "# 2) Instantiate overlay (shapes passed positionally)\n",
    "nn = NeuralNetworkOverlay('design_1.bit',\n",
    "                          X_test[0:1].shape,\n",
    "                          y_test[0:1].shape)\n",
    "\n",
    "# 3) Grab the AXI‑Timer instance from the overlay\n",
    "timer = nn.overlay.ip_dict['axi_timer_0']\n",
    "\n",
    "# 4) Reset and start the timer\n",
    "timer.reset()\n",
    "timer.start()\n",
    "\n",
    "# 5) Run one inference (no internal profiling)\n",
    "y_hw = nn.predict(X_test[0:1], profile=False)\n",
    "\n",
    "# 6) Stop the timer and read out raw cycle count\n",
    "timer.stop()\n",
    "cycles = timer.read()\n",
    "print(f\"Raw PL cycles for one inference: {cycles}\")\n",
    "\n",
    "# 7) Convert cycles → time (assumes 100 MHz PL clock)\n",
    "pl_clk_hz = 100e6\n",
    "time_s = cycles / pl_clk_hz\n",
    "print(f\"Measured PL execution time: {time_s*1e3:.3f} ms\")\n"
   ]
  },
  {
   "cell_type": "code",
   "execution_count": 4,
   "id": "bdc72196",
   "metadata": {},
   "outputs": [],
   "source": [
    "def predict(self, input_data, profile=False):\n",
    "    print(\"started\")\n",
    "    import time\n",
    "\n",
    "    # Assumes input_data is a NumPy array with shape (1, ...)\n",
    "    assert input_data.shape[0] == 1, \"This version handles batch size 1 for simplicity\"\n",
    "\n",
    "    # Copy data to input buffer\n",
    "    np.copyto(self.input_buffer, input_data)\n",
    "\n",
    "    # Start input DMA transfer\n",
    "    self.dma.sendchannel.transfer(self.input_buffer)\n",
    "    self.dma.sendchannel.wait()\n",
    "\n",
    "    # Start the hardware accelerator (PL compute)\n",
    "    self.ip.write(0x00, 0x01)  # ap_start = 1\n",
    "\n",
    "    # Start timing for PL compute\n",
    "    pl_start = time.time()\n",
    "\n",
    "    # Wait for ap_done = 1 (bit 2 of control register)\n",
    "    while (self.ip.read(0x00) & 0x4) == 0:\n",
    "        pass\n",
    "\n",
    "    pl_end = time.time()\n",
    "    pl_latency = pl_end - pl_start  # in seconds\n",
    "\n",
    "    # Start output DMA transfer\n",
    "    self.dma.recvchannel.transfer(self.output_buffer)\n",
    "    self.dma.recvchannel.wait()\n",
    "\n",
    "    # Convert output to NumPy\n",
    "    output_array = self.output_buffer.copy()\n",
    "\n",
    "    if profile:\n",
    "        throughput = 1.0 / pl_latency  # samples per second\n",
    "        return output_array, pl_latency, throughput\n",
    "    else:\n",
    "        return output_array\n"
   ]
  },
  {
   "cell_type": "code",
   "execution_count": 23,
   "id": "630d628a",
   "metadata": {},
   "outputs": [
    {
     "name": "stdout",
     "output_type": "stream",
     "text": [
      "Classified 1 samples in 0.00649 seconds (154.08320493066256 inferences / s)\n",
      "PL compute latency: 6.490 ms\n",
      "Throughput: 154.08 samples/sec\n"
     ]
    }
   ],
   "source": [
    "y_hw, latency, throughput = nn.predict(X_test[0:1], profile=True)\n",
    "print(f\"PL compute latency: {latency * 1000:.3f} ms\")\n",
    "print(f\"Throughput: {throughput:.2f} samples/sec\")\n"
   ]
  },
  {
   "cell_type": "code",
   "execution_count": null,
   "id": "31f86a17",
   "metadata": {},
   "outputs": [],
   "source": []
  },
  {
   "cell_type": "code",
   "execution_count": 24,
   "id": "c9e3286a",
   "metadata": {},
   "outputs": [],
   "source": [
    "from pynq import Overlay, allocate\n",
    "import numpy as np\n",
    "import time\n",
    "\n",
    "class NeuralNetworkOverlay:\n",
    "    def __init__(self, bitfile, input_shape, output_shape):\n",
    "        # Load the overlay\n",
    "        self.overlay = Overlay(bitfile)\n",
    "        self.ip = self.overlay.my_nn_ip_name  # CHANGE THIS to your actual IP name\n",
    "        self.dma = self.overlay.axi_dma_0     # CHANGE this if your DMA is named differently\n",
    "\n",
    "        # Create input/output buffers in contiguous memory\n",
    "        self.input_buffer = allocate(shape=input_shape, dtype=np.float32)\n",
    "        self.output_buffer = allocate(shape=output_shape, dtype=np.float32)\n",
    "\n",
    "    def predict(self, input_data, profile=False):\n",
    "        assert input_data.shape[0] == 1, \"This version supports batch size = 1 only\"\n",
    "\n",
    "        # Copy data into input buffer\n",
    "        np.copyto(self.input_buffer, input_data)\n",
    "\n",
    "        # Start DMA input transfer\n",
    "        self.dma.sendchannel.transfer(self.input_buffer)\n",
    "        self.dma.sendchannel.wait()\n",
    "\n",
    "        # Start the hardware accelerator\n",
    "        self.ip.write(0x00, 0x01)  # ap_start = 1\n",
    "\n",
    "        # Measure PL computation time\n",
    "        pl_start = time.time()\n",
    "        while (self.ip.read(0x00) & 0x4) == 0:  # Wait for ap_done (bit 2)\n",
    "            pass\n",
    "        pl_end = time.time()\n",
    "        pl_latency = pl_end - pl_start\n",
    "\n",
    "        # Start DMA output transfer\n",
    "        self.dma.recvchannel.transfer(self.output_buffer)\n",
    "        self.dma.recvchannel.wait()\n",
    "\n",
    "        # Copy result\n",
    "        output_array = self.output_buffer.copy()\n",
    "\n",
    "        if profile:\n",
    "            throughput = 1.0 / pl_latency  # samples/sec\n",
    "            return output_array, pl_latency, throughput\n",
    "        else:\n",
    "            return output_array\n"
   ]
  },
  {
   "cell_type": "code",
   "execution_count": 25,
   "id": "eb930951",
   "metadata": {},
   "outputs": [
    {
     "name": "stdout",
     "output_type": "stream",
     "text": [
      "(9, 80, 80, 3)\n",
      "(80, 80, 3)\n"
     ]
    },
    {
     "ename": "AttributeError",
     "evalue": "Could not find IP or hierarchy my_nn_ip_name in overlay",
     "output_type": "error",
     "traceback": [
      "\u001b[0;31m---------------------------------------------------------------------------\u001b[0m",
      "\u001b[0;31mAttributeError\u001b[0m                            Traceback (most recent call last)",
      "Input \u001b[0;32mIn [25]\u001b[0m, in \u001b[0;36m<cell line: 7>\u001b[0;34m()\u001b[0m\n\u001b[1;32m      4\u001b[0m \u001b[38;5;28mprint\u001b[39m(X_test\u001b[38;5;241m.\u001b[39mshape)\n\u001b[1;32m      5\u001b[0m \u001b[38;5;28mprint\u001b[39m(X_test[\u001b[38;5;241m0\u001b[39m]\u001b[38;5;241m.\u001b[39mshape)\n\u001b[0;32m----> 7\u001b[0m nn \u001b[38;5;241m=\u001b[39m \u001b[43mNeuralNetworkOverlay\u001b[49m\u001b[43m(\u001b[49m\u001b[38;5;124;43m'\u001b[39;49m\u001b[38;5;124;43mdesign_1.bit\u001b[39;49m\u001b[38;5;124;43m'\u001b[39;49m\u001b[43m,\u001b[49m\u001b[43m \u001b[49m\u001b[43mX_test\u001b[49m\u001b[43m[\u001b[49m\u001b[38;5;241;43m0\u001b[39;49m\u001b[43m:\u001b[49m\u001b[38;5;241;43m1\u001b[39;49m\u001b[43m]\u001b[49m\u001b[38;5;241;43m.\u001b[39;49m\u001b[43mshape\u001b[49m\u001b[43m,\u001b[49m\u001b[43m \u001b[49m\u001b[43my_test\u001b[49m\u001b[43m[\u001b[49m\u001b[38;5;241;43m0\u001b[39;49m\u001b[43m:\u001b[49m\u001b[38;5;241;43m1\u001b[39;49m\u001b[43m]\u001b[49m\u001b[38;5;241;43m.\u001b[39;49m\u001b[43mshape\u001b[49m\u001b[43m)\u001b[49m\n\u001b[1;32m      9\u001b[0m y_hw, latency, throughput \u001b[38;5;241m=\u001b[39m nn\u001b[38;5;241m.\u001b[39mpredict(X_test[\u001b[38;5;241m0\u001b[39m:\u001b[38;5;241m1\u001b[39m], profile\u001b[38;5;241m=\u001b[39m\u001b[38;5;28;01mTrue\u001b[39;00m)\n\u001b[1;32m     11\u001b[0m \u001b[38;5;28mprint\u001b[39m(\u001b[38;5;124mf\u001b[39m\u001b[38;5;124m\"\u001b[39m\u001b[38;5;124mPL compute latency: \u001b[39m\u001b[38;5;132;01m{\u001b[39;00mlatency \u001b[38;5;241m*\u001b[39m \u001b[38;5;241m1000\u001b[39m\u001b[38;5;132;01m:\u001b[39;00m\u001b[38;5;124m.3f\u001b[39m\u001b[38;5;132;01m}\u001b[39;00m\u001b[38;5;124m ms\u001b[39m\u001b[38;5;124m\"\u001b[39m)\n",
      "Input \u001b[0;32mIn [24]\u001b[0m, in \u001b[0;36mNeuralNetworkOverlay.__init__\u001b[0;34m(self, bitfile, input_shape, output_shape)\u001b[0m\n\u001b[1;32m      6\u001b[0m \u001b[38;5;28;01mdef\u001b[39;00m \u001b[38;5;21m__init__\u001b[39m(\u001b[38;5;28mself\u001b[39m, bitfile, input_shape, output_shape):\n\u001b[1;32m      7\u001b[0m     \u001b[38;5;66;03m# Load the overlay\u001b[39;00m\n\u001b[1;32m      8\u001b[0m     \u001b[38;5;28mself\u001b[39m\u001b[38;5;241m.\u001b[39moverlay \u001b[38;5;241m=\u001b[39m Overlay(bitfile)\n\u001b[0;32m----> 9\u001b[0m     \u001b[38;5;28mself\u001b[39m\u001b[38;5;241m.\u001b[39mip \u001b[38;5;241m=\u001b[39m \u001b[38;5;28;43mself\u001b[39;49m\u001b[38;5;241;43m.\u001b[39;49m\u001b[43moverlay\u001b[49m\u001b[38;5;241;43m.\u001b[39;49m\u001b[43mmy_nn_ip_name\u001b[49m  \u001b[38;5;66;03m# CHANGE THIS to your actual IP name\u001b[39;00m\n\u001b[1;32m     10\u001b[0m     \u001b[38;5;28mself\u001b[39m\u001b[38;5;241m.\u001b[39mdma \u001b[38;5;241m=\u001b[39m \u001b[38;5;28mself\u001b[39m\u001b[38;5;241m.\u001b[39moverlay\u001b[38;5;241m.\u001b[39maxi_dma_0     \u001b[38;5;66;03m# CHANGE this if your DMA is named differently\u001b[39;00m\n\u001b[1;32m     12\u001b[0m     \u001b[38;5;66;03m# Create input/output buffers in contiguous memory\u001b[39;00m\n",
      "File \u001b[0;32m/usr/local/share/pynq-venv/lib/python3.10/site-packages/pynq/overlay.py:363\u001b[0m, in \u001b[0;36mOverlay.__getattr__\u001b[0;34m(self, key)\u001b[0m\n\u001b[1;32m    358\u001b[0m \u001b[38;5;124;03m\"\"\"Overload of __getattr__ to return a driver for an IP or\u001b[39;00m\n\u001b[1;32m    359\u001b[0m \u001b[38;5;124;03mhierarchy. Throws an `RuntimeError` if the overlay is not loaded.\u001b[39;00m\n\u001b[1;32m    360\u001b[0m \n\u001b[1;32m    361\u001b[0m \u001b[38;5;124;03m\"\"\"\u001b[39;00m\n\u001b[1;32m    362\u001b[0m \u001b[38;5;28;01mif\u001b[39;00m \u001b[38;5;28mself\u001b[39m\u001b[38;5;241m.\u001b[39mis_loaded():\n\u001b[0;32m--> 363\u001b[0m     \u001b[38;5;28;01mreturn\u001b[39;00m \u001b[38;5;28;43mgetattr\u001b[39;49m\u001b[43m(\u001b[49m\u001b[38;5;28;43mself\u001b[39;49m\u001b[38;5;241;43m.\u001b[39;49m\u001b[43m_ip_map\u001b[49m\u001b[43m,\u001b[49m\u001b[43m \u001b[49m\u001b[43mkey\u001b[49m\u001b[43m)\u001b[49m\n\u001b[1;32m    364\u001b[0m \u001b[38;5;28;01melse\u001b[39;00m:\n\u001b[1;32m    365\u001b[0m     \u001b[38;5;28;01mraise\u001b[39;00m \u001b[38;5;167;01mRuntimeError\u001b[39;00m(\u001b[38;5;124m\"\u001b[39m\u001b[38;5;124mOverlay not currently loaded\u001b[39m\u001b[38;5;124m\"\u001b[39m)\n",
      "File \u001b[0;32m/usr/local/share/pynq-venv/lib/python3.10/site-packages/pynq/overlay.py:931\u001b[0m, in \u001b[0;36m_IPMap.__getattr__\u001b[0;34m(self, key)\u001b[0m\n\u001b[1;32m    929\u001b[0m     \u001b[38;5;28;01mreturn\u001b[39;00m mem\n\u001b[1;32m    930\u001b[0m \u001b[38;5;28;01melse\u001b[39;00m:\n\u001b[0;32m--> 931\u001b[0m     \u001b[38;5;28;01mraise\u001b[39;00m \u001b[38;5;167;01mAttributeError\u001b[39;00m(\n\u001b[1;32m    932\u001b[0m         \u001b[38;5;124m\"\u001b[39m\u001b[38;5;124mCould not find IP or hierarchy \u001b[39m\u001b[38;5;132;01m{}\u001b[39;00m\u001b[38;5;124m in overlay\u001b[39m\u001b[38;5;124m\"\u001b[39m\u001b[38;5;241m.\u001b[39mformat(key)\n\u001b[1;32m    933\u001b[0m     )\n",
      "\u001b[0;31mAttributeError\u001b[0m: Could not find IP or hierarchy my_nn_ip_name in overlay"
     ]
    }
   ],
   "source": [
    "X_test = np.load('x_test.npy')\n",
    "y_test = np.load('y_test.npy')\n",
    "\n",
    "print(X_test.shape)\n",
    "print(X_test[0].shape)\n",
    "\n",
    "nn = NeuralNetworkOverlay('design_1.bit', X_test[0:1].shape, y_test[0:1].shape)\n",
    "\n",
    "y_hw, latency, throughput = nn.predict(X_test[0:1], profile=True)\n",
    "\n",
    "print(f\"PL compute latency: {latency * 1000:.3f} ms\")\n",
    "print(f\"Throughput: {throughput:.2f} samples/sec\")\n",
    "print(\"Output:\", y_hw)\n"
   ]
  },
  {
   "cell_type": "code",
   "execution_count": 26,
   "id": "e6a2c2fd",
   "metadata": {},
   "outputs": [],
   "source": [
    "from pynq import Overlay, allocate\n",
    "import numpy as np\n",
    "import time\n",
    "\n",
    "class NeuralNetworkOverlay:\n",
    "    def __init__(self, bitfile, input_shape, output_shape):\n",
    "        # Load the overlay\n",
    "        self.overlay = Overlay(bitfile)\n",
    "        \n",
    "        # Get IP and DMA from overlay\n",
    "        self.ip = self.overlay.myproject_axi_0     # Your HLS IP\n",
    "        self.dma = self.overlay.axi_dma_0          # Your DMA engine\n",
    "\n",
    "        # Allocate contiguous memory for input/output buffers\n",
    "        self.input_buffer = allocate(shape=input_shape, dtype=np.float32)\n",
    "        self.output_buffer = allocate(shape=output_shape, dtype=np.float32)\n",
    "\n",
    "    def predict(self, input_data, profile=False):\n",
    "        assert input_data.shape[0] == 1, \"Only batch size 1 is supported in this version\"\n",
    "\n",
    "        # Copy input data to DMA buffer\n",
    "        np.copyto(self.input_buffer, input_data)\n",
    "\n",
    "        # Start input DMA transfer\n",
    "        self.dma.sendchannel.transfer(self.input_buffer)\n",
    "        self.dma.sendchannel.wait()\n",
    "\n",
    "        # Start accelerator by asserting ap_start\n",
    "        self.ip.write(0x00, 0x01)  # ap_start = 1\n",
    "\n",
    "        # Measure PL compute time\n",
    "        pl_start = time.time()\n",
    "        while (self.ip.read(0x00) & 0x4) == 0:  # Wait for ap_done (bit 2)\n",
    "            pass\n",
    "        pl_end = time.time()\n",
    "        pl_latency = pl_end - pl_start\n",
    "\n",
    "        # Start output DMA transfer\n",
    "        self.dma.recvchannel.transfer(self.output_buffer)\n",
    "        self.dma.recvchannel.wait()\n",
    "\n",
    "        # Get output as NumPy array\n",
    "        output_array = self.output_buffer.copy()\n",
    "\n",
    "        if profile:\n",
    "            throughput = 1.0 / pl_latency\n",
    "            return output_array, pl_latency, throughput\n",
    "        else:\n",
    "            return output_array\n"
   ]
  },
  {
   "cell_type": "code",
   "execution_count": 27,
   "id": "8b859efa",
   "metadata": {},
   "outputs": [
    {
     "ename": "AttributeError",
     "evalue": "Could not find IP or hierarchy myproject_axi_0 in overlay",
     "output_type": "error",
     "traceback": [
      "\u001b[0;31m---------------------------------------------------------------------------\u001b[0m",
      "\u001b[0;31mAttributeError\u001b[0m                            Traceback (most recent call last)",
      "Input \u001b[0;32mIn [27]\u001b[0m, in \u001b[0;36m<cell line: 6>\u001b[0;34m()\u001b[0m\n\u001b[1;32m      3\u001b[0m X_test \u001b[38;5;241m=\u001b[39m np\u001b[38;5;241m.\u001b[39mload(\u001b[38;5;124m'\u001b[39m\u001b[38;5;124mx_test.npy\u001b[39m\u001b[38;5;124m'\u001b[39m)\n\u001b[1;32m      4\u001b[0m y_test \u001b[38;5;241m=\u001b[39m np\u001b[38;5;241m.\u001b[39mload(\u001b[38;5;124m'\u001b[39m\u001b[38;5;124my_test.npy\u001b[39m\u001b[38;5;124m'\u001b[39m)\n\u001b[0;32m----> 6\u001b[0m nn \u001b[38;5;241m=\u001b[39m \u001b[43mNeuralNetworkOverlay\u001b[49m\u001b[43m(\u001b[49m\u001b[38;5;124;43m'\u001b[39;49m\u001b[38;5;124;43mdesign_1.bit\u001b[39;49m\u001b[38;5;124;43m'\u001b[39;49m\u001b[43m,\u001b[49m\u001b[43m \u001b[49m\u001b[43mX_test\u001b[49m\u001b[43m[\u001b[49m\u001b[38;5;241;43m0\u001b[39;49m\u001b[43m:\u001b[49m\u001b[38;5;241;43m1\u001b[39;49m\u001b[43m]\u001b[49m\u001b[38;5;241;43m.\u001b[39;49m\u001b[43mshape\u001b[49m\u001b[43m,\u001b[49m\u001b[43m \u001b[49m\u001b[43my_test\u001b[49m\u001b[43m[\u001b[49m\u001b[38;5;241;43m0\u001b[39;49m\u001b[43m:\u001b[49m\u001b[38;5;241;43m1\u001b[39;49m\u001b[43m]\u001b[49m\u001b[38;5;241;43m.\u001b[39;49m\u001b[43mshape\u001b[49m\u001b[43m)\u001b[49m\n\u001b[1;32m      8\u001b[0m \u001b[38;5;66;03m# Inference on one sample, with timing\u001b[39;00m\n\u001b[1;32m      9\u001b[0m y_hw, latency, throughput \u001b[38;5;241m=\u001b[39m nn\u001b[38;5;241m.\u001b[39mpredict(X_test[\u001b[38;5;241m0\u001b[39m:\u001b[38;5;241m1\u001b[39m], profile\u001b[38;5;241m=\u001b[39m\u001b[38;5;28;01mTrue\u001b[39;00m)\n",
      "Input \u001b[0;32mIn [26]\u001b[0m, in \u001b[0;36mNeuralNetworkOverlay.__init__\u001b[0;34m(self, bitfile, input_shape, output_shape)\u001b[0m\n\u001b[1;32m      8\u001b[0m \u001b[38;5;28mself\u001b[39m\u001b[38;5;241m.\u001b[39moverlay \u001b[38;5;241m=\u001b[39m Overlay(bitfile)\n\u001b[1;32m     10\u001b[0m \u001b[38;5;66;03m# Get IP and DMA from overlay\u001b[39;00m\n\u001b[0;32m---> 11\u001b[0m \u001b[38;5;28mself\u001b[39m\u001b[38;5;241m.\u001b[39mip \u001b[38;5;241m=\u001b[39m \u001b[38;5;28;43mself\u001b[39;49m\u001b[38;5;241;43m.\u001b[39;49m\u001b[43moverlay\u001b[49m\u001b[38;5;241;43m.\u001b[39;49m\u001b[43mmyproject_axi_0\u001b[49m     \u001b[38;5;66;03m# Your HLS IP\u001b[39;00m\n\u001b[1;32m     12\u001b[0m \u001b[38;5;28mself\u001b[39m\u001b[38;5;241m.\u001b[39mdma \u001b[38;5;241m=\u001b[39m \u001b[38;5;28mself\u001b[39m\u001b[38;5;241m.\u001b[39moverlay\u001b[38;5;241m.\u001b[39maxi_dma_0          \u001b[38;5;66;03m# Your DMA engine\u001b[39;00m\n\u001b[1;32m     14\u001b[0m \u001b[38;5;66;03m# Allocate contiguous memory for input/output buffers\u001b[39;00m\n",
      "File \u001b[0;32m/usr/local/share/pynq-venv/lib/python3.10/site-packages/pynq/overlay.py:363\u001b[0m, in \u001b[0;36mOverlay.__getattr__\u001b[0;34m(self, key)\u001b[0m\n\u001b[1;32m    358\u001b[0m \u001b[38;5;124;03m\"\"\"Overload of __getattr__ to return a driver for an IP or\u001b[39;00m\n\u001b[1;32m    359\u001b[0m \u001b[38;5;124;03mhierarchy. Throws an `RuntimeError` if the overlay is not loaded.\u001b[39;00m\n\u001b[1;32m    360\u001b[0m \n\u001b[1;32m    361\u001b[0m \u001b[38;5;124;03m\"\"\"\u001b[39;00m\n\u001b[1;32m    362\u001b[0m \u001b[38;5;28;01mif\u001b[39;00m \u001b[38;5;28mself\u001b[39m\u001b[38;5;241m.\u001b[39mis_loaded():\n\u001b[0;32m--> 363\u001b[0m     \u001b[38;5;28;01mreturn\u001b[39;00m \u001b[38;5;28;43mgetattr\u001b[39;49m\u001b[43m(\u001b[49m\u001b[38;5;28;43mself\u001b[39;49m\u001b[38;5;241;43m.\u001b[39;49m\u001b[43m_ip_map\u001b[49m\u001b[43m,\u001b[49m\u001b[43m \u001b[49m\u001b[43mkey\u001b[49m\u001b[43m)\u001b[49m\n\u001b[1;32m    364\u001b[0m \u001b[38;5;28;01melse\u001b[39;00m:\n\u001b[1;32m    365\u001b[0m     \u001b[38;5;28;01mraise\u001b[39;00m \u001b[38;5;167;01mRuntimeError\u001b[39;00m(\u001b[38;5;124m\"\u001b[39m\u001b[38;5;124mOverlay not currently loaded\u001b[39m\u001b[38;5;124m\"\u001b[39m)\n",
      "File \u001b[0;32m/usr/local/share/pynq-venv/lib/python3.10/site-packages/pynq/overlay.py:931\u001b[0m, in \u001b[0;36m_IPMap.__getattr__\u001b[0;34m(self, key)\u001b[0m\n\u001b[1;32m    929\u001b[0m     \u001b[38;5;28;01mreturn\u001b[39;00m mem\n\u001b[1;32m    930\u001b[0m \u001b[38;5;28;01melse\u001b[39;00m:\n\u001b[0;32m--> 931\u001b[0m     \u001b[38;5;28;01mraise\u001b[39;00m \u001b[38;5;167;01mAttributeError\u001b[39;00m(\n\u001b[1;32m    932\u001b[0m         \u001b[38;5;124m\"\u001b[39m\u001b[38;5;124mCould not find IP or hierarchy \u001b[39m\u001b[38;5;132;01m{}\u001b[39;00m\u001b[38;5;124m in overlay\u001b[39m\u001b[38;5;124m\"\u001b[39m\u001b[38;5;241m.\u001b[39mformat(key)\n\u001b[1;32m    933\u001b[0m     )\n",
      "\u001b[0;31mAttributeError\u001b[0m: Could not find IP or hierarchy myproject_axi_0 in overlay"
     ]
    }
   ],
   "source": [
    "import numpy as np\n",
    "\n",
    "X_test = np.load('x_test.npy')\n",
    "y_test = np.load('y_test.npy')\n",
    "\n",
    "nn = NeuralNetworkOverlay('design_1.bit', X_test[0:1].shape, y_test[0:1].shape)\n",
    "\n",
    "# Inference on one sample, with timing\n",
    "y_hw, latency, throughput = nn.predict(X_test[0:1], profile=True)\n",
    "\n",
    "print(f\"PL compute latency: {latency * 1000:.3f} ms\")\n",
    "print(f\"Throughput: {throughput:.2f} samples/sec\")\n",
    "print(\"Output:\", y_hw)\n"
   ]
  },
  {
   "cell_type": "code",
   "execution_count": 28,
   "id": "81b2c8c9",
   "metadata": {},
   "outputs": [],
   "source": [
    "from pynq import Overlay, allocate\n",
    "import numpy as np\n",
    "import time\n",
    "\n",
    "class NeuralNetworkOverlay:\n",
    "    def __init__(self, bitfile, input_shape, output_shape):\n",
    "        self.overlay = Overlay(bitfile)\n",
    "\n",
    "        # Access IP and DMA inside hierarchy\n",
    "        self.ip = self.overlay.hier_0.myproject_axi_0\n",
    "        self.dma = self.overlay.hier_0.axi_dma_0\n",
    "\n",
    "        # Allocate DMA buffers\n",
    "        self.input_buffer = allocate(shape=input_shape, dtype=np.float32)\n",
    "        self.output_buffer = allocate(shape=output_shape, dtype=np.float32)\n",
    "\n",
    "    def predict(self, input_data, profile=False):\n",
    "        assert input_data.shape[0] == 1, \"Only batch size 1 is supported\"\n",
    "\n",
    "        # Copy data to input buffer\n",
    "        np.copyto(self.input_buffer, input_data)\n",
    "\n",
    "        # Start DMA input transfer\n",
    "        self.dma.sendchannel.transfer(self.input_buffer)\n",
    "        self.dma.sendchannel.wait()\n",
    "\n",
    "        # Start the accelerator\n",
    "        self.ip.write(0x00, 0x01)  # ap_start = 1\n",
    "\n",
    "        # Measure PL compute time\n",
    "        pl_start = time.time()\n",
    "        while (self.ip.read(0x00) & 0x4) == 0:  # Wait for ap_done\n",
    "            pass\n",
    "        pl_end = time.time()\n",
    "        pl_latency = pl_end - pl_start\n",
    "\n",
    "        # Start DMA output transfer\n",
    "        self.dma.recvchannel.transfer(self.output_buffer)\n",
    "        self.dma.recvchannel.wait()\n",
    "\n",
    "        output_array = self.output_buffer.copy()\n",
    "\n",
    "        if profile:\n",
    "            throughput = 1.0 / pl_latency\n",
    "            return output_array, pl_latency, throughput\n",
    "        else:\n",
    "            return output_array\n"
   ]
  },
  {
   "cell_type": "code",
   "execution_count": 29,
   "id": "6cb689df",
   "metadata": {
    "scrolled": true
   },
   "outputs": [
    {
     "ename": "AttributeError",
     "evalue": "Could not find IP or hierarchy myproject_axi_0 in overlay",
     "output_type": "error",
     "traceback": [
      "\u001b[0;31m---------------------------------------------------------------------------\u001b[0m",
      "\u001b[0;31mAttributeError\u001b[0m                            Traceback (most recent call last)",
      "Input \u001b[0;32mIn [29]\u001b[0m, in \u001b[0;36m<cell line: 6>\u001b[0;34m()\u001b[0m\n\u001b[1;32m      3\u001b[0m X_test \u001b[38;5;241m=\u001b[39m np\u001b[38;5;241m.\u001b[39mload(\u001b[38;5;124m'\u001b[39m\u001b[38;5;124mx_test.npy\u001b[39m\u001b[38;5;124m'\u001b[39m)\n\u001b[1;32m      4\u001b[0m y_test \u001b[38;5;241m=\u001b[39m np\u001b[38;5;241m.\u001b[39mload(\u001b[38;5;124m'\u001b[39m\u001b[38;5;124my_test.npy\u001b[39m\u001b[38;5;124m'\u001b[39m)\n\u001b[0;32m----> 6\u001b[0m nn \u001b[38;5;241m=\u001b[39m \u001b[43mNeuralNetworkOverlay\u001b[49m\u001b[43m(\u001b[49m\u001b[38;5;124;43m'\u001b[39;49m\u001b[38;5;124;43mdesign_1.bit\u001b[39;49m\u001b[38;5;124;43m'\u001b[39;49m\u001b[43m,\u001b[49m\u001b[43m \u001b[49m\u001b[43mX_test\u001b[49m\u001b[43m[\u001b[49m\u001b[38;5;241;43m0\u001b[39;49m\u001b[43m:\u001b[49m\u001b[38;5;241;43m1\u001b[39;49m\u001b[43m]\u001b[49m\u001b[38;5;241;43m.\u001b[39;49m\u001b[43mshape\u001b[49m\u001b[43m,\u001b[49m\u001b[43m \u001b[49m\u001b[43my_test\u001b[49m\u001b[43m[\u001b[49m\u001b[38;5;241;43m0\u001b[39;49m\u001b[43m:\u001b[49m\u001b[38;5;241;43m1\u001b[39;49m\u001b[43m]\u001b[49m\u001b[38;5;241;43m.\u001b[39;49m\u001b[43mshape\u001b[49m\u001b[43m)\u001b[49m\n\u001b[1;32m      8\u001b[0m \u001b[38;5;66;03m# Inference on one sample, with timing\u001b[39;00m\n\u001b[1;32m      9\u001b[0m y_hw, latency, throughput \u001b[38;5;241m=\u001b[39m nn\u001b[38;5;241m.\u001b[39mpredict(X_test[\u001b[38;5;241m0\u001b[39m:\u001b[38;5;241m1\u001b[39m], profile\u001b[38;5;241m=\u001b[39m\u001b[38;5;28;01mTrue\u001b[39;00m)\n",
      "Input \u001b[0;32mIn [28]\u001b[0m, in \u001b[0;36mNeuralNetworkOverlay.__init__\u001b[0;34m(self, bitfile, input_shape, output_shape)\u001b[0m\n\u001b[1;32m      7\u001b[0m \u001b[38;5;28mself\u001b[39m\u001b[38;5;241m.\u001b[39moverlay \u001b[38;5;241m=\u001b[39m Overlay(bitfile)\n\u001b[1;32m      9\u001b[0m \u001b[38;5;66;03m# Access IP and DMA inside hierarchy\u001b[39;00m\n\u001b[0;32m---> 10\u001b[0m \u001b[38;5;28mself\u001b[39m\u001b[38;5;241m.\u001b[39mip \u001b[38;5;241m=\u001b[39m \u001b[38;5;28;43mself\u001b[39;49m\u001b[38;5;241;43m.\u001b[39;49m\u001b[43moverlay\u001b[49m\u001b[38;5;241;43m.\u001b[39;49m\u001b[43mhier_0\u001b[49m\u001b[38;5;241;43m.\u001b[39;49m\u001b[43mmyproject_axi_0\u001b[49m\n\u001b[1;32m     11\u001b[0m \u001b[38;5;28mself\u001b[39m\u001b[38;5;241m.\u001b[39mdma \u001b[38;5;241m=\u001b[39m \u001b[38;5;28mself\u001b[39m\u001b[38;5;241m.\u001b[39moverlay\u001b[38;5;241m.\u001b[39mhier_0\u001b[38;5;241m.\u001b[39maxi_dma_0\n\u001b[1;32m     13\u001b[0m \u001b[38;5;66;03m# Allocate DMA buffers\u001b[39;00m\n",
      "File \u001b[0;32m/usr/local/share/pynq-venv/lib/python3.10/site-packages/pynq/overlay.py:931\u001b[0m, in \u001b[0;36m_IPMap.__getattr__\u001b[0;34m(self, key)\u001b[0m\n\u001b[1;32m    929\u001b[0m     \u001b[38;5;28;01mreturn\u001b[39;00m mem\n\u001b[1;32m    930\u001b[0m \u001b[38;5;28;01melse\u001b[39;00m:\n\u001b[0;32m--> 931\u001b[0m     \u001b[38;5;28;01mraise\u001b[39;00m \u001b[38;5;167;01mAttributeError\u001b[39;00m(\n\u001b[1;32m    932\u001b[0m         \u001b[38;5;124m\"\u001b[39m\u001b[38;5;124mCould not find IP or hierarchy \u001b[39m\u001b[38;5;132;01m{}\u001b[39;00m\u001b[38;5;124m in overlay\u001b[39m\u001b[38;5;124m\"\u001b[39m\u001b[38;5;241m.\u001b[39mformat(key)\n\u001b[1;32m    933\u001b[0m     )\n",
      "\u001b[0;31mAttributeError\u001b[0m: Could not find IP or hierarchy myproject_axi_0 in overlay"
     ]
    }
   ],
   "source": [
    "import numpy as np\n",
    "\n",
    "X_test = np.load('x_test.npy')\n",
    "y_test = np.load('y_test.npy')\n",
    "\n",
    "nn = NeuralNetworkOverlay('design_1.bit', X_test[0:1].shape, y_test[0:1].shape)\n",
    "\n",
    "# Inference on one sample, with timing\n",
    "y_hw, latency, throughput = nn.predict(X_test[0:1], profile=True)\n",
    "\n",
    "print(f\"PL compute latency: {latency * 1000:.3f} ms\")\n",
    "print(f\"Throughput: {throughput:.2f} samples/sec\")\n",
    "print(\"Output:\", y_hw)\n"
   ]
  },
  {
   "cell_type": "code",
   "execution_count": 36,
   "id": "3f33f35f",
   "metadata": {},
   "outputs": [
    {
     "ename": "AttributeError",
     "evalue": "Could not find IP or hierarchy axi_timer_0 in overlay",
     "output_type": "error",
     "traceback": [
      "\u001b[0;31m---------------------------------------------------------------------------\u001b[0m",
      "\u001b[0;31mAttributeError\u001b[0m                            Traceback (most recent call last)",
      "Input \u001b[0;32mIn [36]\u001b[0m, in \u001b[0;36m<cell line: 7>\u001b[0;34m()\u001b[0m\n\u001b[1;32m      4\u001b[0m overlay \u001b[38;5;241m=\u001b[39m Overlay(\u001b[38;5;124m\"\u001b[39m\u001b[38;5;124mdesign_1.bit\u001b[39m\u001b[38;5;124m\"\u001b[39m)\n\u001b[1;32m      6\u001b[0m \u001b[38;5;66;03m# Access the timer\u001b[39;00m\n\u001b[0;32m----> 7\u001b[0m timer \u001b[38;5;241m=\u001b[39m \u001b[43moverlay\u001b[49m\u001b[38;5;241;43m.\u001b[39;49m\u001b[43maxi_timer_0\u001b[49m  \u001b[38;5;66;03m# or whatever name you gave it\u001b[39;00m\n\u001b[1;32m      9\u001b[0m \u001b[38;5;66;03m# Start the timer before prediction\u001b[39;00m\n\u001b[1;32m     10\u001b[0m timer\u001b[38;5;241m.\u001b[39mwrite(\u001b[38;5;241m0x00\u001b[39m, \u001b[38;5;241m0x110\u001b[39m)  \u001b[38;5;66;03m# Load + Enable down count + Enable timer\u001b[39;00m\n",
      "File \u001b[0;32m/usr/local/share/pynq-venv/lib/python3.10/site-packages/pynq/overlay.py:363\u001b[0m, in \u001b[0;36mOverlay.__getattr__\u001b[0;34m(self, key)\u001b[0m\n\u001b[1;32m    358\u001b[0m \u001b[38;5;124;03m\"\"\"Overload of __getattr__ to return a driver for an IP or\u001b[39;00m\n\u001b[1;32m    359\u001b[0m \u001b[38;5;124;03mhierarchy. Throws an `RuntimeError` if the overlay is not loaded.\u001b[39;00m\n\u001b[1;32m    360\u001b[0m \n\u001b[1;32m    361\u001b[0m \u001b[38;5;124;03m\"\"\"\u001b[39;00m\n\u001b[1;32m    362\u001b[0m \u001b[38;5;28;01mif\u001b[39;00m \u001b[38;5;28mself\u001b[39m\u001b[38;5;241m.\u001b[39mis_loaded():\n\u001b[0;32m--> 363\u001b[0m     \u001b[38;5;28;01mreturn\u001b[39;00m \u001b[38;5;28;43mgetattr\u001b[39;49m\u001b[43m(\u001b[49m\u001b[38;5;28;43mself\u001b[39;49m\u001b[38;5;241;43m.\u001b[39;49m\u001b[43m_ip_map\u001b[49m\u001b[43m,\u001b[49m\u001b[43m \u001b[49m\u001b[43mkey\u001b[49m\u001b[43m)\u001b[49m\n\u001b[1;32m    364\u001b[0m \u001b[38;5;28;01melse\u001b[39;00m:\n\u001b[1;32m    365\u001b[0m     \u001b[38;5;28;01mraise\u001b[39;00m \u001b[38;5;167;01mRuntimeError\u001b[39;00m(\u001b[38;5;124m\"\u001b[39m\u001b[38;5;124mOverlay not currently loaded\u001b[39m\u001b[38;5;124m\"\u001b[39m)\n",
      "File \u001b[0;32m/usr/local/share/pynq-venv/lib/python3.10/site-packages/pynq/overlay.py:931\u001b[0m, in \u001b[0;36m_IPMap.__getattr__\u001b[0;34m(self, key)\u001b[0m\n\u001b[1;32m    929\u001b[0m     \u001b[38;5;28;01mreturn\u001b[39;00m mem\n\u001b[1;32m    930\u001b[0m \u001b[38;5;28;01melse\u001b[39;00m:\n\u001b[0;32m--> 931\u001b[0m     \u001b[38;5;28;01mraise\u001b[39;00m \u001b[38;5;167;01mAttributeError\u001b[39;00m(\n\u001b[1;32m    932\u001b[0m         \u001b[38;5;124m\"\u001b[39m\u001b[38;5;124mCould not find IP or hierarchy \u001b[39m\u001b[38;5;132;01m{}\u001b[39;00m\u001b[38;5;124m in overlay\u001b[39m\u001b[38;5;124m\"\u001b[39m\u001b[38;5;241m.\u001b[39mformat(key)\n\u001b[1;32m    933\u001b[0m     )\n",
      "\u001b[0;31mAttributeError\u001b[0m: Could not find IP or hierarchy axi_timer_0 in overlay"
     ]
    }
   ],
   "source": [
    "from pynq import Overlay\n",
    "from pynq.lib import AxiGPIO\n",
    "\n",
    "overlay = Overlay(\"design_1.bit\")\n",
    "\n",
    "# Access the timer\n",
    "timer = overlay.axi_timer_0  # or whatever name you gave it\n",
    "\n",
    "# Start the timer before prediction\n",
    "timer.write(0x00, 0x110)  # Load + Enable down count + Enable timer\n",
    "y_hw = overlay.myproject_axi_0.predict(X_test[0:1])  # Replace with your actual call\n",
    "timer.write(0x00, 0x0)  # Stop the timer\n",
    "\n",
    "# Read the timer count\n",
    "elapsed = timer.read(0x08)  # Timer counter register\n",
    "clk_freq = 100e6  # 100 MHz for example\n",
    "pl_time_sec = elapsed / clk_freq\n",
    "print(f\"PL Execution Time: {pl_time_sec * 1e6:.2f} µs\")\n"
   ]
  },
  {
   "cell_type": "code",
   "execution_count": null,
   "id": "f8239cae",
   "metadata": {},
   "outputs": [],
   "source": []
  }
 ],
 "metadata": {
  "kernelspec": {
   "display_name": "Python 3 (ipykernel)",
   "language": "python",
   "name": "python3"
  },
  "language_info": {
   "codemirror_mode": {
    "name": "ipython",
    "version": 3
   },
   "file_extension": ".py",
   "mimetype": "text/x-python",
   "name": "python",
   "nbconvert_exporter": "python",
   "pygments_lexer": "ipython3",
   "version": "3.10.4"
  }
 },
 "nbformat": 4,
 "nbformat_minor": 5
}
