{
 "cells": [
  {
   "cell_type": "code",
   "execution_count": 2,
   "id": "6a35d76d",
   "metadata": {},
   "outputs": [],
   "source": [
    "import numpy as np"
   ]
  },
  {
   "cell_type": "code",
   "execution_count": 3,
   "id": "1b5761b0",
   "metadata": {},
   "outputs": [],
   "source": [
    "W1 = np.load(\"W1.npy\")\n",
    "b1 = np.load(\"b1.npy\")\n",
    "W2 = np.load(\"W2.npy\")\n",
    "b2 = np.load(\"b2.npy\")\n"
   ]
  },
  {
   "cell_type": "code",
   "execution_count": 16,
   "id": "9fa761a6",
   "metadata": {},
   "outputs": [],
   "source": [
    "X_test = np.load(\"X_test.npy\")\n",
    "y_test = np.load(\"y_test.npy\")"
   ]
  },
  {
   "cell_type": "code",
   "execution_count": 9,
   "id": "2af3d9bf",
   "metadata": {},
   "outputs": [
    {
     "name": "stdout",
     "output_type": "stream",
     "text": [
      "(10000, 196)\n"
     ]
    }
   ],
   "source": [
    "print(X_test.shape)"
   ]
  },
  {
   "cell_type": "code",
   "execution_count": 17,
   "id": "02a8cb71",
   "metadata": {},
   "outputs": [],
   "source": [
    "def relu(x):\n",
    "    return np.maximum(0, x)\n",
    "\n",
    "\n",
    "def softmax(x):\n",
    "    exps = np.exp(x - np.max(x, axis=1, keepdims=True))  # prevent overflow\n",
    "    return exps / np.sum(exps, axis=1, keepdims=True)\n",
    "\n",
    "def cross_entropy_loss(y_true, y_pred):\n",
    "    epsilon = 1e-10\n",
    "    y_pred = np.clip(y_pred, epsilon, 1. - epsilon)\n",
    "    return -np.mean(np.sum(y_true * np.log(y_pred), axis=1))\n",
    "\n",
    "def predict(X):\n",
    "    a1 = relu(X @ W1 + b1)\n",
    "    a2 = softmax(a1 @ W2 + b2)\n",
    "    return a2\n",
    "\n"
   ]
  },
  {
   "cell_type": "code",
   "execution_count": 33,
   "id": "9ff1e801",
   "metadata": {},
   "outputs": [
    {
     "name": "stdout",
     "output_type": "stream",
     "text": [
      "0.6012117862701416\n"
     ]
    }
   ],
   "source": [
    "import time\n",
    "start = time.time()\n",
    "preds = predict(X_test)\n",
    "end = time.time()\n",
    "print(end-start)"
   ]
  },
  {
   "cell_type": "code",
   "execution_count": 34,
   "id": "8d6a3f66",
   "metadata": {},
   "outputs": [
    {
     "name": "stdout",
     "output_type": "stream",
     "text": [
      "Test Loss 0.41155576690227974\n",
      "Accuracy 0.8966\n"
     ]
    }
   ],
   "source": [
    "test_loss = cross_entropy_loss(y_test, preds)\n",
    "test_accuracy = np.mean(np.argmax(preds, axis=1) == np.argmax(y_test, axis=1))\n",
    "\n",
    "print(\"Test Loss\", test_loss)\n",
    "print(\"Accuracy\", test_accuracy)"
   ]
  },
  {
   "cell_type": "code",
   "execution_count": null,
   "id": "0cccad12",
   "metadata": {},
   "outputs": [],
   "source": []
  }
 ],
 "metadata": {
  "kernelspec": {
   "display_name": "Python 3 (ipykernel)",
   "language": "python",
   "name": "python3"
  },
  "language_info": {
   "codemirror_mode": {
    "name": "ipython",
    "version": 3
   },
   "file_extension": ".py",
   "mimetype": "text/x-python",
   "name": "python",
   "nbconvert_exporter": "python",
   "pygments_lexer": "ipython3",
   "version": "3.10.4"
  }
 },
 "nbformat": 4,
 "nbformat_minor": 5
}
