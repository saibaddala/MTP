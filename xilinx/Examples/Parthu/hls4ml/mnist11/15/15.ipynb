{
 "cells": [
  {
   "cell_type": "code",
   "execution_count": 3,
   "id": "5bf8ff61",
   "metadata": {},
   "outputs": [
    {
     "name": "stdout",
     "output_type": "stream",
     "text": [
      "(10000, 196)\n",
      "(196,)\n",
      "(10000, 10)\n"
     ]
    }
   ],
   "source": [
    "from axi_stream_driver import NeuralNetworkOverlay\n",
    "import numpy as np\n",
    "import time\n",
    "\n",
    "X_test = np.load('x_test.npy')\n",
    "y_test = np.load('y_text.npy')\n",
    "\n",
    "print(X_test.shape)\n",
    "print(X_test[0].shape)\n",
    "\n",
    "print(y_test.shape)\n",
    "\n",
    "nn = NeuralNetworkOverlay('design_1.bit', X_test.shape, y_test.shape)"
   ]
  },
  {
   "cell_type": "code",
   "execution_count": 41,
   "id": "04fc5cf3",
   "metadata": {},
   "outputs": [
    {
     "name": "stdout",
     "output_type": "stream",
     "text": [
      "Classified 10000 samples in 0.06408599999999999 seconds (156040.32081889964 inferences / s)\n",
      "0.06578564643859863\n"
     ]
    }
   ],
   "source": [
    "start = time.time()\n",
    "y_hw, latency, throughput = nn.predict(X_test, profile=True)\n",
    "end = time.time()\n",
    "\n",
    "print(end-start)"
   ]
  },
  {
   "cell_type": "code",
   "execution_count": null,
   "id": "f2300170",
   "metadata": {},
   "outputs": [],
   "source": []
  },
  {
   "cell_type": "code",
   "execution_count": null,
   "id": "71a4d8c5",
   "metadata": {},
   "outputs": [],
   "source": []
  }
 ],
 "metadata": {
  "kernelspec": {
   "display_name": "Python 3 (ipykernel)",
   "language": "python",
   "name": "python3"
  },
  "language_info": {
   "codemirror_mode": {
    "name": "ipython",
    "version": 3
   },
   "file_extension": ".py",
   "mimetype": "text/x-python",
   "name": "python",
   "nbconvert_exporter": "python",
   "pygments_lexer": "ipython3",
   "version": "3.10.4"
  }
 },
 "nbformat": 4,
 "nbformat_minor": 5
}
