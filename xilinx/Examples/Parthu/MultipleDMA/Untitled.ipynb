{
 "cells": [
  {
   "cell_type": "code",
   "execution_count": 2,
   "id": "1b621756",
   "metadata": {},
   "outputs": [],
   "source": [
    "import pynq\n",
    "from pynq import Overlay\n",
    "from pynq.lib.dma import DMA\n",
    "import numpy as np\n",
    "from pynq import allocate\n",
    "\n",
    "# Load the overlay that includes the axi_dma_loopback module\n",
    "overlay = Overlay(\"design_1.bit\")\n",
    "dma0 = overlay.axi_dma_0\n",
    "dma1 = overlay.axi_dma_1\n",
    "dma2 = overlay.axi_dma_2\n",
    "\n",
    "\n",
    "t = [1,2,3,4,5,6,7]\n",
    "t1 = [1,2,3,4,5,6,7]\n",
    "n = len(t)\n",
    "n1 = len(t1)\n",
    "\n",
    "array_t = np.array(t)\n",
    "array_t1 = np.array(t1)\n",
    "\n",
    "sample = array_t.astype(np.int32)\n",
    "sample1 = array_t1.astype(np.int32)"
   ]
  },
  {
   "cell_type": "code",
   "execution_count": 3,
   "id": "e9bc5473",
   "metadata": {},
   "outputs": [
    {
     "ename": "KeyboardInterrupt",
     "evalue": "",
     "output_type": "error",
     "traceback": [
      "\u001b[0;31m---------------------------------------------------------------------------\u001b[0m",
      "\u001b[0;31mKeyboardInterrupt\u001b[0m                         Traceback (most recent call last)",
      "Input \u001b[0;32mIn [3]\u001b[0m, in \u001b[0;36m<cell line: 2>\u001b[0;34m()\u001b[0m\n\u001b[1;32m     13\u001b[0m dma0\u001b[38;5;241m.\u001b[39msendchannel\u001b[38;5;241m.\u001b[39mwait()\n\u001b[1;32m     14\u001b[0m dma1\u001b[38;5;241m.\u001b[39msendchannel\u001b[38;5;241m.\u001b[39mwait()\n\u001b[0;32m---> 15\u001b[0m \u001b[43mdma2\u001b[49m\u001b[38;5;241;43m.\u001b[39;49m\u001b[43mrecvchannel\u001b[49m\u001b[38;5;241;43m.\u001b[39;49m\u001b[43mwait\u001b[49m\u001b[43m(\u001b[49m\u001b[43m)\u001b[49m\n\u001b[1;32m     17\u001b[0m \u001b[38;5;28mprint\u001b[39m(in_buffer)\n\u001b[1;32m     18\u001b[0m \u001b[38;5;28mprint\u001b[39m(in_buffer1)\n",
      "File \u001b[0;32m/usr/local/share/pynq-venv/lib/python3.10/site-packages/pynq/lib/dma.py:171\u001b[0m, in \u001b[0;36m_SDMAChannel.wait\u001b[0;34m(self)\u001b[0m\n\u001b[1;32m    169\u001b[0m     \u001b[38;5;28;01mraise\u001b[39;00m \u001b[38;5;167;01mRuntimeError\u001b[39;00m(\u001b[38;5;124m\"\u001b[39m\u001b[38;5;124mDMA channel not started\u001b[39m\u001b[38;5;124m\"\u001b[39m)\n\u001b[1;32m    170\u001b[0m \u001b[38;5;28;01mwhile\u001b[39;00m \u001b[38;5;28;01mTrue\u001b[39;00m:\n\u001b[0;32m--> 171\u001b[0m     error \u001b[38;5;241m=\u001b[39m \u001b[38;5;28;43mself\u001b[39;49m\u001b[38;5;241;43m.\u001b[39;49m\u001b[43m_mmio\u001b[49m\u001b[38;5;241;43m.\u001b[39;49m\u001b[43mread\u001b[49m\u001b[43m(\u001b[49m\u001b[38;5;28;43mself\u001b[39;49m\u001b[38;5;241;43m.\u001b[39;49m\u001b[43m_offset\u001b[49m\u001b[43m \u001b[49m\u001b[38;5;241;43m+\u001b[39;49m\u001b[43m \u001b[49m\u001b[38;5;241;43m4\u001b[39;49m\u001b[43m)\u001b[49m\n\u001b[1;32m    172\u001b[0m     \u001b[38;5;28;01mif\u001b[39;00m \u001b[38;5;28mself\u001b[39m\u001b[38;5;241m.\u001b[39merror:\n\u001b[1;32m    173\u001b[0m         \u001b[38;5;28;01mif\u001b[39;00m error \u001b[38;5;241m&\u001b[39m \u001b[38;5;241m0x10\u001b[39m:\n",
      "File \u001b[0;32m/usr/local/share/pynq-venv/lib/python3.10/site-packages/pynq/mmio.py:82\u001b[0m, in \u001b[0;36mMMIO.read\u001b[0;34m(self, offset, length, word_order)\u001b[0m\n\u001b[1;32m     79\u001b[0m     \u001b[38;5;28;01melse\u001b[39;00m:\n\u001b[1;32m     80\u001b[0m         \u001b[38;5;28;01mraise\u001b[39;00m \u001b[38;5;167;01mValueError\u001b[39;00m(\u001b[38;5;124m\"\u001b[39m\u001b[38;5;124mDevice does not have capabilities for MMIO\u001b[39m\u001b[38;5;124m\"\u001b[39m)\n\u001b[0;32m---> 82\u001b[0m \u001b[38;5;28;01mdef\u001b[39;00m \u001b[38;5;21mread\u001b[39m(\u001b[38;5;28mself\u001b[39m, offset\u001b[38;5;241m=\u001b[39m\u001b[38;5;241m0\u001b[39m, length\u001b[38;5;241m=\u001b[39m\u001b[38;5;241m4\u001b[39m, word_order\u001b[38;5;241m=\u001b[39m\u001b[38;5;124m\"\u001b[39m\u001b[38;5;124mlittle\u001b[39m\u001b[38;5;124m\"\u001b[39m):\n\u001b[1;32m     83\u001b[0m     \u001b[38;5;124;03m\"\"\"The method to read data from MMIO.\u001b[39;00m\n\u001b[1;32m     84\u001b[0m \n\u001b[1;32m     85\u001b[0m \u001b[38;5;124;03m    For the `word_order` parameter, it is only effective when\u001b[39;00m\n\u001b[0;32m   (...)\u001b[0m\n\u001b[1;32m    106\u001b[0m \n\u001b[1;32m    107\u001b[0m \u001b[38;5;124;03m    \"\"\"\u001b[39;00m\n\u001b[1;32m    108\u001b[0m     \u001b[38;5;28;01mif\u001b[39;00m length \u001b[38;5;129;01mnot\u001b[39;00m \u001b[38;5;129;01min\u001b[39;00m [\u001b[38;5;241m1\u001b[39m, \u001b[38;5;241m2\u001b[39m, \u001b[38;5;241m4\u001b[39m, \u001b[38;5;241m8\u001b[39m]:\n",
      "\u001b[0;31mKeyboardInterrupt\u001b[0m: "
     ]
    }
   ],
   "source": [
    "# Allocate buffers for the input and output signals\n",
    "with allocate(shape=(n,), dtype=np.int32) as in_buffer, \\\n",
    "     allocate(shape=(n1,), dtype=np.int32) as in_buffer1, \\\n",
    "     allocate(shape=(n,), dtype=np.int32) as out_buffer:\n",
    "    \n",
    "    np.copyto(in_buffer,sample)\n",
    "    np.copyto(in_buffer1,sample1)\n",
    "    \n",
    "    dma0.sendchannel.transfer(in_buffer)\n",
    "    dma1.sendchannel.transfer(in_buffer1)\n",
    "    dma2.recvchannel.transfer(out_buffer)\n",
    "    \n",
    "    dma0.sendchannel.wait()\n",
    "    dma1.sendchannel.wait()\n",
    "    dma2.recvchannel.wait()\n",
    "    \n",
    "    print(in_buffer)\n",
    "    print(in_buffer1)\n",
    "    print(out_buffer)"
   ]
  },
  {
   "cell_type": "code",
   "execution_count": null,
   "id": "fc5cce70",
   "metadata": {},
   "outputs": [],
   "source": [
    "import pynq\n",
    "from pynq import Overlay\n",
    "from pynq.lib.dma import DMA\n",
    "import numpy as np\n",
    "from pynq import allocate\n",
    "\n",
    "# Load the overlay that includes the axi_dma_loopback module\n",
    "overlay = Overlay(\"design_1.bit\")\n",
    "dma0 = overlay.axi_dma_0\n",
    "dma1 = overlay.axi_dma_1\n",
    "dma2 = overlay.axi_dma_2\n",
    "\n",
    "t = [1, 2, 3, 4, 5, 6, 7]\n",
    "t1 = [1, 2, 3, 4, 5, 6, 7]\n",
    "n = len(t)\n",
    "n1 = len(t1)\n",
    "\n",
    "array_t = np.array(t)\n",
    "array_t1 = np.array(t1)\n",
    "\n",
    "sample = array_t.astype(np.int32)\n",
    "sample1 = array_t1.astype(np.int32)\n",
    "\n",
    "with allocate(shape=(n,), dtype=np.int32) as in_buffer, \\\n",
    "     allocate(shape=(n1,), dtype=np.int32) as in_buffer1, \\\n",
    "     allocate(shape=(n,), dtype=np.int32) as out_buffer:\n",
    "    \n",
    "    # Copy the input data to the buffers\n",
    "    np.copyto(in_buffer, sample)\n",
    "    np.copyto(in_buffer1, sample1)\n",
    "    \n",
    "    # Start DMA transfers\n",
    "    dma0.sendchannel.transfer(in_buffer)\n",
    "    dma1.sendchannel.transfer(in_buffer1)\n",
    "    dma2.recvchannel.transfer(out_buffer)\n",
    "    \n",
    "    # Wait for all DMA operations to complete\n",
    "    dma0.sendchannel.wait()\n",
    "    dma1.sendchannel.wait()\n",
    "    dma2.recvchannel.wait()\n",
    "    \n",
    "    # Output the contents of the buffers\n",
    "    print(\"Input Buffer 1:\", in_buffer)\n",
    "    print(\"Input Buffer 2:\", in_buffer1)\n",
    "    print(\"Output Buffer:\", out_buffer)\n"
   ]
  }
 ],
 "metadata": {
  "kernelspec": {
   "display_name": "Python 3 (ipykernel)",
   "language": "python",
   "name": "python3"
  },
  "language_info": {
   "codemirror_mode": {
    "name": "ipython",
    "version": 3
   },
   "file_extension": ".py",
   "mimetype": "text/x-python",
   "name": "python",
   "nbconvert_exporter": "python",
   "pygments_lexer": "ipython3",
   "version": "3.10.4"
  }
 },
 "nbformat": 4,
 "nbformat_minor": 5
}
