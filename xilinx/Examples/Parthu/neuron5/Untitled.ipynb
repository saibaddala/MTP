{
 "cells": [
  {
   "cell_type": "code",
   "execution_count": null,
   "id": "6e596705",
   "metadata": {},
   "outputs": [],
   "source": []
  },
  {
   "cell_type": "markdown",
   "id": "7df7c247",
   "metadata": {},
   "source": [
    "# Seven -> Hexa decimal"
   ]
  },
  {
   "cell_type": "code",
   "execution_count": 3,
   "id": "57b993c1",
   "metadata": {},
   "outputs": [
    {
     "name": "stdout",
     "output_type": "stream",
     "text": [
      "result : 0x690050\n",
      "result : 0b11010010000000001010000\n"
     ]
    }
   ],
   "source": [
    "from pynq import Overlay , MMIO\n",
    "\n",
    "overlay = Overlay('neural.bit')\n",
    "\n",
    "gpio_0_baseaddr = 0x41200000\n",
    "\n",
    "gpio_0 = MMIO(gpio_0_baseaddr,0x10000)\n",
    "\n",
    "result  = gpio_0.read(0x00)\n",
    "print(f\"result : {hex(result)}\")\n",
    "print(f\"result : {bin(result)}\")"
   ]
  },
  {
   "cell_type": "markdown",
   "id": "2a8f4d35",
   "metadata": {},
   "source": [
    "# six"
   ]
  },
  {
   "cell_type": "code",
   "execution_count": 2,
   "id": "23644ca4",
   "metadata": {},
   "outputs": [
    {
     "name": "stdout",
     "output_type": "stream",
     "text": [
      "result : 0x690050\n",
      "result : 0b11010010000000001010000\n"
     ]
    }
   ],
   "source": [
    "from pynq import Overlay , MMIO\n",
    "\n",
    "overlay = Overlay('six.bit')\n",
    "\n",
    "gpio_0_baseaddr = 0x41200000\n",
    "\n",
    "gpio_0 = MMIO(gpio_0_baseaddr,0x10000)\n",
    "\n",
    "result  = gpio_0.read(0x00)\n",
    "print(f\"result : {hex(result)}\")\n",
    "print(f\"result : {bin(result)}\")"
   ]
  },
  {
   "cell_type": "markdown",
   "id": "b3c61818",
   "metadata": {},
   "source": [
    "# five  -> binary"
   ]
  },
  {
   "cell_type": "code",
   "execution_count": 1,
   "id": "ca75f61e",
   "metadata": {},
   "outputs": [
    {
     "data": {
      "application/javascript": [
       "\n",
       "try {\n",
       "require(['notebook/js/codecell'], function(codecell) {\n",
       "  codecell.CodeCell.options_default.highlight_modes[\n",
       "      'magic_text/x-csrc'] = {'reg':[/^%%microblaze/]};\n",
       "  Jupyter.notebook.events.one('kernel_ready.Kernel', function(){\n",
       "      Jupyter.notebook.get_cells().map(function(cell){\n",
       "          if (cell.cell_type == 'code'){ cell.auto_highlight(); } }) ;\n",
       "  });\n",
       "});\n",
       "} catch (e) {};\n"
      ]
     },
     "metadata": {},
     "output_type": "display_data"
    },
    {
     "data": {
      "application/javascript": [
       "\n",
       "try {\n",
       "require(['notebook/js/codecell'], function(codecell) {\n",
       "  codecell.CodeCell.options_default.highlight_modes[\n",
       "      'magic_text/x-csrc'] = {'reg':[/^%%pybind11/]};\n",
       "  Jupyter.notebook.events.one('kernel_ready.Kernel', function(){\n",
       "      Jupyter.notebook.get_cells().map(function(cell){\n",
       "          if (cell.cell_type == 'code'){ cell.auto_highlight(); } }) ;\n",
       "  });\n",
       "});\n",
       "} catch (e) {};\n"
      ]
     },
     "metadata": {},
     "output_type": "display_data"
    },
    {
     "name": "stdout",
     "output_type": "stream",
     "text": [
      "result : 0x690050\n",
      "result : 0b11010010000000001010000\n"
     ]
    }
   ],
   "source": [
    "from pynq import Overlay , MMIO\n",
    "\n",
    "overlay = Overlay('five.bit')\n",
    "\n",
    "gpio_0_baseaddr = 0x41200000\n",
    "\n",
    "gpio_0 = MMIO(gpio_0_baseaddr,0x10000)\n",
    "\n",
    "result  = gpio_0.read(0x00)\n",
    "print(f\"result : {hex(result)}\")\n",
    "print(f\"result : {bin(result)}\")"
   ]
  },
  {
   "cell_type": "markdown",
   "id": "1cbd7445",
   "metadata": {},
   "source": [
    "# first"
   ]
  },
  {
   "cell_type": "code",
   "execution_count": 1,
   "id": "326eec0b",
   "metadata": {},
   "outputs": [
    {
     "data": {
      "application/javascript": [
       "\n",
       "try {\n",
       "require(['notebook/js/codecell'], function(codecell) {\n",
       "  codecell.CodeCell.options_default.highlight_modes[\n",
       "      'magic_text/x-csrc'] = {'reg':[/^%%microblaze/]};\n",
       "  Jupyter.notebook.events.one('kernel_ready.Kernel', function(){\n",
       "      Jupyter.notebook.get_cells().map(function(cell){\n",
       "          if (cell.cell_type == 'code'){ cell.auto_highlight(); } }) ;\n",
       "  });\n",
       "});\n",
       "} catch (e) {};\n"
      ]
     },
     "metadata": {},
     "output_type": "display_data"
    },
    {
     "data": {
      "application/javascript": [
       "\n",
       "try {\n",
       "require(['notebook/js/codecell'], function(codecell) {\n",
       "  codecell.CodeCell.options_default.highlight_modes[\n",
       "      'magic_text/x-csrc'] = {'reg':[/^%%pybind11/]};\n",
       "  Jupyter.notebook.events.one('kernel_ready.Kernel', function(){\n",
       "      Jupyter.notebook.get_cells().map(function(cell){\n",
       "          if (cell.cell_type == 'code'){ cell.auto_highlight(); } }) ;\n",
       "  });\n",
       "});\n",
       "} catch (e) {};\n"
      ]
     },
     "metadata": {},
     "output_type": "display_data"
    }
   ],
   "source": [
    "from pynq import Overlay , MMIO\n",
    "\n",
    "overlay = Overlay('first.bit')"
   ]
  },
  {
   "cell_type": "code",
   "execution_count": 2,
   "id": "c1290580",
   "metadata": {},
   "outputs": [
    {
     "name": "stdout",
     "output_type": "stream",
     "text": [
      "result : 0x550055\n"
     ]
    }
   ],
   "source": [
    "gpio_0_baseaddr = 0x41200000\n",
    "\n",
    "gpio_0 = MMIO(gpio_0_baseaddr,0x10000)\n",
    "\n",
    "result  = gpio_0.read(0x00)\n",
    "print(f\"result : {hex(result)}\")"
   ]
  },
  {
   "cell_type": "markdown",
   "id": "a7f8b9b8",
   "metadata": {},
   "source": [
    "# second"
   ]
  },
  {
   "cell_type": "code",
   "execution_count": 4,
   "id": "a33b4983",
   "metadata": {},
   "outputs": [
    {
     "name": "stdout",
     "output_type": "stream",
     "text": [
      "result : 0x552055\n"
     ]
    }
   ],
   "source": [
    "from pynq import Overlay , MMIO\n",
    "\n",
    "overlay = Overlay('second.bit')\n",
    "\n",
    "gpio_0_baseaddr = 0x41200000\n",
    "\n",
    "gpio_0 = MMIO(gpio_0_baseaddr,0x10000)\n",
    "\n",
    "result  = gpio_0.read(0x00)\n",
    "print(f\"result : {hex(result)}\")"
   ]
  },
  {
   "cell_type": "markdown",
   "id": "57ae6241",
   "metadata": {},
   "source": [
    "# three"
   ]
  },
  {
   "cell_type": "code",
   "execution_count": 5,
   "id": "69727e3a",
   "metadata": {},
   "outputs": [
    {
     "name": "stdout",
     "output_type": "stream",
     "text": [
      "result : 0x552055\n"
     ]
    }
   ],
   "source": [
    "from pynq import Overlay , MMIO\n",
    "\n",
    "overlay = Overlay('three.bit')\n",
    "\n",
    "gpio_0_baseaddr = 0x41200000\n",
    "\n",
    "gpio_0 = MMIO(gpio_0_baseaddr,0x10000)\n",
    "\n",
    "result  = gpio_0.read(0x00)\n",
    "print(f\"result : {hex(result)}\")"
   ]
  },
  {
   "cell_type": "markdown",
   "id": "3c36878e",
   "metadata": {},
   "source": [
    "# four"
   ]
  },
  {
   "cell_type": "code",
   "execution_count": 7,
   "id": "2287f686",
   "metadata": {},
   "outputs": [
    {
     "name": "stdout",
     "output_type": "stream",
     "text": [
      "result : 0b1101001011010010110100101010000\n"
     ]
    }
   ],
   "source": [
    "from pynq import Overlay , MMIO\n",
    "\n",
    "overlay = Overlay('four.bit')\n",
    "\n",
    "gpio_0_baseaddr = 0x41200000\n",
    "\n",
    "gpio_0 = MMIO(gpio_0_baseaddr,0x10000)\n",
    "\n",
    "result  = gpio_0.read(0x00)\n",
    "print(f\"result : {bin(result)}\")"
   ]
  },
  {
   "cell_type": "code",
   "execution_count": null,
   "id": "c1e5a51b",
   "metadata": {},
   "outputs": [],
   "source": [
    "1101 0010 1101 0010 1101 0010 1010000"
   ]
  },
  {
   "cell_type": "code",
   "execution_count": null,
   "id": "538474ca",
   "metadata": {},
   "outputs": [],
   "source": []
  },
  {
   "cell_type": "code",
   "execution_count": null,
   "id": "20430b24",
   "metadata": {},
   "outputs": [],
   "source": []
  }
 ],
 "metadata": {
  "kernelspec": {
   "display_name": "Python 3 (ipykernel)",
   "language": "python",
   "name": "python3"
  },
  "language_info": {
   "codemirror_mode": {
    "name": "ipython",
    "version": 3
   },
   "file_extension": ".py",
   "mimetype": "text/x-python",
   "name": "python",
   "nbconvert_exporter": "python",
   "pygments_lexer": "ipython3",
   "version": "3.10.4"
  }
 },
 "nbformat": 4,
 "nbformat_minor": 5
}
