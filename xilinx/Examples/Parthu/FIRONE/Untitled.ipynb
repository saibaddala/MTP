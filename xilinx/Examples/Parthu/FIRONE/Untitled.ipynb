{
 "cells": [
  {
   "cell_type": "code",
   "execution_count": null,
   "id": "6357316d",
   "metadata": {},
   "outputs": [],
   "source": [
    "from PIL import Image  \n",
    "# Open the image file  \n",
    "image = Image.open('Sample.png')  \n",
    "# Get the image format  \n",
    "image_format = Image. format  \n",
    "# Get image size  \n",
    "image_size = Image. size  \n",
    "# Get image mode  \n",
    "image_mode = Image. mode  \n",
    "# Close the image file  \n",
    "image.close()  \n",
    "# Print the details  \n",
    "print(image_format)  \n",
    "print(image_size)  \n",
    "print(image_mode)  "
   ]
  },
  {
   "cell_type": "code",
   "execution_count": 50,
   "id": "35e11ce3",
   "metadata": {},
   "outputs": [
    {
     "name": "stdout",
     "output_type": "stream",
     "text": [
      "9\n"
     ]
    },
    {
     "data": {
      "text/plain": [
       "array([1.42857143e-05, 5.71428571e-05, 1.42857143e-04, 2.28571429e-04,\n",
       "       3.14285714e-04, 4.00000000e-04, 4.85714286e-04, 5.71428571e-04,\n",
       "       6.57142857e-04])"
      ]
     },
     "execution_count": 50,
     "metadata": {},
     "output_type": "execute_result"
    }
   ],
   "source": [
    "import numpy as np\n",
    "from scipy.signal import lfilter  # this for 1d coeff\n",
    "\n",
    "t = [1,2,3,4,5,6,7,8,9]\n",
    "coeffs = [1,2,3]\n",
    "# converting the list to a numpy array\n",
    "\n",
    "array_t = np.array(t)\n",
    "\n",
    "sample = array_t.astype(np.int32)\n",
    "\n",
    "# sample = sample.astype(np.float32)\n",
    "print(len(sample))\n",
    "\n",
    "\n",
    "sw_fir_output = lfilter(coeffs,70e3,sample)\n",
    "sw_fir_output"
   ]
  },
  {
   "cell_type": "code",
   "execution_count": 32,
   "id": "8a2b83ed",
   "metadata": {},
   "outputs": [
    {
     "name": "stdout",
     "output_type": "stream",
     "text": [
      "Filtered output:\n",
      " [[ 1.  4.  7.]\n",
      " [ 7. 23. 33.]\n",
      " [19. 53. 63.]]\n"
     ]
    }
   ],
   "source": [
    "import numpy as np\n",
    "from scipy.signal import convolve2d\n",
    "\n",
    "# Define a 2D input array\n",
    "t = [[1, 2, 3],\n",
    "     [4, 5, 6],\n",
    "     [7, 8, 9]]\n",
    "\n",
    "# Define a 2D filter (coefficients)\n",
    "coeffs = [[1, 2],\n",
    "          [3, 4]]\n",
    "\n",
    "# Convert the list to a NumPy array and cast to float32\n",
    "sample = np.array(t).astype(np.float32)\n",
    "\n",
    "# Apply the 2D convolution\n",
    "sw_fir_output = convolve2d(sample, coeffs, mode='same')\n",
    "\n",
    "# Output the filtered result\n",
    "print(\"Filtered output:\\n\", sw_fir_output)"
   ]
  },
  {
   "cell_type": "code",
   "execution_count": 55,
   "id": "582c2da8",
   "metadata": {},
   "outputs": [],
   "source": [
    "from pynq import Overlay\n",
    "import pynq.lib.dma\n",
    "\n",
    "# Load the overlay\n",
    "overlay = Overlay('./fir.bit')\n",
    "\n",
    "dma = overlay.filter.fir_dma  # accessing the DMA IP core -> fir_dma is the name of the AXI DMA"
   ]
  },
  {
   "cell_type": "code",
   "execution_count": 56,
   "id": "1080177e",
   "metadata": {},
   "outputs": [],
   "source": [
    "from pynq import allocate\n",
    "\n",
    "import numpy as np\n",
    "\n",
    "t = [1,2,3,4,5,6,7,8,9]\n",
    "n = len(t)\n",
    "\n",
    "array_t = np.array(t)\n",
    "\n",
    "sample = array_t.astype(np.int32)"
   ]
  },
  {
   "cell_type": "code",
   "execution_count": 57,
   "id": "60e86d1a",
   "metadata": {},
   "outputs": [
    {
     "name": "stdout",
     "output_type": "stream",
     "text": [
      "time  0.001598358154296875\n",
      "[1 2 3 4 5 6 7 8 9]\n",
      "[0 1 1 2 3 4 4 5 6]\n"
     ]
    }
   ],
   "source": [
    "with allocate(shape=(n,), dtype=np.int32) as in_buffer, \\\n",
    "     allocate(shape=(n,), dtype=np.int32) as out_buffer:\n",
    "    \n",
    "    np.copyto(in_buffer, sample)\n",
    "    \n",
    "    import time\n",
    "    start_time = time.time()\n",
    "    \n",
    "    dma.sendchannel.transfer(in_buffer)\n",
    "    dma.recvchannel.transfer(out_buffer)\n",
    "    \n",
    "    dma.sendchannel.wait()\n",
    "    dma.recvchannel.wait()\n",
    "    \n",
    "    stop_time = time.time()\n",
    "    \n",
    "    diff = stop_time - start_time\n",
    "    print(\"time \", diff)\n",
    "    print(in_buffer)\n",
    "    print(out_buffer)\n",
    "    in_buffer.close()\n",
    "    out_buffer.close()"
   ]
  },
  {
   "cell_type": "code",
   "execution_count": null,
   "id": "eb386822",
   "metadata": {},
   "outputs": [],
   "source": []
  },
  {
   "cell_type": "code",
   "execution_count": null,
   "id": "0c3f72b8",
   "metadata": {},
   "outputs": [],
   "source": []
  },
  {
   "cell_type": "code",
   "execution_count": null,
   "id": "16e8ea5b",
   "metadata": {},
   "outputs": [],
   "source": []
  }
 ],
 "metadata": {
  "kernelspec": {
   "display_name": "Python 3 (ipykernel)",
   "language": "python",
   "name": "python3"
  },
  "language_info": {
   "codemirror_mode": {
    "name": "ipython",
    "version": 3
   },
   "file_extension": ".py",
   "mimetype": "text/x-python",
   "name": "python",
   "nbconvert_exporter": "python",
   "pygments_lexer": "ipython3",
   "version": "3.10.4"
  }
 },
 "nbformat": 4,
 "nbformat_minor": 5
}
