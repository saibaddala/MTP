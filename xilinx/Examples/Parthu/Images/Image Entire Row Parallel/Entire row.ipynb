{
 "cells": [
  {
   "cell_type": "code",
   "execution_count": 1,
   "id": "927c4e54",
   "metadata": {},
   "outputs": [
    {
     "data": {
      "application/javascript": [
       "\n",
       "try {\n",
       "require(['notebook/js/codecell'], function(codecell) {\n",
       "  codecell.CodeCell.options_default.highlight_modes[\n",
       "      'magic_text/x-csrc'] = {'reg':[/^%%microblaze/]};\n",
       "  Jupyter.notebook.events.one('kernel_ready.Kernel', function(){\n",
       "      Jupyter.notebook.get_cells().map(function(cell){\n",
       "          if (cell.cell_type == 'code'){ cell.auto_highlight(); } }) ;\n",
       "  });\n",
       "});\n",
       "} catch (e) {};\n"
      ]
     },
     "metadata": {},
     "output_type": "display_data"
    },
    {
     "data": {
      "application/javascript": [
       "\n",
       "try {\n",
       "require(['notebook/js/codecell'], function(codecell) {\n",
       "  codecell.CodeCell.options_default.highlight_modes[\n",
       "      'magic_text/x-csrc'] = {'reg':[/^%%pybind11/]};\n",
       "  Jupyter.notebook.events.one('kernel_ready.Kernel', function(){\n",
       "      Jupyter.notebook.get_cells().map(function(cell){\n",
       "          if (cell.cell_type == 'code'){ cell.auto_highlight(); } }) ;\n",
       "  });\n",
       "});\n",
       "} catch (e) {};\n"
      ]
     },
     "metadata": {},
     "output_type": "display_data"
    }
   ],
   "source": [
    "import pynq\n",
    "from pynq import Overlay\n",
    "from pynq.lib.dma import DMA\n",
    "import numpy as np\n",
    "from pynq import allocate\n",
    "import cv2\n",
    "\n",
    "# Load the overlay that includes the row_parallel_processor module\n",
    "overlay = Overlay(\"design_1.bit\")  # Ensure you have the correct bitstream file\n",
    "dma = overlay.axi_dma_0"
   ]
  },
  {
   "cell_type": "code",
   "execution_count": 7,
   "id": "ab1acc79",
   "metadata": {},
   "outputs": [
    {
     "name": "stdout",
     "output_type": "stream",
     "text": [
      "Image Height: 640, Width: 480\n"
     ]
    }
   ],
   "source": [
    "# Reading image\n",
    "image_path = \"hailee_resized.jpg\"  # Path to your image\n",
    "image = cv2.imread(image_path, cv2.IMREAD_GRAYSCALE)  # Read as grayscale\n",
    "height, width = image.shape\n",
    "print(f\"Image Height: {height}, Width: {width}\")"
   ]
  },
  {
   "cell_type": "code",
   "execution_count": 8,
   "id": "1f95116b",
   "metadata": {},
   "outputs": [],
   "source": [
    "\n",
    "\n",
    "# Check if image width is compatible (480 pixels)\n",
    "if width != 480:\n",
    "    raise ValueError(\"Image width must be 480 pixels.\")\n",
    "\n",
    "# Preparing to process the image in rows\n",
    "rows = height\n",
    "row_size = 480  # Each row has 480 pixels\n",
    "chunk_size = row_size  # Each chunk to process is one row"
   ]
  },
  {
   "cell_type": "code",
   "execution_count": 9,
   "id": "7256bf52",
   "metadata": {},
   "outputs": [],
   "source": [
    "\n",
    "\n",
    "# Allocating buffers for DMA transfer\n",
    "input_buffer = allocate(shape=(chunk_size,), dtype=np.uint8)  # 8 bits per pixel\n",
    "output_buffer = allocate(shape=(chunk_size,), dtype=np.uint8)  # 8 bits per pixel\n",
    "\n",
    "# Initialize output image\n",
    "processed_image = np.zeros((height, row_size), dtype=np.uint8)  # Grayscale image\n"
   ]
  },
  {
   "cell_type": "code",
   "execution_count": 11,
   "id": "9cfad816",
   "metadata": {},
   "outputs": [
    {
     "name": "stdout",
     "output_type": "stream",
     "text": [
      "Processing row: 0\n"
     ]
    },
    {
     "ename": "RuntimeError",
     "evalue": "DMA channel not idle",
     "output_type": "error",
     "traceback": [
      "\u001b[0;31m---------------------------------------------------------------------------\u001b[0m",
      "\u001b[0;31mRuntimeError\u001b[0m                              Traceback (most recent call last)",
      "Input \u001b[0;32mIn [11]\u001b[0m, in \u001b[0;36m<cell line: 2>\u001b[0;34m()\u001b[0m\n\u001b[1;32m      5\u001b[0m np\u001b[38;5;241m.\u001b[39mcopyto(input_buffer, image[i, :])  \u001b[38;5;66;03m# Copy one row\u001b[39;00m\n\u001b[1;32m      7\u001b[0m \u001b[38;5;66;03m# Start DMA transfer\u001b[39;00m\n\u001b[0;32m----> 8\u001b[0m \u001b[43mdma\u001b[49m\u001b[38;5;241;43m.\u001b[39;49m\u001b[43msendchannel\u001b[49m\u001b[38;5;241;43m.\u001b[39;49m\u001b[43mtransfer\u001b[49m\u001b[43m(\u001b[49m\u001b[43minput_buffer\u001b[49m\u001b[43m)\u001b[49m\n\u001b[1;32m      9\u001b[0m dma\u001b[38;5;241m.\u001b[39mrecvchannel\u001b[38;5;241m.\u001b[39mtransfer(output_buffer)\n\u001b[1;32m     11\u001b[0m \u001b[38;5;66;03m# Wait for the transfer to complete\u001b[39;00m\n",
      "File \u001b[0;32m/usr/local/share/pynq-venv/lib/python3.10/site-packages/pynq/lib/dma.py:138\u001b[0m, in \u001b[0;36m_SDMAChannel.transfer\u001b[0;34m(self, array, start, nbytes)\u001b[0m\n\u001b[1;32m    136\u001b[0m     \u001b[38;5;28;01mraise\u001b[39;00m \u001b[38;5;167;01mRuntimeError\u001b[39;00m(\u001b[38;5;124m\"\u001b[39m\u001b[38;5;124mDMA channel not started\u001b[39m\u001b[38;5;124m\"\u001b[39m)\n\u001b[1;32m    137\u001b[0m \u001b[38;5;28;01mif\u001b[39;00m \u001b[38;5;129;01mnot\u001b[39;00m \u001b[38;5;28mself\u001b[39m\u001b[38;5;241m.\u001b[39midle \u001b[38;5;129;01mand\u001b[39;00m \u001b[38;5;129;01mnot\u001b[39;00m \u001b[38;5;28mself\u001b[39m\u001b[38;5;241m.\u001b[39m_first_transfer:\n\u001b[0;32m--> 138\u001b[0m     \u001b[38;5;28;01mraise\u001b[39;00m \u001b[38;5;167;01mRuntimeError\u001b[39;00m(\u001b[38;5;124m\"\u001b[39m\u001b[38;5;124mDMA channel not idle\u001b[39m\u001b[38;5;124m\"\u001b[39m)\n\u001b[1;32m    139\u001b[0m \u001b[38;5;28;01mif\u001b[39;00m nbytes \u001b[38;5;241m==\u001b[39m \u001b[38;5;241m0\u001b[39m:\n\u001b[1;32m    140\u001b[0m     nbytes \u001b[38;5;241m=\u001b[39m array\u001b[38;5;241m.\u001b[39mnbytes \u001b[38;5;241m-\u001b[39m start\n",
      "\u001b[0;31mRuntimeError\u001b[0m: DMA channel not idle"
     ]
    }
   ],
   "source": [
    "\n",
    "# Process each row\n",
    "for i in range(rows):\n",
    "    print(f\"Processing row: {i}\")\n",
    "    # Copy the row data into input buffer\n",
    "    np.copyto(input_buffer, image[i, :])  # Copy one row\n",
    "\n",
    "    # Start DMA transfer\n",
    "    dma.sendchannel.transfer(input_buffer)\n",
    "    dma.recvchannel.transfer(output_buffer)\n",
    "\n",
    "    # Wait for the transfer to complete\n",
    "    dma.sendchannel.wait()\n",
    "    dma.recvchannel.wait()\n",
    "\n",
    "    # Copy processed row back to output image\n",
    "    processed_image[i, :] = output_buffer\n",
    "\n",
    "# Save the processed image\n",
    "cv2.imwrite(\"processed_image.png\", processed_image)\n",
    "print(\"Processed image saved as 'processed_image.png'\")\n"
   ]
  },
  {
   "cell_type": "code",
   "execution_count": null,
   "id": "6aacc91c",
   "metadata": {},
   "outputs": [],
   "source": []
  }
 ],
 "metadata": {
  "kernelspec": {
   "display_name": "Python 3 (ipykernel)",
   "language": "python",
   "name": "python3"
  },
  "language_info": {
   "codemirror_mode": {
    "name": "ipython",
    "version": 3
   },
   "file_extension": ".py",
   "mimetype": "text/x-python",
   "name": "python",
   "nbconvert_exporter": "python",
   "pygments_lexer": "ipython3",
   "version": "3.10.4"
  }
 },
 "nbformat": 4,
 "nbformat_minor": 5
}
