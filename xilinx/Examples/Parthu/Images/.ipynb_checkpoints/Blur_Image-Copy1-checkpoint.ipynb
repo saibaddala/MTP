{
 "cells": [
  {
   "cell_type": "code",
   "execution_count": null,
   "id": "630d98f9",
   "metadata": {},
   "outputs": [],
   "source": [
    "import pynq\n",
    "from pynq import Overlay\n",
    "from pynq.lib.dma import DMA\n",
    "import numpy as np\n",
    "from pynq import allocate\n",
    "\n",
    "# Load the overlay that includes the axi_dma_loopback module\n",
    "overlay = Overlay(\"design_1.bit\")\n",
    "dma = overlay.axi_dma_0\n",
    "\n",
    "image_path = \"hailee.jpg\"\n",
    "image = cv2.imread(image_path)\n",
    "\n",
    "height, width, channel = image.shape\n",
    "\n",
    "rows_per_chunk = 8\n",
    "chunk_size = rows_per_chunk*width*channel\n",
    "\n",
    "input_buffer = allocate(shape=(chunk_size), dtype=np.int32)\n",
    "output_buffer = allocate(shape=(chunk_size), dtype=np.int32)\n",
    "\n",
    "processed_image = np.zeros((height, width, channel), dtype=np.int32)\n",
    "\n",
    "for i in range(0, height, rows_per_chunk):\n",
    "    start_row = i\n",
    "    end_row = min(i+rows_per_chunk, height)\n",
    "    chunk = image[start_row:end_row,:,:].flatten()\n",
    "    np.copyto(input_buffer,chunk)\n",
    "    \n",
    "    dma.sendchannel.transfer(input_buffer)\n",
    "    dma.recvchannel.transfer(output_buffer)\n",
    "    \n",
    "    dma.sendchannel.wait()\n",
    "    dma.recvchannel.wait()\n",
    "    \n",
    "    processed_chunk = np.reshape(output_buffer,(end_row - start_row, width, channel))\n",
    "    processed_image[start_row:end_row,:,:] = processed_chunk\n",
    "    \n",
    "    "
   ]
  }
 ],
 "metadata": {
  "kernelspec": {
   "display_name": "Python 3 (ipykernel)",
   "language": "python",
   "name": "python3"
  },
  "language_info": {
   "codemirror_mode": {
    "name": "ipython",
    "version": 3
   },
   "file_extension": ".py",
   "mimetype": "text/x-python",
   "name": "python",
   "nbconvert_exporter": "python",
   "pygments_lexer": "ipython3",
   "version": "3.10.4"
  }
 },
 "nbformat": 4,
 "nbformat_minor": 5
}
