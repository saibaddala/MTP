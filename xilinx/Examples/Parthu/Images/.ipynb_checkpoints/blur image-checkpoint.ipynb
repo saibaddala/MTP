{
 "cells": [
  {
   "cell_type": "code",
   "execution_count": 4,
   "id": "3f8ab459",
   "metadata": {},
   "outputs": [],
   "source": [
    "import pynq\n",
    "from pynq import Overlay\n",
    "from pynq.lib.dma import DMA\n",
    "import numpy as np\n",
    "from pynq import allocate\n",
    "\n",
    "# Load the overlay that includes the axi_dma_loopback module\n",
    "overlay = Overlay(\"design_1.bit\")\n",
    "dma = overlay.axi_dma_0\n",
    "\n",
    "t = [1, 2, 3, 4, 5, 6, 7]\n",
    "n = len(t)\n",
    "\n",
    "array_t = np.array(t)\n",
    "\n",
    "sample = array_t.astype(np.int32)"
   ]
  },
  {
   "cell_type": "code",
   "execution_count": 5,
   "id": "b2809f0d",
   "metadata": {},
   "outputs": [
    {
     "name": "stdout",
     "output_type": "stream",
     "text": [
      "[1 2 3 4 5 6 7]\n",
      "[0 1 1 2 2 3 3]\n"
     ]
    }
   ],
   "source": [
    "# Allocate buffers for the input and output signals\n",
    "with allocate(shape=(n,), dtype=np.int32) as in_buffer, \\\n",
    "    allocate(shape=(n,), dtype=np.int32) as out_buffer:\n",
    "    np.copyto(in_buffer,sample)\n",
    "    dma.sendchannel.transfer(in_buffer)\n",
    "    dma.recvchannel.transfer(out_buffer)\n",
    "\n",
    "    dma.sendchannel.wait()\n",
    "    dma.recvchannel.wait()\n",
    "    print(in_buffer)\n",
    "    print(out_buffer)"
   ]
  },
  {
   "cell_type": "markdown",
   "id": "475d4bfb",
   "metadata": {},
   "source": [
    "# random numbers"
   ]
  },
  {
   "cell_type": "code",
   "execution_count": 6,
   "id": "ad2f81da",
   "metadata": {},
   "outputs": [],
   "source": [
    "import pynq\n",
    "from pynq import Overlay\n",
    "from pynq.lib.dma import DMA\n",
    "import numpy as np\n",
    "from pynq import allocate\n",
    "import cv2\n",
    "\n",
    "# Load the overlay that includes the axi_dma_loopback module\n",
    "overlay = Overlay(\"design_1.bit\")\n",
    "dma = overlay.axi_dma_0"
   ]
  },
  {
   "cell_type": "code",
   "execution_count": 7,
   "id": "93b11b75",
   "metadata": {},
   "outputs": [],
   "source": [
    "image_size = 256*256\n",
    "input_buffer = allocate(shape=(image_size,), dtype=np.uint8)\n",
    "output_buffer = allocate(shape=(image_size,), dtype=np.uint8)"
   ]
  },
  {
   "cell_type": "code",
   "execution_count": 8,
   "id": "58c40d59",
   "metadata": {},
   "outputs": [],
   "source": [
    "input_buffer[:] = np.full((image_size,), 200, dtype=np.uint8)"
   ]
  },
  {
   "cell_type": "code",
   "execution_count": 9,
   "id": "32973a4e",
   "metadata": {},
   "outputs": [
    {
     "data": {
      "text/plain": [
       "PynqBuffer([200, 200, 200, ..., 200, 200, 200], dtype=uint8)"
      ]
     },
     "execution_count": 9,
     "metadata": {},
     "output_type": "execute_result"
    }
   ],
   "source": [
    "input_buffer"
   ]
  },
  {
   "cell_type": "code",
   "execution_count": 10,
   "id": "1b641522",
   "metadata": {},
   "outputs": [
    {
     "name": "stdout",
     "output_type": "stream",
     "text": [
      "[100 100 100 ... 100 100 100]\n"
     ]
    }
   ],
   "source": [
    "dma.sendchannel.transfer(input_buffer)\n",
    "dma.recvchannel.transfer(output_buffer)\n",
    "dma.sendchannel.wait()\n",
    "dma.recvchannel.wait()\n",
    "print(output_buffer)"
   ]
  },
  {
   "cell_type": "markdown",
   "id": "3854f145",
   "metadata": {},
   "source": [
    "# Image"
   ]
  },
  {
   "cell_type": "code",
   "execution_count": 11,
   "id": "d9ed7412",
   "metadata": {},
   "outputs": [],
   "source": [
    "import cv2"
   ]
  },
  {
   "cell_type": "code",
   "execution_count": 12,
   "id": "9bc80ded",
   "metadata": {},
   "outputs": [],
   "source": [
    "image_path = \"hailee.jpg\""
   ]
  },
  {
   "cell_type": "code",
   "execution_count": 13,
   "id": "b5b4b47c",
   "metadata": {},
   "outputs": [],
   "source": [
    "image = cv2.imread(image_path, cv2.IMREAD_GRAYSCALE)"
   ]
  },
  {
   "cell_type": "code",
   "execution_count": 14,
   "id": "73c1bbc9",
   "metadata": {},
   "outputs": [
    {
     "data": {
      "text/plain": [
       "array([[227, 224, 224, ..., 216, 218, 219],\n",
       "       [226, 223, 224, ..., 217, 221, 221],\n",
       "       [224, 223, 224, ..., 219, 223, 222],\n",
       "       ...,\n",
       "       [234, 228, 225, ..., 208, 209, 209],\n",
       "       [232, 227, 226, ..., 209, 211, 211],\n",
       "       [229, 227, 228, ..., 210, 212, 212]], dtype=uint8)"
      ]
     },
     "execution_count": 14,
     "metadata": {},
     "output_type": "execute_result"
    }
   ],
   "source": [
    "image"
   ]
  },
  {
   "cell_type": "code",
   "execution_count": 15,
   "id": "80db07f6",
   "metadata": {},
   "outputs": [],
   "source": [
    "height, width = image.shape"
   ]
  },
  {
   "cell_type": "code",
   "execution_count": 16,
   "id": "a9e9d0be",
   "metadata": {},
   "outputs": [
    {
     "name": "stdout",
     "output_type": "stream",
     "text": [
      "3120 2082\n"
     ]
    }
   ],
   "source": [
    "print(height, width)"
   ]
  },
  {
   "cell_type": "code",
   "execution_count": 17,
   "id": "210e8c72",
   "metadata": {},
   "outputs": [
    {
     "name": "stdout",
     "output_type": "stream",
     "text": [
      "6495840\n",
      "[227 224 224 ... 210 212 212]\n"
     ]
    }
   ],
   "source": [
    "image_size = height*width\n",
    "print(image_size)\n",
    "\n",
    "image_flattened = image.flatten()\n",
    "image_flattened = image_flattened\n",
    "print(image_flattened)"
   ]
  },
  {
   "cell_type": "code",
   "execution_count": 18,
   "id": "cf2fa2b3",
   "metadata": {},
   "outputs": [],
   "source": [
    "import pynq\n",
    "from pynq import Overlay\n",
    "from pynq.lib.dma import DMA\n",
    "import numpy as np\n",
    "from pynq import allocate\n",
    "\n",
    "# Load the overlay that includes the axi_dma_loopback module\n",
    "overlay = Overlay(\"design_1.bit\")\n",
    "dma = overlay.axi_dma_0\n",
    "\n",
    "t = image_flattened\n",
    "n = len(t)\n",
    "\n",
    "array_t = np.array(t)\n",
    "\n",
    "sample = array_t.astype(np.int32)"
   ]
  },
  {
   "cell_type": "code",
   "execution_count": 19,
   "id": "9b5035e0",
   "metadata": {},
   "outputs": [
    {
     "name": "stdout",
     "output_type": "stream",
     "text": [
      "[227 224 224 ... 210 212 212]\n",
      "[113 112 112 ... 105 106 106]\n"
     ]
    }
   ],
   "source": [
    "# Allocate buffers for the input and output signals\n",
    "in_buffer = allocate(shape=(n,), dtype=np.int32)\n",
    "out_buffer = allocate(shape=(n,), dtype=np.int32)\n",
    "np.copyto(in_buffer,sample)\n",
    "dma.sendchannel.transfer(in_buffer)\n",
    "dma.recvchannel.transfer(out_buffer)\n",
    "dma.sendchannel.wait()\n",
    "dma.recvchannel.wait()\n",
    "print(in_buffer)\n",
    "print(out_buffer)\n",
    "#     "
   ]
  },
  {
   "cell_type": "code",
   "execution_count": 20,
   "id": "76a719f8",
   "metadata": {},
   "outputs": [],
   "source": [
    "processed_image = np.reshape(out_buffer,(height, width))"
   ]
  },
  {
   "cell_type": "code",
   "execution_count": 21,
   "id": "08531d8c",
   "metadata": {},
   "outputs": [
    {
     "ename": "error",
     "evalue": "OpenCV(4.5.4) ./modules/highgui/src/window_gtk.cpp:635: error: (-2:Unspecified error) Can't initialize GTK backend in function 'cvInitSystem'\n",
     "output_type": "error",
     "traceback": [
      "\u001b[0;31m---------------------------------------------------------------------------\u001b[0m",
      "\u001b[0;31merror\u001b[0m                                     Traceback (most recent call last)",
      "Input \u001b[0;32mIn [21]\u001b[0m, in \u001b[0;36m<cell line: 1>\u001b[0;34m()\u001b[0m\n\u001b[0;32m----> 1\u001b[0m \u001b[43mcv2\u001b[49m\u001b[38;5;241;43m.\u001b[39;49m\u001b[43mimshow\u001b[49m\u001b[43m(\u001b[49m\u001b[38;5;124;43m'\u001b[39;49m\u001b[38;5;124;43mprocessed image\u001b[39;49m\u001b[38;5;124;43m'\u001b[39;49m\u001b[43m,\u001b[49m\u001b[43m \u001b[49m\u001b[43mprocessed_image\u001b[49m\u001b[43m)\u001b[49m\n",
      "\u001b[0;31merror\u001b[0m: OpenCV(4.5.4) ./modules/highgui/src/window_gtk.cpp:635: error: (-2:Unspecified error) Can't initialize GTK backend in function 'cvInitSystem'\n"
     ]
    }
   ],
   "source": [
    "cv2.imshow('processed image', processed_image)"
   ]
  },
  {
   "cell_type": "code",
   "execution_count": null,
   "id": "3eeb0c55",
   "metadata": {},
   "outputs": [],
   "source": [
    "# Save the image to a file\n",
    "cv2.imwrite('processed_image.png', processed_image)\n"
   ]
  },
  {
   "cell_type": "markdown",
   "id": "5851893f",
   "metadata": {},
   "source": [
    "# Color Image"
   ]
  },
  {
   "cell_type": "code",
   "execution_count": null,
   "id": "b3250e78",
   "metadata": {},
   "outputs": [],
   "source": [
    "image_path = \"hailee.jpg\""
   ]
  },
  {
   "cell_type": "code",
   "execution_count": null,
   "id": "67f43551",
   "metadata": {},
   "outputs": [],
   "source": [
    "image = cv2.imread(image_path)"
   ]
  },
  {
   "cell_type": "code",
   "execution_count": null,
   "id": "be688f8b",
   "metadata": {},
   "outputs": [],
   "source": [
    "image"
   ]
  },
  {
   "cell_type": "code",
   "execution_count": null,
   "id": "74a4cc20",
   "metadata": {},
   "outputs": [],
   "source": [
    "height, width, channel = image.shape"
   ]
  },
  {
   "cell_type": "code",
   "execution_count": null,
   "id": "d7123617",
   "metadata": {},
   "outputs": [],
   "source": [
    "print(height, width, channel)"
   ]
  },
  {
   "cell_type": "code",
   "execution_count": null,
   "id": "314d9692",
   "metadata": {},
   "outputs": [],
   "source": [
    "rows_per_chunk = 8\n",
    "chunk_size = rows_per_chunk*width*channel"
   ]
  },
  {
   "cell_type": "code",
   "execution_count": null,
   "id": "a1533ac0",
   "metadata": {},
   "outputs": [],
   "source": [
    "chunk_size"
   ]
  },
  {
   "cell_type": "code",
   "execution_count": null,
   "id": "655057eb",
   "metadata": {},
   "outputs": [],
   "source": [
    "input_buffer = allocate(shape=(chunk_size), dtype=np.int32)\n",
    "output_buffer = allocate(shape=(chunk_size), dtype=np.int32)"
   ]
  },
  {
   "cell_type": "code",
   "execution_count": null,
   "id": "7706dab3",
   "metadata": {},
   "outputs": [],
   "source": [
    "processed_image = np.zeros((height, width, channel), dtype=np.int32)"
   ]
  },
  {
   "cell_type": "code",
   "execution_count": null,
   "id": "1cb14c82",
   "metadata": {},
   "outputs": [],
   "source": [
    "processed_image"
   ]
  },
  {
   "cell_type": "code",
   "execution_count": null,
   "id": "1f4e9167",
   "metadata": {},
   "outputs": [],
   "source": [
    "import pynq\n",
    "from pynq import Overlay\n",
    "from pynq.lib.dma import DMA\n",
    "import numpy as np\n",
    "from pynq import allocate\n",
    "\n",
    "# Load the overlay that includes the axi_dma_loopback module\n",
    "overlay = Overlay(\"design_1.bit\")\n",
    "dma = overlay.axi_dma_0"
   ]
  },
  {
   "cell_type": "code",
   "execution_count": null,
   "id": "7a98dc34",
   "metadata": {},
   "outputs": [],
   "source": [
    "for i in range(0, height, rows_per_chunk):\n",
    "    start_row = i\n",
    "    end_row = min(i+rows_per_chunk, height)\n",
    "    chunk = image[start_row:end_row,:,:].flatten()\n",
    "    np.copyto(input_buffer,chunk)\n",
    "    \n",
    "    dma.sendchannel.transfer(input_buffer)\n",
    "    dma.recvchannel.transfer(output_buffer)\n",
    "    \n",
    "    dma.sendchannel.wait()\n",
    "    dma.recvchannel.wait()\n",
    "    \n",
    "    processed_chunk = np.reshape(output_buffer,(end_row - start_row, width, channel))\n",
    "    processed_image[start_row:end_row,:,:] = processed_chunk"
   ]
  },
  {
   "cell_type": "code",
   "execution_count": null,
   "id": "20320556",
   "metadata": {},
   "outputs": [],
   "source": [
    "cv2.imwrite(\"sarathi.png\",processed_image)"
   ]
  },
  {
   "cell_type": "markdown",
   "id": "44938d02",
   "metadata": {},
   "source": [
    "# Blur Image"
   ]
  },
  {
   "cell_type": "code",
   "execution_count": 3,
   "id": "381cd5de",
   "metadata": {},
   "outputs": [],
   "source": [
    "import pynq\n",
    "from pynq import Overlay\n",
    "from pynq.lib.dma import DMA\n",
    "import numpy as np\n",
    "from pynq import allocate\n",
    "import cv2\n",
    "\n",
    "# Load the overlay that includes the axi_dma_loopback module\n",
    "overlay = Overlay(\"design_first.bit\")\n",
    "dma = overlay.axi_dma_0"
   ]
  },
  {
   "cell_type": "code",
   "execution_count": 6,
   "id": "b7715a80",
   "metadata": {
    "collapsed": true
   },
   "outputs": [
    {
     "data": {
      "text/plain": [
       "array([[[231, 227, 226],\n",
       "        [228, 224, 223],\n",
       "        [228, 224, 223],\n",
       "        ...,\n",
       "        [220, 217, 212],\n",
       "        [222, 218, 217],\n",
       "        [223, 219, 218]],\n",
       "\n",
       "       [[230, 226, 225],\n",
       "        [227, 223, 222],\n",
       "        [228, 224, 223],\n",
       "        ...,\n",
       "        [221, 218, 213],\n",
       "        [225, 221, 220],\n",
       "        [225, 221, 220]],\n",
       "\n",
       "       [[228, 224, 223],\n",
       "        [227, 223, 222],\n",
       "        [228, 224, 223],\n",
       "        ...,\n",
       "        [223, 220, 215],\n",
       "        [227, 223, 222],\n",
       "        [226, 222, 221]],\n",
       "\n",
       "       ...,\n",
       "\n",
       "       [[239, 234, 233],\n",
       "        [233, 228, 227],\n",
       "        [230, 225, 224],\n",
       "        ...,\n",
       "        [213, 208, 205],\n",
       "        [214, 209, 206],\n",
       "        [214, 209, 206]],\n",
       "\n",
       "       [[237, 232, 231],\n",
       "        [232, 227, 226],\n",
       "        [231, 226, 225],\n",
       "        ...,\n",
       "        [214, 209, 206],\n",
       "        [216, 211, 208],\n",
       "        [216, 211, 208]],\n",
       "\n",
       "       [[234, 229, 228],\n",
       "        [232, 227, 226],\n",
       "        [233, 228, 227],\n",
       "        ...,\n",
       "        [215, 210, 207],\n",
       "        [217, 212, 209],\n",
       "        [217, 212, 209]]], dtype=uint8)"
      ]
     },
     "execution_count": 6,
     "metadata": {},
     "output_type": "execute_result"
    }
   ],
   "source": [
    "image_path = \"hailee.jpg\"\n",
    "image = cv2.imread(image_path)\n",
    "image"
   ]
  },
  {
   "cell_type": "code",
   "execution_count": 5,
   "id": "c4f68f1a",
   "metadata": {},
   "outputs": [
    {
     "ename": "AttributeError",
     "evalue": "'NoneType' object has no attribute 'shape'",
     "output_type": "error",
     "traceback": [
      "\u001b[0;31m---------------------------------------------------------------------------\u001b[0m",
      "\u001b[0;31mAttributeError\u001b[0m                            Traceback (most recent call last)",
      "Input \u001b[0;32mIn [5]\u001b[0m, in \u001b[0;36m<cell line: 1>\u001b[0;34m()\u001b[0m\n\u001b[0;32m----> 1\u001b[0m height, width, channel \u001b[38;5;241m=\u001b[39m \u001b[43mimage\u001b[49m\u001b[38;5;241;43m.\u001b[39;49m\u001b[43mshape\u001b[49m\n\u001b[1;32m      2\u001b[0m \u001b[38;5;28mprint\u001b[39m(height, width, channel)\n",
      "\u001b[0;31mAttributeError\u001b[0m: 'NoneType' object has no attribute 'shape'"
     ]
    }
   ],
   "source": [
    "height, width, channel = image.shape\n",
    "print(height, width, channel)"
   ]
  },
  {
   "cell_type": "code",
   "execution_count": 33,
   "id": "27d72c13",
   "metadata": {},
   "outputs": [
    {
     "data": {
      "text/plain": [
       "49968"
      ]
     },
     "execution_count": 33,
     "metadata": {},
     "output_type": "execute_result"
    }
   ],
   "source": [
    "rows_per_chunk = 8\n",
    "chunk_size = rows_per_chunk*width*channel\n",
    "chunk_size"
   ]
  },
  {
   "cell_type": "code",
   "execution_count": 34,
   "id": "99f5fae7",
   "metadata": {},
   "outputs": [],
   "source": [
    "input_buffer = allocate(shape=(chunk_size), dtype=np.int32)\n",
    "output_buffer = allocate(shape=(chunk_size), dtype=np.int32)"
   ]
  },
  {
   "cell_type": "code",
   "execution_count": 35,
   "id": "5cae654b",
   "metadata": {
    "collapsed": true
   },
   "outputs": [
    {
     "data": {
      "text/plain": [
       "array([[[0, 0, 0],\n",
       "        [0, 0, 0],\n",
       "        [0, 0, 0],\n",
       "        ...,\n",
       "        [0, 0, 0],\n",
       "        [0, 0, 0],\n",
       "        [0, 0, 0]],\n",
       "\n",
       "       [[0, 0, 0],\n",
       "        [0, 0, 0],\n",
       "        [0, 0, 0],\n",
       "        ...,\n",
       "        [0, 0, 0],\n",
       "        [0, 0, 0],\n",
       "        [0, 0, 0]],\n",
       "\n",
       "       [[0, 0, 0],\n",
       "        [0, 0, 0],\n",
       "        [0, 0, 0],\n",
       "        ...,\n",
       "        [0, 0, 0],\n",
       "        [0, 0, 0],\n",
       "        [0, 0, 0]],\n",
       "\n",
       "       ...,\n",
       "\n",
       "       [[0, 0, 0],\n",
       "        [0, 0, 0],\n",
       "        [0, 0, 0],\n",
       "        ...,\n",
       "        [0, 0, 0],\n",
       "        [0, 0, 0],\n",
       "        [0, 0, 0]],\n",
       "\n",
       "       [[0, 0, 0],\n",
       "        [0, 0, 0],\n",
       "        [0, 0, 0],\n",
       "        ...,\n",
       "        [0, 0, 0],\n",
       "        [0, 0, 0],\n",
       "        [0, 0, 0]],\n",
       "\n",
       "       [[0, 0, 0],\n",
       "        [0, 0, 0],\n",
       "        [0, 0, 0],\n",
       "        ...,\n",
       "        [0, 0, 0],\n",
       "        [0, 0, 0],\n",
       "        [0, 0, 0]]])"
      ]
     },
     "execution_count": 35,
     "metadata": {},
     "output_type": "execute_result"
    }
   ],
   "source": [
    "processed_image = np.zeros((height, width, channel), dtype=np.int32)\n",
    "processed_image"
   ]
  },
  {
   "cell_type": "code",
   "execution_count": 36,
   "id": "5fc6d79d",
   "metadata": {},
   "outputs": [],
   "source": [
    "for i in range(0, height, rows_per_chunk):\n",
    "    start_row = i\n",
    "    end_row = min(i+rows_per_chunk, height)\n",
    "    chunk = image[start_row:end_row,:,:].flatten()\n",
    "    np.copyto(input_buffer,chunk)\n",
    "    \n",
    "    dma.sendchannel.transfer(input_buffer)\n",
    "    dma.recvchannel.transfer(output_buffer)\n",
    "    \n",
    "    dma.sendchannel.wait()\n",
    "    dma.recvchannel.wait()\n",
    "    \n",
    "    processed_chunk = np.reshape(output_buffer,(end_row - start_row, width, channel))\n",
    "    processed_image[start_row:end_row,:,:] = processed_chunk"
   ]
  },
  {
   "cell_type": "code",
   "execution_count": 37,
   "id": "f52888bc",
   "metadata": {},
   "outputs": [
    {
     "data": {
      "text/plain": [
       "True"
      ]
     },
     "execution_count": 37,
     "metadata": {},
     "output_type": "execute_result"
    }
   ],
   "source": [
    "cv2.imwrite(\"sai.png\",processed_image)"
   ]
  },
  {
   "cell_type": "markdown",
   "id": "1efb5df4",
   "metadata": {},
   "source": [
    "## In One cell"
   ]
  },
  {
   "cell_type": "code",
   "execution_count": 9,
   "id": "25a8e218",
   "metadata": {
    "collapsed": true
   },
   "outputs": [
    {
     "name": "stdout",
     "output_type": "stream",
     "text": [
      "3120 2082 3\n",
      "0\n",
      "8\n",
      "16\n",
      "24\n",
      "32\n",
      "40\n",
      "48\n",
      "56\n",
      "64\n",
      "72\n",
      "80\n",
      "88\n",
      "96\n",
      "104\n",
      "112\n",
      "120\n",
      "128\n",
      "136\n",
      "144\n",
      "152\n",
      "160\n",
      "168\n",
      "176\n",
      "184\n",
      "192\n",
      "200\n",
      "208\n",
      "216\n",
      "224\n",
      "232\n",
      "240\n",
      "248\n",
      "256\n",
      "264\n",
      "272\n",
      "280\n",
      "288\n",
      "296\n",
      "304\n",
      "312\n",
      "320\n",
      "328\n",
      "336\n",
      "344\n",
      "352\n",
      "360\n",
      "368\n",
      "376\n",
      "384\n",
      "392\n",
      "400\n",
      "408\n",
      "416\n",
      "424\n",
      "432\n",
      "440\n",
      "448\n",
      "456\n",
      "464\n",
      "472\n",
      "480\n",
      "488\n",
      "496\n",
      "504\n",
      "512\n",
      "520\n",
      "528\n",
      "536\n",
      "544\n",
      "552\n",
      "560\n",
      "568\n",
      "576\n",
      "584\n",
      "592\n",
      "600\n",
      "608\n",
      "616\n",
      "624\n",
      "632\n",
      "640\n",
      "648\n",
      "656\n",
      "664\n",
      "672\n",
      "680\n",
      "688\n",
      "696\n",
      "704\n",
      "712\n",
      "720\n",
      "728\n",
      "736\n",
      "744\n",
      "752\n",
      "760\n",
      "768\n",
      "776\n",
      "784\n",
      "792\n",
      "800\n",
      "808\n",
      "816\n",
      "824\n",
      "832\n",
      "840\n",
      "848\n",
      "856\n",
      "864\n",
      "872\n",
      "880\n",
      "888\n",
      "896\n",
      "904\n",
      "912\n",
      "920\n",
      "928\n",
      "936\n",
      "944\n",
      "952\n",
      "960\n",
      "968\n",
      "976\n",
      "984\n",
      "992\n",
      "1000\n",
      "1008\n",
      "1016\n",
      "1024\n",
      "1032\n",
      "1040\n",
      "1048\n",
      "1056\n",
      "1064\n",
      "1072\n",
      "1080\n",
      "1088\n",
      "1096\n",
      "1104\n",
      "1112\n",
      "1120\n",
      "1128\n",
      "1136\n",
      "1144\n",
      "1152\n",
      "1160\n",
      "1168\n",
      "1176\n",
      "1184\n",
      "1192\n",
      "1200\n",
      "1208\n",
      "1216\n",
      "1224\n",
      "1232\n",
      "1240\n",
      "1248\n",
      "1256\n",
      "1264\n",
      "1272\n",
      "1280\n",
      "1288\n",
      "1296\n",
      "1304\n",
      "1312\n",
      "1320\n",
      "1328\n",
      "1336\n",
      "1344\n",
      "1352\n",
      "1360\n",
      "1368\n",
      "1376\n",
      "1384\n",
      "1392\n",
      "1400\n",
      "1408\n",
      "1416\n",
      "1424\n",
      "1432\n",
      "1440\n",
      "1448\n",
      "1456\n",
      "1464\n",
      "1472\n",
      "1480\n",
      "1488\n",
      "1496\n",
      "1504\n",
      "1512\n",
      "1520\n",
      "1528\n",
      "1536\n",
      "1544\n",
      "1552\n",
      "1560\n",
      "1568\n",
      "1576\n",
      "1584\n",
      "1592\n",
      "1600\n",
      "1608\n",
      "1616\n",
      "1624\n",
      "1632\n",
      "1640\n",
      "1648\n",
      "1656\n",
      "1664\n",
      "1672\n",
      "1680\n",
      "1688\n",
      "1696\n",
      "1704\n",
      "1712\n",
      "1720\n",
      "1728\n",
      "1736\n",
      "1744\n",
      "1752\n",
      "1760\n",
      "1768\n",
      "1776\n",
      "1784\n",
      "1792\n",
      "1800\n",
      "1808\n",
      "1816\n",
      "1824\n",
      "1832\n",
      "1840\n",
      "1848\n",
      "1856\n",
      "1864\n",
      "1872\n",
      "1880\n",
      "1888\n",
      "1896\n",
      "1904\n",
      "1912\n",
      "1920\n",
      "1928\n",
      "1936\n",
      "1944\n",
      "1952\n",
      "1960\n",
      "1968\n",
      "1976\n",
      "1984\n",
      "1992\n",
      "2000\n",
      "2008\n",
      "2016\n",
      "2024\n",
      "2032\n",
      "2040\n",
      "2048\n",
      "2056\n",
      "2064\n",
      "2072\n",
      "2080\n",
      "2088\n",
      "2096\n",
      "2104\n",
      "2112\n",
      "2120\n",
      "2128\n",
      "2136\n",
      "2144\n",
      "2152\n",
      "2160\n",
      "2168\n",
      "2176\n",
      "2184\n",
      "2192\n",
      "2200\n",
      "2208\n",
      "2216\n",
      "2224\n",
      "2232\n",
      "2240\n",
      "2248\n",
      "2256\n",
      "2264\n",
      "2272\n",
      "2280\n",
      "2288\n",
      "2296\n",
      "2304\n",
      "2312\n",
      "2320\n",
      "2328\n",
      "2336\n",
      "2344\n",
      "2352\n",
      "2360\n",
      "2368\n",
      "2376\n",
      "2384\n",
      "2392\n",
      "2400\n",
      "2408\n",
      "2416\n",
      "2424\n",
      "2432\n",
      "2440\n",
      "2448\n",
      "2456\n",
      "2464\n",
      "2472\n",
      "2480\n",
      "2488\n",
      "2496\n",
      "2504\n",
      "2512\n",
      "2520\n",
      "2528\n",
      "2536\n",
      "2544\n",
      "2552\n",
      "2560\n",
      "2568\n",
      "2576\n",
      "2584\n",
      "2592\n",
      "2600\n",
      "2608\n",
      "2616\n",
      "2624\n",
      "2632\n",
      "2640\n",
      "2648\n",
      "2656\n",
      "2664\n",
      "2672\n",
      "2680\n",
      "2688\n",
      "2696\n",
      "2704\n",
      "2712\n",
      "2720\n",
      "2728\n",
      "2736\n",
      "2744\n",
      "2752\n",
      "2760\n",
      "2768\n",
      "2776\n",
      "2784\n",
      "2792\n",
      "2800\n",
      "2808\n",
      "2816\n",
      "2824\n",
      "2832\n",
      "2840\n",
      "2848\n",
      "2856\n",
      "2864\n",
      "2872\n",
      "2880\n",
      "2888\n",
      "2896\n",
      "2904\n",
      "2912\n",
      "2920\n",
      "2928\n",
      "2936\n",
      "2944\n",
      "2952\n",
      "2960\n",
      "2968\n",
      "2976\n",
      "2984\n",
      "2992\n",
      "3000\n",
      "3008\n",
      "3016\n",
      "3024\n",
      "3032\n",
      "3040\n",
      "3048\n",
      "3056\n",
      "3064\n",
      "3072\n",
      "3080\n",
      "3088\n",
      "3096\n",
      "3104\n",
      "3112\n"
     ]
    },
    {
     "data": {
      "text/plain": [
       "True"
      ]
     },
     "execution_count": 9,
     "metadata": {},
     "output_type": "execute_result"
    }
   ],
   "source": [
    "import pynq\n",
    "from pynq import Overlay\n",
    "from pynq.lib.dma import DMA\n",
    "import numpy as np\n",
    "from pynq import allocate\n",
    "import cv2\n",
    "\n",
    "# Load the overlay that includes the axi_dma_loopback module\n",
    "overlay = Overlay(\"design_first.bit\")\n",
    "dma = overlay.axi_dma_0\n",
    "\n",
    "# reading image\n",
    "image_path = \"hailee.jpg\"\n",
    "image = cv2.imread(image_path)\n",
    "height, width, channel = image.shape\n",
    "print(height, width, channel)\n",
    "\n",
    "# preparing chunks\n",
    "rows_per_chunk = 8  # size of the chunk\n",
    "chunk_size = rows_per_chunk*width*channel\n",
    "chunk_size\n",
    "\n",
    "# allocating buffer\n",
    "input_buffer = allocate(shape=(chunk_size), dtype=np.int32)\n",
    "output_buffer = allocate(shape=(chunk_size), dtype=np.int32)\n",
    "\n",
    "# initializing output image as all 0's\n",
    "processed_image = np.zeros((height, width, channel), dtype=np.int32)\n",
    "\n",
    "for i in range(0, height, rows_per_chunk):\n",
    "    print(i)\n",
    "    start_row = i\n",
    "    end_row = min(i+rows_per_chunk, height)\n",
    "    chunk = image[start_row:end_row,:,:].flatten()\n",
    "    np.copyto(input_buffer,chunk)\n",
    "    \n",
    "    dma.sendchannel.transfer(input_buffer)\n",
    "    dma.recvchannel.transfer(output_buffer)\n",
    "    \n",
    "    dma.sendchannel.wait()\n",
    "    dma.recvchannel.wait()\n",
    "    \n",
    "    processed_chunk = np.reshape(output_buffer,(end_row - start_row, width, channel))\n",
    "    processed_image[start_row:end_row,:,:] = processed_chunk\n",
    "    \n",
    "# save image in local machine\n",
    "cv2.imwrite(\"uav.png\",processed_image)"
   ]
  },
  {
   "cell_type": "code",
   "execution_count": 12,
   "id": "c7b34331",
   "metadata": {},
   "outputs": [
    {
     "name": "stdout",
     "output_type": "stream",
     "text": [
      "3120 2082 3\n"
     ]
    },
    {
     "ename": "ValueError",
     "evalue": "cannot reshape array of size 49968 into shape (3120,2082,3)",
     "output_type": "error",
     "traceback": [
      "\u001b[0;31m---------------------------------------------------------------------------\u001b[0m",
      "\u001b[0;31mValueError\u001b[0m                                Traceback (most recent call last)",
      "Input \u001b[0;32mIn [12]\u001b[0m, in \u001b[0;36m<cell line: 43>\u001b[0;34m()\u001b[0m\n\u001b[1;32m     40\u001b[0m     dma\u001b[38;5;241m.\u001b[39mrecvchannel\u001b[38;5;241m.\u001b[39mwait()\n\u001b[1;32m     42\u001b[0m \u001b[38;5;66;03m# Convert the output buffer to a numpy array for the processed image\u001b[39;00m\n\u001b[0;32m---> 43\u001b[0m processed_image \u001b[38;5;241m=\u001b[39m \u001b[43mnp\u001b[49m\u001b[38;5;241;43m.\u001b[39;49m\u001b[43mreshape\u001b[49m\u001b[43m(\u001b[49m\u001b[43moutput_buffer\u001b[49m\u001b[43m[\u001b[49m\u001b[43m:\u001b[49m\u001b[43mheight\u001b[49m\u001b[43m \u001b[49m\u001b[38;5;241;43m*\u001b[39;49m\u001b[43m \u001b[49m\u001b[43mwidth\u001b[49m\u001b[43m \u001b[49m\u001b[38;5;241;43m*\u001b[39;49m\u001b[43m \u001b[49m\u001b[43mchannel\u001b[49m\u001b[43m]\u001b[49m\u001b[43m,\u001b[49m\u001b[43m \u001b[49m\u001b[43m(\u001b[49m\u001b[43mheight\u001b[49m\u001b[43m,\u001b[49m\u001b[43m \u001b[49m\u001b[43mwidth\u001b[49m\u001b[43m,\u001b[49m\u001b[43m \u001b[49m\u001b[43mchannel\u001b[49m\u001b[43m)\u001b[49m\u001b[43m)\u001b[49m\n\u001b[1;32m     45\u001b[0m cv2\u001b[38;5;241m.\u001b[39mimwrite(\u001b[38;5;124m\"\u001b[39m\u001b[38;5;124muav.png\u001b[39m\u001b[38;5;124m\"\u001b[39m,processed_image)\n",
      "File \u001b[0;32m<__array_function__ internals>:5\u001b[0m, in \u001b[0;36mreshape\u001b[0;34m(*args, **kwargs)\u001b[0m\n",
      "File \u001b[0;32m/usr/lib/python3/dist-packages/numpy/core/fromnumeric.py:298\u001b[0m, in \u001b[0;36mreshape\u001b[0;34m(a, newshape, order)\u001b[0m\n\u001b[1;32m    198\u001b[0m \u001b[38;5;129m@array_function_dispatch\u001b[39m(_reshape_dispatcher)\n\u001b[1;32m    199\u001b[0m \u001b[38;5;28;01mdef\u001b[39;00m \u001b[38;5;21mreshape\u001b[39m(a, newshape, order\u001b[38;5;241m=\u001b[39m\u001b[38;5;124m'\u001b[39m\u001b[38;5;124mC\u001b[39m\u001b[38;5;124m'\u001b[39m):\n\u001b[1;32m    200\u001b[0m     \u001b[38;5;124;03m\"\"\"\u001b[39;00m\n\u001b[1;32m    201\u001b[0m \u001b[38;5;124;03m    Gives a new shape to an array without changing its data.\u001b[39;00m\n\u001b[1;32m    202\u001b[0m \n\u001b[0;32m   (...)\u001b[0m\n\u001b[1;32m    296\u001b[0m \u001b[38;5;124;03m           [5, 6]])\u001b[39;00m\n\u001b[1;32m    297\u001b[0m \u001b[38;5;124;03m    \"\"\"\u001b[39;00m\n\u001b[0;32m--> 298\u001b[0m     \u001b[38;5;28;01mreturn\u001b[39;00m \u001b[43m_wrapfunc\u001b[49m\u001b[43m(\u001b[49m\u001b[43ma\u001b[49m\u001b[43m,\u001b[49m\u001b[43m \u001b[49m\u001b[38;5;124;43m'\u001b[39;49m\u001b[38;5;124;43mreshape\u001b[39;49m\u001b[38;5;124;43m'\u001b[39;49m\u001b[43m,\u001b[49m\u001b[43m \u001b[49m\u001b[43mnewshape\u001b[49m\u001b[43m,\u001b[49m\u001b[43m \u001b[49m\u001b[43morder\u001b[49m\u001b[38;5;241;43m=\u001b[39;49m\u001b[43morder\u001b[49m\u001b[43m)\u001b[49m\n",
      "File \u001b[0;32m/usr/lib/python3/dist-packages/numpy/core/fromnumeric.py:57\u001b[0m, in \u001b[0;36m_wrapfunc\u001b[0;34m(obj, method, *args, **kwds)\u001b[0m\n\u001b[1;32m     54\u001b[0m     \u001b[38;5;28;01mreturn\u001b[39;00m _wrapit(obj, method, \u001b[38;5;241m*\u001b[39margs, \u001b[38;5;241m*\u001b[39m\u001b[38;5;241m*\u001b[39mkwds)\n\u001b[1;32m     56\u001b[0m \u001b[38;5;28;01mtry\u001b[39;00m:\n\u001b[0;32m---> 57\u001b[0m     \u001b[38;5;28;01mreturn\u001b[39;00m \u001b[43mbound\u001b[49m\u001b[43m(\u001b[49m\u001b[38;5;241;43m*\u001b[39;49m\u001b[43margs\u001b[49m\u001b[43m,\u001b[49m\u001b[43m \u001b[49m\u001b[38;5;241;43m*\u001b[39;49m\u001b[38;5;241;43m*\u001b[39;49m\u001b[43mkwds\u001b[49m\u001b[43m)\u001b[49m\n\u001b[1;32m     58\u001b[0m \u001b[38;5;28;01mexcept\u001b[39;00m \u001b[38;5;167;01mTypeError\u001b[39;00m:\n\u001b[1;32m     59\u001b[0m     \u001b[38;5;66;03m# A TypeError occurs if the object does have such a method in its\u001b[39;00m\n\u001b[1;32m     60\u001b[0m     \u001b[38;5;66;03m# class, but its signature is not identical to that of NumPy's. This\u001b[39;00m\n\u001b[0;32m   (...)\u001b[0m\n\u001b[1;32m     64\u001b[0m     \u001b[38;5;66;03m# Call _wrapit from within the except clause to ensure a potential\u001b[39;00m\n\u001b[1;32m     65\u001b[0m     \u001b[38;5;66;03m# exception has a traceback chain.\u001b[39;00m\n\u001b[1;32m     66\u001b[0m     \u001b[38;5;28;01mreturn\u001b[39;00m _wrapit(obj, method, \u001b[38;5;241m*\u001b[39margs, \u001b[38;5;241m*\u001b[39m\u001b[38;5;241m*\u001b[39mkwds)\n",
      "\u001b[0;31mValueError\u001b[0m: cannot reshape array of size 49968 into shape (3120,2082,3)"
     ]
    }
   ],
   "source": [
    "import pynq\n",
    "from pynq import Overlay\n",
    "from pynq.lib.dma import DMA\n",
    "import numpy as np\n",
    "from pynq import allocate\n",
    "import cv2\n",
    "\n",
    "# Load the overlay that includes the axi_dma_loopback module\n",
    "overlay = Overlay(\"design_first.bit\")\n",
    "dma = overlay.axi_dma_0\n",
    "\n",
    "# reading image\n",
    "image_path = \"hailee.jpg\"\n",
    "image = cv2.imread(image_path)\n",
    "height, width, channel = image.shape\n",
    "print(height, width, channel)\n",
    "\n",
    "# preparing chunks\n",
    "rows_per_chunk = 8  # size of the chunk\n",
    "chunk_size = rows_per_chunk*width*channel\n",
    "chunk_size\n",
    "\n",
    "# allocating buffer\n",
    "input_buffer = allocate(shape=(chunk_size), dtype=np.int32)\n",
    "output_buffer = allocate(shape=(chunk_size), dtype=np.int32)\n",
    "\n",
    "# initializing output image as all 0's\n",
    "processed_image = np.zeros((height, width, channel), dtype=np.int8)        \n",
    "rows_per_chunk = 8  # You can try reducing this value\n",
    "for i in range(0, height, rows_per_chunk):\n",
    "    start_row = i\n",
    "    end_row = min(i + rows_per_chunk, height)\n",
    "\n",
    "    # Transfer current chunk\n",
    "    dma.sendchannel.transfer(input_buffer[start_row * width * channel:end_row * width * channel])\n",
    "    dma.recvchannel.transfer(output_buffer[start_row * width * channel:end_row * width * channel])\n",
    "\n",
    "    # Wait for transfer to complete\n",
    "    dma.sendchannel.wait()\n",
    "    dma.recvchannel.wait()\n",
    "\n",
    "# Convert the output buffer to a numpy array for the processed image\n",
    "processed_image = np.reshape(output_buffer[:height * width * channel], (height, width, channel))\n",
    "\n",
    "cv2.imwrite(\"uav.png\",processed_image)"
   ]
  },
  {
   "cell_type": "code",
   "execution_count": null,
   "id": "2d80e761",
   "metadata": {},
   "outputs": [],
   "source": []
  }
 ],
 "metadata": {
  "kernelspec": {
   "display_name": "Python 3 (ipykernel)",
   "language": "python",
   "name": "python3"
  },
  "language_info": {
   "codemirror_mode": {
    "name": "ipython",
    "version": 3
   },
   "file_extension": ".py",
   "mimetype": "text/x-python",
   "name": "python",
   "nbconvert_exporter": "python",
   "pygments_lexer": "ipython3",
   "version": "3.10.4"
  }
 },
 "nbformat": 4,
 "nbformat_minor": 5
}
