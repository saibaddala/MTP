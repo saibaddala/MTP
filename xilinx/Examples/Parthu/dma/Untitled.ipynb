{
 "cells": [
  {
   "cell_type": "code",
   "execution_count": 1,
   "id": "f05e79a2",
   "metadata": {},
   "outputs": [
    {
     "data": {
      "application/javascript": [
       "\n",
       "try {\n",
       "require(['notebook/js/codecell'], function(codecell) {\n",
       "  codecell.CodeCell.options_default.highlight_modes[\n",
       "      'magic_text/x-csrc'] = {'reg':[/^%%microblaze/]};\n",
       "  Jupyter.notebook.events.one('kernel_ready.Kernel', function(){\n",
       "      Jupyter.notebook.get_cells().map(function(cell){\n",
       "          if (cell.cell_type == 'code'){ cell.auto_highlight(); } }) ;\n",
       "  });\n",
       "});\n",
       "} catch (e) {};\n"
      ]
     },
     "metadata": {},
     "output_type": "display_data"
    },
    {
     "data": {
      "application/javascript": [
       "\n",
       "try {\n",
       "require(['notebook/js/codecell'], function(codecell) {\n",
       "  codecell.CodeCell.options_default.highlight_modes[\n",
       "      'magic_text/x-csrc'] = {'reg':[/^%%pybind11/]};\n",
       "  Jupyter.notebook.events.one('kernel_ready.Kernel', function(){\n",
       "      Jupyter.notebook.get_cells().map(function(cell){\n",
       "          if (cell.cell_type == 'code'){ cell.auto_highlight(); } }) ;\n",
       "  });\n",
       "});\n",
       "} catch (e) {};\n"
      ]
     },
     "metadata": {},
     "output_type": "display_data"
    },
    {
     "name": "stdout",
     "output_type": "stream",
     "text": [
      "[1 2 3 4 5 6 7]\n",
      "[ 1  3  6 10 15 21 28]\n"
     ]
    }
   ],
   "source": [
    "import pynq\n",
    "from pynq import Overlay\n",
    "from pynq.lib.dma import DMA\n",
    "import numpy as np\n",
    "from pynq import allocate\n",
    "\n",
    "overlay = Overlay(\"add.bit\")\n",
    "dma = overlay.axi_dma_0\n",
    "\n",
    "t = [1, 2, 3, 4, 5, 6, 7]\n",
    "n = len(t)\n",
    "\n",
    "array_t = np.array(t)\n",
    "\n",
    "sample = array_t.astype(np.int32)\n",
    "\n",
    "# Allocate buffers for the input and output signals\n",
    "with allocate(shape=(n,), dtype=np.int32) as in_buffer, \\\n",
    "     allocate(shape=(n,), dtype=np.int32) as out_buffer:\n",
    "    np.copyto(in_buffer,sample)\n",
    "    dma.sendchannel.transfer(in_buffer)\n",
    "    dma.recvchannel.transfer(out_buffer)\n",
    "    \n",
    "    dma.sendchannel.wait()\n",
    "    dma.recvchannel.wait()\n",
    "    print(in_buffer)\n",
    "    print(out_buffer)"
   ]
  },
  {
   "cell_type": "code",
   "execution_count": 2,
   "id": "717755a9",
   "metadata": {},
   "outputs": [
    {
     "name": "stdout",
     "output_type": "stream",
     "text": [
      "1000000\n"
     ]
    },
    {
     "ename": "RuntimeError",
     "evalue": "DMA channel not started",
     "output_type": "error",
     "traceback": [
      "\u001b[0;31m---------------------------------------------------------------------------\u001b[0m",
      "\u001b[0;31mRuntimeError\u001b[0m                              Traceback (most recent call last)",
      "Input \u001b[0;32mIn [2]\u001b[0m, in \u001b[0;36m<cell line: 43>\u001b[0;34m()\u001b[0m\n\u001b[1;32m     55\u001b[0m dma\u001b[38;5;241m.\u001b[39mrecvchannel\u001b[38;5;241m.\u001b[39mtransfer(out_buffer)\n\u001b[1;32m     57\u001b[0m \u001b[38;5;66;03m# Wait for both DMA send and receive channels to complete the transfers\u001b[39;00m\n\u001b[0;32m---> 58\u001b[0m \u001b[43mdma\u001b[49m\u001b[38;5;241;43m.\u001b[39;49m\u001b[43msendchannel\u001b[49m\u001b[38;5;241;43m.\u001b[39;49m\u001b[43mwait\u001b[49m\u001b[43m(\u001b[49m\u001b[43m)\u001b[49m\n\u001b[1;32m     59\u001b[0m dma\u001b[38;5;241m.\u001b[39mrecvchannel\u001b[38;5;241m.\u001b[39mwait()\n\u001b[1;32m     61\u001b[0m \u001b[38;5;66;03m# Measure the FPGA execution time\u001b[39;00m\n",
      "File \u001b[0;32m/usr/local/share/pynq-venv/lib/python3.10/site-packages/pynq/lib/dma.py:169\u001b[0m, in \u001b[0;36m_SDMAChannel.wait\u001b[0;34m(self)\u001b[0m\n\u001b[1;32m    167\u001b[0m \u001b[38;5;124;03m\"\"\"Wait for the transfer to complete\"\"\"\u001b[39;00m\n\u001b[1;32m    168\u001b[0m \u001b[38;5;28;01mif\u001b[39;00m \u001b[38;5;129;01mnot\u001b[39;00m \u001b[38;5;28mself\u001b[39m\u001b[38;5;241m.\u001b[39mrunning:\n\u001b[0;32m--> 169\u001b[0m     \u001b[38;5;28;01mraise\u001b[39;00m \u001b[38;5;167;01mRuntimeError\u001b[39;00m(\u001b[38;5;124m\"\u001b[39m\u001b[38;5;124mDMA channel not started\u001b[39m\u001b[38;5;124m\"\u001b[39m)\n\u001b[1;32m    170\u001b[0m \u001b[38;5;28;01mwhile\u001b[39;00m \u001b[38;5;28;01mTrue\u001b[39;00m:\n\u001b[1;32m    171\u001b[0m     error \u001b[38;5;241m=\u001b[39m \u001b[38;5;28mself\u001b[39m\u001b[38;5;241m.\u001b[39m_mmio\u001b[38;5;241m.\u001b[39mread(\u001b[38;5;28mself\u001b[39m\u001b[38;5;241m.\u001b[39m_offset \u001b[38;5;241m+\u001b[39m \u001b[38;5;241m4\u001b[39m)\n",
      "\u001b[0;31mRuntimeError\u001b[0m: DMA channel not started"
     ]
    }
   ],
   "source": [
    "# Import necessary libraries from PYNQ framework\n",
    "import pynq\n",
    "from pynq import Overlay\n",
    "from pynq.lib.dma import DMA\n",
    "import numpy as np\n",
    "from pynq import allocate\n",
    "import time\n",
    "\n",
    "# Load the hardware overlay (bitstream) that contains the design with DMA and custom adder IP\n",
    "overlay = Overlay(\"design1_second_working.bit\")\n",
    "dma = overlay.axi_dma_0\n",
    "\n",
    "# Generate an array of 10,000 random integers between 1 and 5000 to be summed\n",
    "random_numbers = np.random.randint(1, 100, size=1000000)\n",
    "\n",
    "# Assign the generated random numbers to variable 't'\n",
    "t = random_numbers\n",
    "\n",
    "# Number of elements in the array\n",
    "n = len(t)\n",
    "print(n)\n",
    "# Initialize variables to store sum, software execution time, and hardware execution time\n",
    "sum_cpu = 0\n",
    "sw_exe_time = 0\n",
    "hw_exe_time = 0\n",
    "\n",
    "# -------- CPU (Software) Execution ---------\n",
    "# Measure the execution time of summing the array using the CPU\n",
    "start_time = time.time()\n",
    "for i in range(n):\n",
    "    sum_cpu = sum_cpu + t[i]  # Accumulate the sum of all numbers\n",
    "stop_time = time.time()\n",
    "\n",
    "# Calculate the CPU execution time for summing 10,000 numbers\n",
    "sw_exe_time = stop_time - start_time\n",
    "\n",
    "# Convert the array to a numpy array with int32 data type\n",
    "array_t = np.array(t)\n",
    "sample = array_t.astype(np.int32)\n",
    "\n",
    "# -------- FPGA (Hardware) Execution ---------\n",
    "# Allocate memory buffers for the input data (to FPGA) and output data (from FPGA)\n",
    "with allocate(shape=(n,), dtype=np.int32) as in_buffer, \\\n",
    "     allocate(shape=(1,), dtype=np.int32) as out_buffer:\n",
    "    \n",
    "    # Copy the input data into the allocated input buffer\n",
    "    np.copyto(in_buffer, sample)\n",
    "\n",
    "    # Start measuring the FPGA execution time\n",
    "    start_time = time.time()\n",
    "\n",
    "    # Transfer the input buffer to the FPGA via DMA\n",
    "    dma.sendchannel.transfer(in_buffer)\n",
    "    # Transfer the output buffer to receive the result from FPGA\n",
    "    dma.recvchannel.transfer(out_buffer)\n",
    "\n",
    "    # Wait for both DMA send and receive channels to complete the transfers\n",
    "    dma.sendchannel.wait()\n",
    "    dma.recvchannel.wait()\n",
    "\n",
    "    # Measure the FPGA execution time\n",
    "    stop_time = time.time()\n",
    "    hw_exe_time = stop_time - start_time\n",
    "\n",
    "    # Print the output result (sum) from the FPGA\n",
    "    print(\"FPGA Result (Sum):\", out_buffer[0])\n",
    "\n",
    "    # Close the buffers after use\n",
    "    in_buffer.close()\n",
    "    out_buffer.close()\n",
    "\n",
    "# Print the execution times and performance comparison\n",
    "print(\"FPGA (sum of 10,000 numbers) Execution Time: \", hw_exe_time, \"seconds\")\n",
    "\n",
    "print(\"CPU Result (Sum):\", sum_cpu)\n",
    "print(\"CPU (sum of 10,000 numbers) Execution Time: \", sw_exe_time, \"seconds\")\n",
    "\n",
    "print(\"Performance Gain: FPGA is\", sw_exe_time / hw_exe_time, \"times faster than CPU\")"
   ]
  },
  {
   "cell_type": "code",
   "execution_count": 25,
   "id": "27fe26d8",
   "metadata": {},
   "outputs": [
    {
     "name": "stdout",
     "output_type": "stream",
     "text": [
      "1000000\n",
      "[5001352]\n",
      "CPU(sum 1000 numbers)  0\n",
      "FPGA(sum 1000 numbers)  0.018686532974243164\n",
      "FPGA faster  0.0\n",
      "0\n"
     ]
    }
   ],
   "source": [
    "import pynq\n",
    "from pynq import Overlay\n",
    "from pynq.lib.dma import DMA\n",
    "import numpy as np\n",
    "from pynq import allocate\n",
    "import time\n",
    "\n",
    "# overlay = Overlay(\"design1.bit\")\n",
    "overlay = Overlay(\"sumAll.bit\")\n",
    "\n",
    "dma = overlay.axi_dma_0\n",
    "\n",
    "import numpy as np\n",
    "\n",
    "# random_numbers = list(range(1, 1000000 + 1))\n",
    "random_numbers = np.random.randint(1, 10, size=1000000)\n",
    "\n",
    "\n",
    "# print(random_numbers)\n",
    "\n",
    "# t = [1, 2, 3, 4, 5, 6, 7]\n",
    "t = random_numbers\n",
    "\n",
    "n = len(t)\n",
    "print(n)\n",
    "sum = 0\n",
    "sw_exe_time = 0\n",
    "hw_exe_time = 0\n",
    "# start_time = time.time()\n",
    "# for i in range(n):\n",
    "#     sum = sum + t[i];\n",
    "\n",
    "# stop_time = time.time()\n",
    "# sw_exe_time =  sw_exe_time + stop_time - start_time\n",
    "# print(\"cpu result\", sum)\n",
    "array_t = np.array(t)\n",
    "\n",
    "\n",
    "\n",
    "sample = array_t.astype(np.int32)\n",
    "\n",
    "\n",
    "\n",
    "# Allocate buffers for the input and output signals\n",
    "with allocate(shape=(n,), dtype=np.int32) as in_buffer, \\\n",
    "     allocate(shape=(1,), dtype=np.int32) as out_buffer:\n",
    "    np.copyto(in_buffer,sample)\n",
    "    start_time = time.time()\n",
    "    dma.sendchannel.transfer(in_buffer)\n",
    "    dma.recvchannel.transfer(out_buffer)\n",
    "    \n",
    "    dma.sendchannel.wait()\n",
    "    dma.recvchannel.wait()\n",
    "    stop_time = time.time()\n",
    "    hw_exe_time = hw_exe_time + stop_time - start_time\n",
    "#     print(in_buffer)\n",
    "    print(out_buffer)\n",
    "    in_buffer.close()\n",
    "    out_buffer.close()\n",
    "    \n",
    "print(\"CPU(sum 1000 numbers) \", sw_exe_time)\n",
    "print(\"FPGA(sum 1000 numbers) \", hw_exe_time)\n",
    "print(\"FPGA faster \", sw_exe_time/hw_exe_time)\n",
    "\n",
    "print(sum)"
   ]
  },
  {
   "cell_type": "code",
   "execution_count": 16,
   "id": "69323958",
   "metadata": {},
   "outputs": [],
   "source": [
    "import pynq\n",
    "from pynq import Overlay\n",
    "from pynq.lib.dma import DMA\n",
    "import numpy as np\n",
    "from pynq import allocate\n",
    "import time\n",
    "\n",
    "# Load the overlay\n",
    "overlay = Overlay(\"sumAll.bit\")\n",
    "dma = overlay.axi_dma_0"
   ]
  },
  {
   "cell_type": "code",
   "execution_count": 10,
   "id": "2480c9b4",
   "metadata": {},
   "outputs": [],
   "source": [
    "# Generate random numbers array\n",
    "random_numbers = np.random.randint(1, 10, size=100000000)  # Large data array\n",
    "\n",
    "# Define manageable chunk size (adjust based on memory constraints)\n",
    "chunk_size = 1000000  # Try smaller sizes if memory issues persist\n"
   ]
  },
  {
   "cell_type": "code",
   "execution_count": 17,
   "id": "69bec13c",
   "metadata": {},
   "outputs": [
    {
     "name": "stdout",
     "output_type": "stream",
     "text": [
      "100000000\n"
     ]
    }
   ],
   "source": [
    "n = len(random_numbers)\n",
    "print(n)"
   ]
  },
  {
   "cell_type": "code",
   "execution_count": 18,
   "id": "8a374887",
   "metadata": {},
   "outputs": [
    {
     "name": "stdout",
     "output_type": "stream",
     "text": [
      "100\n"
     ]
    }
   ],
   "source": [
    "num_chunks = n // chunk_size + (1 if n % chunk_size != 0 else 0)  # Total number of chunks\n",
    "print(num_chunks)"
   ]
  },
  {
   "cell_type": "code",
   "execution_count": 15,
   "id": "38eea74e",
   "metadata": {
    "scrolled": true
   },
   "outputs": [
    {
     "name": "stdout",
     "output_type": "stream",
     "text": [
      "0\n"
     ]
    },
    {
     "ename": "RuntimeError",
     "evalue": "DMA channel not idle",
     "output_type": "error",
     "traceback": [
      "\u001b[0;31m---------------------------------------------------------------------------\u001b[0m",
      "\u001b[0;31mRuntimeError\u001b[0m                              Traceback (most recent call last)",
      "Input \u001b[0;32mIn [15]\u001b[0m, in \u001b[0;36m<cell line: 6>\u001b[0;34m()\u001b[0m\n\u001b[1;32m     19\u001b[0m \u001b[38;5;66;03m# FPGA Execution\u001b[39;00m\n\u001b[1;32m     20\u001b[0m start_time \u001b[38;5;241m=\u001b[39m time\u001b[38;5;241m.\u001b[39mtime()\n\u001b[0;32m---> 21\u001b[0m \u001b[43mdma\u001b[49m\u001b[38;5;241;43m.\u001b[39;49m\u001b[43msendchannel\u001b[49m\u001b[38;5;241;43m.\u001b[39;49m\u001b[43mtransfer\u001b[49m\u001b[43m(\u001b[49m\u001b[43min_buffer\u001b[49m\u001b[43m)\u001b[49m\n\u001b[1;32m     22\u001b[0m dma\u001b[38;5;241m.\u001b[39mrecvchannel\u001b[38;5;241m.\u001b[39mtransfer(out_buffer)\n\u001b[1;32m     23\u001b[0m dma\u001b[38;5;241m.\u001b[39msendchannel\u001b[38;5;241m.\u001b[39mwait()\n",
      "File \u001b[0;32m/usr/local/share/pynq-venv/lib/python3.10/site-packages/pynq/lib/dma.py:138\u001b[0m, in \u001b[0;36m_SDMAChannel.transfer\u001b[0;34m(self, array, start, nbytes)\u001b[0m\n\u001b[1;32m    136\u001b[0m     \u001b[38;5;28;01mraise\u001b[39;00m \u001b[38;5;167;01mRuntimeError\u001b[39;00m(\u001b[38;5;124m\"\u001b[39m\u001b[38;5;124mDMA channel not started\u001b[39m\u001b[38;5;124m\"\u001b[39m)\n\u001b[1;32m    137\u001b[0m \u001b[38;5;28;01mif\u001b[39;00m \u001b[38;5;129;01mnot\u001b[39;00m \u001b[38;5;28mself\u001b[39m\u001b[38;5;241m.\u001b[39midle \u001b[38;5;129;01mand\u001b[39;00m \u001b[38;5;129;01mnot\u001b[39;00m \u001b[38;5;28mself\u001b[39m\u001b[38;5;241m.\u001b[39m_first_transfer:\n\u001b[0;32m--> 138\u001b[0m     \u001b[38;5;28;01mraise\u001b[39;00m \u001b[38;5;167;01mRuntimeError\u001b[39;00m(\u001b[38;5;124m\"\u001b[39m\u001b[38;5;124mDMA channel not idle\u001b[39m\u001b[38;5;124m\"\u001b[39m)\n\u001b[1;32m    139\u001b[0m \u001b[38;5;28;01mif\u001b[39;00m nbytes \u001b[38;5;241m==\u001b[39m \u001b[38;5;241m0\u001b[39m:\n\u001b[1;32m    140\u001b[0m     nbytes \u001b[38;5;241m=\u001b[39m array\u001b[38;5;241m.\u001b[39mnbytes \u001b[38;5;241m-\u001b[39m start\n",
      "\u001b[0;31mRuntimeError\u001b[0m: DMA channel not idle"
     ]
    }
   ],
   "source": [
    "# Initialize variables to store results and time\n",
    "total_fpga_sum = 0\n",
    "hw_exe_time = 0\n",
    "\n",
    "# Process each chunk\n",
    "for i in range(num_chunks):\n",
    "    print(i)\n",
    "    start = i * chunk_size\n",
    "    end = min((i + 1) * chunk_size, n)\n",
    "    chunk = random_numbers[start:end].astype(np.int32)  # Convert chunk to int32 for DMA\n",
    "\n",
    "    # Allocate buffers for input and output for each chunk\n",
    "    with allocate(shape=(len(chunk),), dtype=np.int32) as in_buffer, \\\n",
    "         allocate(shape=(1,), dtype=np.int32) as out_buffer:\n",
    "        \n",
    "        # Copy data to input buffer\n",
    "        np.copyto(in_buffer, chunk)\n",
    "        \n",
    "        # FPGA Execution\n",
    "        start_time = time.time()\n",
    "        dma.sendchannel.transfer(in_buffer)\n",
    "        dma.recvchannel.transfer(out_buffer)\n",
    "        dma.sendchannel.wait()\n",
    "        dma.recvchannel.wait()\n",
    "        stop_time = time.time()\n",
    "        \n",
    "        # Add execution time\n",
    "        hw_exe_time += (stop_time - start_time)\n",
    "        \n",
    "        # Accumulate the FPGA result\n",
    "        total_fpga_sum += out_buffer[0]  # Add FPGA's partial sum to the total sum"
   ]
  },
  {
   "cell_type": "code",
   "execution_count": 20,
   "id": "0b61cac8",
   "metadata": {},
   "outputs": [
    {
     "name": "stdout",
     "output_type": "stream",
     "text": [
      "100000000 100 1000000\n"
     ]
    }
   ],
   "source": [
    "#  Define manageable chunk size (adjust based on memory constraints)\n",
    "chunk_size = 1000000  # Try smaller sizes if memory issues persist\n",
    "n = len(random_numbers)\n",
    "num_chunks = (n + chunk_size - 1) // chunk_size  # Calculate total number of chunks\n",
    "print(n, num_chunks, chunk_size)\n",
    "# Initialize variables to store results and time\n",
    "total_fpga_sum = 0\n",
    "hw_exe_time = 0"
   ]
  },
  {
   "cell_type": "code",
   "execution_count": 21,
   "id": "9d04d2fa",
   "metadata": {},
   "outputs": [
    {
     "name": "stdout",
     "output_type": "stream",
     "text": [
      "0\n",
      "1\n"
     ]
    },
    {
     "ename": "KeyboardInterrupt",
     "evalue": "",
     "output_type": "error",
     "traceback": [
      "\u001b[0;31m---------------------------------------------------------------------------\u001b[0m",
      "\u001b[0;31mKeyboardInterrupt\u001b[0m                         Traceback (most recent call last)",
      "Input \u001b[0;32mIn [21]\u001b[0m, in \u001b[0;36m<cell line: 1>\u001b[0;34m()\u001b[0m\n\u001b[1;32m     16\u001b[0m dma\u001b[38;5;241m.\u001b[39msendchannel\u001b[38;5;241m.\u001b[39mtransfer(in_buffer)\n\u001b[1;32m     17\u001b[0m dma\u001b[38;5;241m.\u001b[39mrecvchannel\u001b[38;5;241m.\u001b[39mtransfer(out_buffer)\n\u001b[0;32m---> 18\u001b[0m \u001b[43mdma\u001b[49m\u001b[38;5;241;43m.\u001b[39;49m\u001b[43msendchannel\u001b[49m\u001b[38;5;241;43m.\u001b[39;49m\u001b[43mwait\u001b[49m\u001b[43m(\u001b[49m\u001b[43m)\u001b[49m\n\u001b[1;32m     19\u001b[0m dma\u001b[38;5;241m.\u001b[39mrecvchannel\u001b[38;5;241m.\u001b[39mwait()\n\u001b[1;32m     20\u001b[0m stop_time \u001b[38;5;241m=\u001b[39m time\u001b[38;5;241m.\u001b[39mtime()\n",
      "File \u001b[0;32m/usr/local/share/pynq-venv/lib/python3.10/site-packages/pynq/lib/dma.py:172\u001b[0m, in \u001b[0;36m_SDMAChannel.wait\u001b[0;34m(self)\u001b[0m\n\u001b[1;32m    170\u001b[0m \u001b[38;5;28;01mwhile\u001b[39;00m \u001b[38;5;28;01mTrue\u001b[39;00m:\n\u001b[1;32m    171\u001b[0m     error \u001b[38;5;241m=\u001b[39m \u001b[38;5;28mself\u001b[39m\u001b[38;5;241m.\u001b[39m_mmio\u001b[38;5;241m.\u001b[39mread(\u001b[38;5;28mself\u001b[39m\u001b[38;5;241m.\u001b[39m_offset \u001b[38;5;241m+\u001b[39m \u001b[38;5;241m4\u001b[39m)\n\u001b[0;32m--> 172\u001b[0m     \u001b[38;5;28;01mif\u001b[39;00m \u001b[38;5;28;43mself\u001b[39;49m\u001b[38;5;241;43m.\u001b[39;49m\u001b[43merror\u001b[49m:\n\u001b[1;32m    173\u001b[0m         \u001b[38;5;28;01mif\u001b[39;00m error \u001b[38;5;241m&\u001b[39m \u001b[38;5;241m0x10\u001b[39m:\n\u001b[1;32m    174\u001b[0m             \u001b[38;5;28;01mraise\u001b[39;00m \u001b[38;5;167;01mRuntimeError\u001b[39;00m(\u001b[38;5;124m\"\u001b[39m\u001b[38;5;124mDMA Internal Error (transfer length 0?)\u001b[39m\u001b[38;5;124m\"\u001b[39m)\n",
      "File \u001b[0;32m/usr/local/share/pynq-venv/lib/python3.10/site-packages/pynq/lib/dma.py:85\u001b[0m, in \u001b[0;36m_SDMAChannel.error\u001b[0;34m(self)\u001b[0m\n\u001b[1;32m     82\u001b[0m \u001b[38;5;129m@property\u001b[39m\n\u001b[1;32m     83\u001b[0m \u001b[38;5;28;01mdef\u001b[39;00m \u001b[38;5;21merror\u001b[39m(\u001b[38;5;28mself\u001b[39m):\n\u001b[1;32m     84\u001b[0m     \u001b[38;5;124;03m\"\"\"True if DMA engine is in an error state\"\"\"\u001b[39;00m\n\u001b[0;32m---> 85\u001b[0m     \u001b[38;5;28;01mreturn\u001b[39;00m \u001b[38;5;28;43mself\u001b[39;49m\u001b[38;5;241;43m.\u001b[39;49m\u001b[43m_mmio\u001b[49m\u001b[38;5;241;43m.\u001b[39;49m\u001b[43mread\u001b[49m\u001b[43m(\u001b[49m\u001b[38;5;28;43mself\u001b[39;49m\u001b[38;5;241;43m.\u001b[39;49m\u001b[43m_offset\u001b[49m\u001b[43m \u001b[49m\u001b[38;5;241;43m+\u001b[39;49m\u001b[43m \u001b[49m\u001b[38;5;241;43m4\u001b[39;49m\u001b[43m)\u001b[49m \u001b[38;5;241m&\u001b[39m \u001b[38;5;241m0x70\u001b[39m \u001b[38;5;241m!=\u001b[39m \u001b[38;5;241m0x0\u001b[39m\n",
      "\u001b[0;31mKeyboardInterrupt\u001b[0m: "
     ]
    }
   ],
   "source": [
    "for i in range(num_chunks):\n",
    "    print(i)\n",
    "    start = i * chunk_size\n",
    "    end = min((i + 1) * chunk_size, n)\n",
    "    chunk = random_numbers[start:end].astype(np.int32)  # Convert chunk to int32 for DMA\n",
    "\n",
    "    # Allocate buffers for input and output for each chunk\n",
    "    with allocate(shape=(len(chunk),), dtype=np.int32) as in_buffer, \\\n",
    "         allocate(shape=(1,), dtype=np.int32) as out_buffer:\n",
    "        \n",
    "        # Copy data to input buffer\n",
    "        np.copyto(in_buffer, chunk)\n",
    "        \n",
    "        # FPGA Execution\n",
    "        start_time = time.time()\n",
    "        dma.sendchannel.transfer(in_buffer)\n",
    "        dma.recvchannel.transfer(out_buffer)\n",
    "        dma.sendchannel.wait()\n",
    "        dma.recvchannel.wait()\n",
    "        stop_time = time.time()\n",
    "        \n",
    "        # Accumulate execution time and result\n",
    "        hw_exe_time += (stop_time - start_time)\n",
    "        total_fpga_sum += int(out_buffer[0])  # Convert to int to avoid unexpected types"
   ]
  },
  {
   "cell_type": "code",
   "execution_count": 22,
   "id": "7d5b9f42",
   "metadata": {},
   "outputs": [
    {
     "name": "stdout",
     "output_type": "stream",
     "text": [
      "Processing chunk 1/200, size: 500000\n",
      "Chunk 1 processed. Partial FPGA sum: 2498556\n",
      "Processing chunk 2/200, size: 500000\n"
     ]
    },
    {
     "ename": "KeyboardInterrupt",
     "evalue": "",
     "output_type": "error",
     "traceback": [
      "\u001b[0;31m---------------------------------------------------------------------------\u001b[0m",
      "\u001b[0;31mKeyboardInterrupt\u001b[0m                         Traceback (most recent call last)",
      "Input \u001b[0;32mIn [22]\u001b[0m, in \u001b[0;36m<cell line: 25>\u001b[0;34m()\u001b[0m\n\u001b[1;32m     42\u001b[0m dma\u001b[38;5;241m.\u001b[39mrecvchannel\u001b[38;5;241m.\u001b[39mtransfer(out_buffer)\n\u001b[1;32m     44\u001b[0m \u001b[38;5;66;03m# Ensure DMA synchronization\u001b[39;00m\n\u001b[0;32m---> 45\u001b[0m \u001b[43mdma\u001b[49m\u001b[38;5;241;43m.\u001b[39;49m\u001b[43msendchannel\u001b[49m\u001b[38;5;241;43m.\u001b[39;49m\u001b[43mwait\u001b[49m\u001b[43m(\u001b[49m\u001b[43m)\u001b[49m\n\u001b[1;32m     46\u001b[0m dma\u001b[38;5;241m.\u001b[39mrecvchannel\u001b[38;5;241m.\u001b[39mwait()\n\u001b[1;32m     48\u001b[0m stop_time \u001b[38;5;241m=\u001b[39m time\u001b[38;5;241m.\u001b[39mtime()\n",
      "File \u001b[0;32m/usr/local/share/pynq-venv/lib/python3.10/site-packages/pynq/lib/dma.py:171\u001b[0m, in \u001b[0;36m_SDMAChannel.wait\u001b[0;34m(self)\u001b[0m\n\u001b[1;32m    169\u001b[0m     \u001b[38;5;28;01mraise\u001b[39;00m \u001b[38;5;167;01mRuntimeError\u001b[39;00m(\u001b[38;5;124m\"\u001b[39m\u001b[38;5;124mDMA channel not started\u001b[39m\u001b[38;5;124m\"\u001b[39m)\n\u001b[1;32m    170\u001b[0m \u001b[38;5;28;01mwhile\u001b[39;00m \u001b[38;5;28;01mTrue\u001b[39;00m:\n\u001b[0;32m--> 171\u001b[0m     error \u001b[38;5;241m=\u001b[39m \u001b[38;5;28;43mself\u001b[39;49m\u001b[38;5;241;43m.\u001b[39;49m\u001b[43m_mmio\u001b[49m\u001b[38;5;241;43m.\u001b[39;49m\u001b[43mread\u001b[49m\u001b[43m(\u001b[49m\u001b[38;5;28;43mself\u001b[39;49m\u001b[38;5;241;43m.\u001b[39;49m\u001b[43m_offset\u001b[49m\u001b[43m \u001b[49m\u001b[38;5;241;43m+\u001b[39;49m\u001b[43m \u001b[49m\u001b[38;5;241;43m4\u001b[39;49m\u001b[43m)\u001b[49m\n\u001b[1;32m    172\u001b[0m     \u001b[38;5;28;01mif\u001b[39;00m \u001b[38;5;28mself\u001b[39m\u001b[38;5;241m.\u001b[39merror:\n\u001b[1;32m    173\u001b[0m         \u001b[38;5;28;01mif\u001b[39;00m error \u001b[38;5;241m&\u001b[39m \u001b[38;5;241m0x10\u001b[39m:\n",
      "File \u001b[0;32m/usr/local/share/pynq-venv/lib/python3.10/site-packages/pynq/mmio.py:121\u001b[0m, in \u001b[0;36mMMIO.read\u001b[0;34m(self, offset, length, word_order)\u001b[0m\n\u001b[1;32m    118\u001b[0m     \u001b[38;5;28;01mraise\u001b[39;00m \u001b[38;5;167;01mMemoryError\u001b[39;00m(\u001b[38;5;124m\"\u001b[39m\u001b[38;5;124mUnaligned read: offset must be multiple of 4.\u001b[39m\u001b[38;5;124m\"\u001b[39m)\n\u001b[1;32m    120\u001b[0m \u001b[38;5;66;03m# Read data out\u001b[39;00m\n\u001b[0;32m--> 121\u001b[0m lsb \u001b[38;5;241m=\u001b[39m \u001b[38;5;28;43mint\u001b[39;49m\u001b[43m(\u001b[49m\u001b[38;5;28;43mself\u001b[39;49m\u001b[38;5;241;43m.\u001b[39;49m\u001b[43marray\u001b[49m\u001b[43m[\u001b[49m\u001b[43midx\u001b[49m\u001b[43m]\u001b[49m\u001b[43m)\u001b[49m\n\u001b[1;32m    122\u001b[0m \u001b[38;5;28;01mif\u001b[39;00m length \u001b[38;5;241m==\u001b[39m \u001b[38;5;241m8\u001b[39m:\n\u001b[1;32m    123\u001b[0m     \u001b[38;5;28;01mif\u001b[39;00m word_order \u001b[38;5;241m==\u001b[39m \u001b[38;5;124m\"\u001b[39m\u001b[38;5;124mlittle\u001b[39m\u001b[38;5;124m\"\u001b[39m:\n",
      "\u001b[0;31mKeyboardInterrupt\u001b[0m: "
     ]
    }
   ],
   "source": [
    "import pynq\n",
    "from pynq import Overlay\n",
    "from pynq.lib.dma import DMA\n",
    "import numpy as np\n",
    "from pynq import allocate\n",
    "import time\n",
    "\n",
    "# Load the overlay\n",
    "overlay = Overlay(\"sumAll.bit\")\n",
    "dma = overlay.axi_dma_0\n",
    "\n",
    "# Generate random numbers array\n",
    "random_numbers = np.random.randint(1, 10, size=100000000)  # Large data array\n",
    "\n",
    "# Define manageable chunk size (reduce if necessary)\n",
    "chunk_size = 500000  # Smaller chunk size to manage memory constraints\n",
    "n = len(random_numbers)\n",
    "num_chunks = (n + chunk_size - 1) // chunk_size  # Calculate total number of chunks\n",
    "\n",
    "# Initialize variables to store results and time\n",
    "total_fpga_sum = 0\n",
    "hw_exe_time = 0\n",
    "\n",
    "# Process each chunk\n",
    "for i in range(num_chunks):\n",
    "    start = i * chunk_size\n",
    "    end = min((i + 1) * chunk_size, n)\n",
    "    chunk = random_numbers[start:end].astype(np.int32)  # Convert chunk to int32 for DMA\n",
    "    \n",
    "    print(f\"Processing chunk {i+1}/{num_chunks}, size: {len(chunk)}\")  # Debug output\n",
    "\n",
    "    # Allocate buffers for input and output for each chunk\n",
    "    with allocate(shape=(len(chunk),), dtype=np.int32) as in_buffer, \\\n",
    "         allocate(shape=(1,), dtype=np.int32) as out_buffer:\n",
    "        \n",
    "        # Copy data to input buffer\n",
    "        np.copyto(in_buffer, chunk)\n",
    "        \n",
    "        # FPGA Execution\n",
    "        start_time = time.time()\n",
    "        dma.sendchannel.transfer(in_buffer)\n",
    "        dma.recvchannel.transfer(out_buffer)\n",
    "        \n",
    "        # Ensure DMA synchronization\n",
    "        dma.sendchannel.wait()\n",
    "        dma.recvchannel.wait()\n",
    "        \n",
    "        stop_time = time.time()\n",
    "        \n",
    "        # Accumulate execution time and result\n",
    "        hw_exe_time += (stop_time - start_time)\n",
    "        total_fpga_sum += int(out_buffer[0])  # Convert to int to avoid unexpected types\n",
    "\n",
    "        print(f\"Chunk {i+1} processed. Partial FPGA sum: {total_fpga_sum}\")  # Debug output\n",
    "\n",
    "# CPU Execution (Software) for comparison\n",
    "start_time = time.time()\n",
    "cpu_sum = np.sum(random_numbers)  # CPU sum for the full array\n",
    "stop_time = time.time()\n",
    "sw_exe_time = stop_time - start_time\n",
    "\n",
    "# Display results\n",
    "print(\"CPU result:\", cpu_sum)\n",
    "print(\"FPGA result:\", total_fpga_sum)\n",
    "print(\"CPU Execution Time (seconds):\", sw_exe_time)\n",
    "print(\"FPGA Execution Time (seconds):\", hw_exe_time)\n",
    "if hw_exe_time > 0:\n",
    "    print(\"FPGA speedup:\", sw_exe_time / hw_exe_time)\n"
   ]
  },
  {
   "cell_type": "code",
   "execution_count": null,
   "id": "c910c615",
   "metadata": {},
   "outputs": [],
   "source": []
  },
  {
   "cell_type": "code",
   "execution_count": null,
   "id": "7bc57364",
   "metadata": {},
   "outputs": [],
   "source": []
  }
 ],
 "metadata": {
  "kernelspec": {
   "display_name": "Python 3 (ipykernel)",
   "language": "python",
   "name": "python3"
  },
  "language_info": {
   "codemirror_mode": {
    "name": "ipython",
    "version": 3
   },
   "file_extension": ".py",
   "mimetype": "text/x-python",
   "name": "python",
   "nbconvert_exporter": "python",
   "pygments_lexer": "ipython3",
   "version": "3.10.4"
  }
 },
 "nbformat": 4,
 "nbformat_minor": 5
}
