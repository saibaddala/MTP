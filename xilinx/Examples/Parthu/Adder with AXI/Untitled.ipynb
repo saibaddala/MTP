{
 "cells": [
  {
   "cell_type": "code",
   "execution_count": 1,
   "id": "9b3e1f1f",
   "metadata": {},
   "outputs": [
    {
     "data": {
      "application/javascript": [
       "\n",
       "try {\n",
       "require(['notebook/js/codecell'], function(codecell) {\n",
       "  codecell.CodeCell.options_default.highlight_modes[\n",
       "      'magic_text/x-csrc'] = {'reg':[/^%%microblaze/]};\n",
       "  Jupyter.notebook.events.one('kernel_ready.Kernel', function(){\n",
       "      Jupyter.notebook.get_cells().map(function(cell){\n",
       "          if (cell.cell_type == 'code'){ cell.auto_highlight(); } }) ;\n",
       "  });\n",
       "});\n",
       "} catch (e) {};\n"
      ]
     },
     "metadata": {},
     "output_type": "display_data"
    },
    {
     "data": {
      "application/javascript": [
       "\n",
       "try {\n",
       "require(['notebook/js/codecell'], function(codecell) {\n",
       "  codecell.CodeCell.options_default.highlight_modes[\n",
       "      'magic_text/x-csrc'] = {'reg':[/^%%pybind11/]};\n",
       "  Jupyter.notebook.events.one('kernel_ready.Kernel', function(){\n",
       "      Jupyter.notebook.get_cells().map(function(cell){\n",
       "          if (cell.cell_type == 'code'){ cell.auto_highlight(); } }) ;\n",
       "  });\n",
       "});\n",
       "} catch (e) {};\n"
      ]
     },
     "metadata": {},
     "output_type": "display_data"
    },
    {
     "name": "stdout",
     "output_type": "stream",
     "text": [
      "dict_keys(['axi_dma_0', 'processing_system7_0'])\n"
     ]
    }
   ],
   "source": [
    "from pynq import Overlay\n",
    "import pynq.lib.dma\n",
    "overlay = Overlay('./design_1.bit')\n",
    "dma = overlay.axi_dma_0\n",
    "print(overlay.ip_dict.keys())"
   ]
  },
  {
   "cell_type": "code",
   "execution_count": 2,
   "id": "ed52f256",
   "metadata": {},
   "outputs": [],
   "source": [
    "import pynq\n",
    "from pynq import Overlay\n",
    "from pynq.lib.dma import DMA\n",
    "import numpy as np\n",
    "from pynq import allocate\n",
    "\n",
    "# Load the overlay that includes the axi_dma_loopback module\n",
    "overlay = Overlay(\"./design_1.bit\")\n",
    "dma = overlay.axi_dma_0\n",
    "\n",
    "\n",
    "t = [1, 4,6, 8]\n",
    "n = len(t)\n",
    "\n",
    "array_t = np.array(t)\n",
    "\n",
    "sample = array_t.astype(np.int32)"
   ]
  },
  {
   "cell_type": "code",
   "execution_count": 3,
   "id": "9e8603af",
   "metadata": {},
   "outputs": [
    {
     "name": "stderr",
     "output_type": "stream",
     "text": [
      "\n",
      "KeyboardInterrupt\n",
      "\n"
     ]
    }
   ],
   "source": [
    "# Allocate buffers for the input and output signals\n",
    "with allocate(shape=(n,), dtype=np.int32) as in_buffer, \\\n",
    "     allocate(shape=(n,), dtype=np.int32) as out_buffer:\n",
    "    np.copyto(in_buffer,sample)\n",
    "    dma.sendchannel.transfer(in_buffer)\n",
    "    dma.recvchannel.transfer(out_buffer)\n",
    "    \n",
    "    dma.sendchannel.wait()\n",
    "    dma.recvchannel.wait()\n",
    "    print(in_buffer)\n",
    "    print(out_buffer)"
   ]
  },
  {
   "cell_type": "code",
   "execution_count": null,
   "id": "bdba66bc",
   "metadata": {},
   "outputs": [],
   "source": []
  },
  {
   "cell_type": "code",
   "execution_count": null,
   "id": "1a21b75f",
   "metadata": {},
   "outputs": [],
   "source": []
  },
  {
   "cell_type": "code",
   "execution_count": null,
   "id": "7d67d8fc",
   "metadata": {},
   "outputs": [],
   "source": []
  },
  {
   "cell_type": "code",
   "execution_count": null,
   "id": "ae9fe330",
   "metadata": {},
   "outputs": [],
   "source": []
  },
  {
   "cell_type": "code",
   "execution_count": null,
   "id": "901bff49",
   "metadata": {},
   "outputs": [],
   "source": []
  },
  {
   "cell_type": "code",
   "execution_count": null,
   "id": "8d9a8c7f",
   "metadata": {},
   "outputs": [],
   "source": []
  },
  {
   "cell_type": "code",
   "execution_count": null,
   "id": "6e72bee8",
   "metadata": {},
   "outputs": [],
   "source": []
  },
  {
   "cell_type": "code",
   "execution_count": 4,
   "id": "7febfec2",
   "metadata": {},
   "outputs": [],
   "source": [
    "from pynq import allocate\n",
    "\n",
    "import numpy as np\n",
    "\n",
    "t = [200, 100]\n",
    "n = len(t)\n",
    "\n",
    "array_t = np.array(t)\n",
    "\n",
    "sample = array_t.astype(np.int32)"
   ]
  },
  {
   "cell_type": "markdown",
   "id": "afb690e8",
   "metadata": {},
   "source": [
    "<!-- # with allocate(shape=(n,), dtype=np.int32) as in_buffer, \\\n",
    "     allocate(shape=(1,), dtype=np.int32) as out_buffer:\n",
    "    \n",
    "    np.copyto(in_buffer, sample)\n",
    "    \n",
    "    dma.sendchannel.transfer(in_buffer)\n",
    "    dma.recvchannel.transfer(out_buffer)\n",
    "    \n",
    "    dma.sendchannel.wait()\n",
    "#     dma.recvchannel.wait()\n",
    "    \n",
    "    print(in_buffer)\n",
    "    print(out_buffer)\n",
    "    \n",
    "    in_buffer.close()\n",
    "    out_buffer.close() -->"
   ]
  },
  {
   "cell_type": "code",
   "execution_count": 5,
   "id": "dea3efda",
   "metadata": {},
   "outputs": [],
   "source": [
    "input_buffer = pynq.allocate(shape=(256,), dtype=np.uint32)\n",
    "output_buffer = pynq.allocate(shape=(256,), dtype=np.uint32)\n",
    "\n",
    "# Fill the input buffer with some test data\n",
    "input_data = np.arange(256, dtype=np.uint32)\n",
    "input_buffer[:] = input_data[:]\n",
    "\n"
   ]
  },
  {
   "cell_type": "code",
   "execution_count": 6,
   "id": "ff6e5dbf",
   "metadata": {},
   "outputs": [
    {
     "ename": "RuntimeError",
     "evalue": "DMA channel not idle",
     "output_type": "error",
     "traceback": [
      "\u001b[0;31m---------------------------------------------------------------------------\u001b[0m",
      "\u001b[0;31mRuntimeError\u001b[0m                              Traceback (most recent call last)",
      "Input \u001b[0;32mIn [6]\u001b[0m, in \u001b[0;36m<cell line: 3>\u001b[0;34m()\u001b[0m\n\u001b[1;32m      1\u001b[0m \u001b[38;5;66;03m# Send data to the DMA\u001b[39;00m\n\u001b[1;32m      2\u001b[0m dma\u001b[38;5;241m.\u001b[39msendchannel\u001b[38;5;241m.\u001b[39mtransfer(input_buffer)\n\u001b[0;32m----> 3\u001b[0m \u001b[43mdma\u001b[49m\u001b[38;5;241;43m.\u001b[39;49m\u001b[43mrecvchannel\u001b[49m\u001b[38;5;241;43m.\u001b[39;49m\u001b[43mtransfer\u001b[49m\u001b[43m(\u001b[49m\u001b[43moutput_buffer\u001b[49m\u001b[43m)\u001b[49m\n",
      "File \u001b[0;32m/usr/local/share/pynq-venv/lib/python3.10/site-packages/pynq/lib/dma.py:138\u001b[0m, in \u001b[0;36m_SDMAChannel.transfer\u001b[0;34m(self, array, start, nbytes)\u001b[0m\n\u001b[1;32m    136\u001b[0m     \u001b[38;5;28;01mraise\u001b[39;00m \u001b[38;5;167;01mRuntimeError\u001b[39;00m(\u001b[38;5;124m\"\u001b[39m\u001b[38;5;124mDMA channel not started\u001b[39m\u001b[38;5;124m\"\u001b[39m)\n\u001b[1;32m    137\u001b[0m \u001b[38;5;28;01mif\u001b[39;00m \u001b[38;5;129;01mnot\u001b[39;00m \u001b[38;5;28mself\u001b[39m\u001b[38;5;241m.\u001b[39midle \u001b[38;5;129;01mand\u001b[39;00m \u001b[38;5;129;01mnot\u001b[39;00m \u001b[38;5;28mself\u001b[39m\u001b[38;5;241m.\u001b[39m_first_transfer:\n\u001b[0;32m--> 138\u001b[0m     \u001b[38;5;28;01mraise\u001b[39;00m \u001b[38;5;167;01mRuntimeError\u001b[39;00m(\u001b[38;5;124m\"\u001b[39m\u001b[38;5;124mDMA channel not idle\u001b[39m\u001b[38;5;124m\"\u001b[39m)\n\u001b[1;32m    139\u001b[0m \u001b[38;5;28;01mif\u001b[39;00m nbytes \u001b[38;5;241m==\u001b[39m \u001b[38;5;241m0\u001b[39m:\n\u001b[1;32m    140\u001b[0m     nbytes \u001b[38;5;241m=\u001b[39m array\u001b[38;5;241m.\u001b[39mnbytes \u001b[38;5;241m-\u001b[39m start\n",
      "\u001b[0;31mRuntimeError\u001b[0m: DMA channel not idle"
     ]
    }
   ],
   "source": [
    "# Send data to the DMA\n",
    "dma.sendchannel.transfer(input_buffer)\n",
    "dma.recvchannel.transfer(output_buffer)"
   ]
  },
  {
   "cell_type": "code",
   "execution_count": 25,
   "id": "5740da80",
   "metadata": {},
   "outputs": [
    {
     "name": "stdout",
     "output_type": "stream",
     "text": [
      "Test failed! Data received does not match data sent.\n"
     ]
    }
   ],
   "source": [
    "\n",
    "\n",
    "# Wait for the transfer to complete\n",
    "# dma.sendchannel.wait()\n",
    "# dma.recvchannel.wait()\n",
    "\n",
    "# Check if the output buffer has the same data as the input buffer\n",
    "if np.array_equal(input_buffer, output_buffer):\n",
    "    print(\"Test passed! Data received matches data sent.\")\n",
    "else:\n",
    "    print(\"Test failed! Data received does not match data sent.\")\n",
    "\n",
    "# Free the buffers\n",
    "input_buffer.freebuffer()\n",
    "output_buffer.freebuffer()"
   ]
  },
  {
   "cell_type": "code",
   "execution_count": null,
   "id": "3ced7f6a",
   "metadata": {},
   "outputs": [],
   "source": [
    "input_buffer"
   ]
  },
  {
   "cell_type": "code",
   "execution_count": null,
   "id": "057055cc",
   "metadata": {},
   "outputs": [],
   "source": []
  }
 ],
 "metadata": {
  "kernelspec": {
   "display_name": "Python 3 (ipykernel)",
   "language": "python",
   "name": "python3"
  },
  "language_info": {
   "codemirror_mode": {
    "name": "ipython",
    "version": 3
   },
   "file_extension": ".py",
   "mimetype": "text/x-python",
   "name": "python",
   "nbconvert_exporter": "python",
   "pygments_lexer": "ipython3",
   "version": "3.10.4"
  }
 },
 "nbformat": 4,
 "nbformat_minor": 5
}
