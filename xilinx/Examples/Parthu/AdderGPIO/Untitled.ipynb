{
 "cells": [
  {
   "cell_type": "code",
   "execution_count": 5,
   "id": "1704cadd",
   "metadata": {},
   "outputs": [
    {
     "name": "stdout",
     "output_type": "stream",
     "text": [
      "result : 14\n",
      "result : 0xe\n",
      "result : 0b1110\n"
     ]
    }
   ],
   "source": [
    "from pynq import Overlay , MMIO\n",
    "\n",
    "overlay = Overlay('adder.bit')\n",
    "\n",
    "gpio_0_baseaddr = 0x41200000\n",
    "gpio_1_baseaddr = 0x41210000\n",
    "\n",
    "gpio_0 = MMIO(gpio_0_baseaddr,0x10000)\n",
    "gpio_1 = MMIO(gpio_1_baseaddr,0x10000)\n",
    "\n",
    "gpio_0.write(0x00,0x00000005)\n",
    "gpio_0.write(0x08,0x00000009)\n",
    "\n",
    "result  = gpio_1.read(0x00)\n",
    "print(f\"result : {(result)}\")\n",
    "print(f\"result : {hex(result)}\")\n",
    "print(f\"result : {bin(result)}\")"
   ]
  },
  {
   "cell_type": "code",
   "execution_count": 3,
   "id": "d0859e59",
   "metadata": {},
   "outputs": [
    {
     "name": "stdout",
     "output_type": "stream",
     "text": [
      "result : 0x2\n"
     ]
    }
   ],
   "source": [
    "from pynq import Overlay , MMIO\n",
    "\n",
    "overlay = Overlay('custom_add.bit')\n",
    "\n",
    "gpio_0_baseaddr = 0x41200000\n",
    "gpio_1_baseaddr = 0x41210000\n",
    "\n",
    "gpio_0 = MMIO(gpio_0_baseaddr,0x10000)\n",
    "gpio_1 = MMIO(gpio_1_baseaddr,0x10000)\n",
    "\n",
    "gpio_0.write(0x00,0x00000005)\n",
    "gpio_0.write(0x08,0x00000003)\n",
    "\n",
    "result  = gpio_1.read(0x00)\n",
    "print(f\"result : {hex(result)}\")"
   ]
  },
  {
   "cell_type": "code",
   "execution_count": null,
   "id": "431fa77d",
   "metadata": {},
   "outputs": [],
   "source": []
  }
 ],
 "metadata": {
  "kernelspec": {
   "display_name": "Python 3 (ipykernel)",
   "language": "python",
   "name": "python3"
  },
  "language_info": {
   "codemirror_mode": {
    "name": "ipython",
    "version": 3
   },
   "file_extension": ".py",
   "mimetype": "text/x-python",
   "name": "python",
   "nbconvert_exporter": "python",
   "pygments_lexer": "ipython3",
   "version": "3.10.4"
  }
 },
 "nbformat": 4,
 "nbformat_minor": 5
}
