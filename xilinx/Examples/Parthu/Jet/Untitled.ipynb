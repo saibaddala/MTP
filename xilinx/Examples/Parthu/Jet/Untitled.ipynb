{
 "cells": [
  {
   "cell_type": "code",
   "execution_count": 1,
   "id": "06bfd007",
   "metadata": {},
   "outputs": [
    {
     "data": {
      "application/javascript": [
       "\n",
       "try {\n",
       "require(['notebook/js/codecell'], function(codecell) {\n",
       "  codecell.CodeCell.options_default.highlight_modes[\n",
       "      'magic_text/x-csrc'] = {'reg':[/^%%microblaze/]};\n",
       "  Jupyter.notebook.events.one('kernel_ready.Kernel', function(){\n",
       "      Jupyter.notebook.get_cells().map(function(cell){\n",
       "          if (cell.cell_type == 'code'){ cell.auto_highlight(); } }) ;\n",
       "  });\n",
       "});\n",
       "} catch (e) {};\n"
      ]
     },
     "metadata": {},
     "output_type": "display_data"
    },
    {
     "data": {
      "application/javascript": [
       "\n",
       "try {\n",
       "require(['notebook/js/codecell'], function(codecell) {\n",
       "  codecell.CodeCell.options_default.highlight_modes[\n",
       "      'magic_text/x-csrc'] = {'reg':[/^%%pybind11/]};\n",
       "  Jupyter.notebook.events.one('kernel_ready.Kernel', function(){\n",
       "      Jupyter.notebook.get_cells().map(function(cell){\n",
       "          if (cell.cell_type == 'code'){ cell.auto_highlight(); } }) ;\n",
       "  });\n",
       "});\n",
       "} catch (e) {};\n"
      ]
     },
     "metadata": {},
     "output_type": "display_data"
    }
   ],
   "source": [
    "import pynq\n",
    "from pynq import Overlay, MMIO\n",
    "from pynq.lib.dma import DMA\n",
    "import numpy as np\n",
    "from pynq import allocate\n",
    "\n",
    "overlay = Overlay(\"design_1.bit\")\n",
    "dma = overlay.axi_dma_0"
   ]
  },
  {
   "cell_type": "code",
   "execution_count": 2,
   "id": "6145f4c2",
   "metadata": {},
   "outputs": [],
   "source": [
    "import numpy as np\n",
    "\n",
    "X_test = np.load('X_test.npy')\n",
    "y_test = np.load('y_test.npy')"
   ]
  },
  {
   "cell_type": "code",
   "execution_count": 3,
   "id": "0204e7a7",
   "metadata": {
    "scrolled": true
   },
   "outputs": [
    {
     "name": "stdout",
     "output_type": "stream",
     "text": [
      "0\n",
      "[-0.11950312  0.40616292 -1.04058613 -0.82473132 -0.75533621 -0.58097338\n",
      "  1.98691601  1.53806275  1.98691601  0.6312378   0.38356148 -0.20130531\n",
      "  1.05976638  0.40865762 -1.01995561 -0.18016747]\n",
      "[0. 1. 0. 0. 0.]\n",
      "1\n",
      "[ 0.30887296  0.2271202  -1.15605569 -0.84608115 -1.03461424 -0.61983525\n",
      "  0.18320819  0.59584307  0.18320819  1.70236643  2.04099658  2.42276296\n",
      "  1.52444966  1.86744644 -1.23200286 -1.19496887]\n",
      "[0. 1. 0. 0. 0.]\n",
      "2\n",
      "[-1.26550208  0.66753284  1.40874527  1.40118472  1.57752933  1.29271974\n",
      "  0.12350547  0.02704562  0.12350547  0.32859339  0.52060233  0.73334179\n",
      "  0.55196236  0.58246973  1.3092331   1.75718066]\n",
      "[0. 0. 1. 0. 0.]\n",
      "3\n",
      "[-1.06506184  0.68234668  2.17392149  2.234143    2.05064568  2.35187808\n",
      " -0.13290398  0.22828887 -0.13290398  0.90665935  1.110763    1.61273002\n",
      "  0.91171934  1.39581995  1.81261011  0.97301594]\n",
      "[0. 0. 1. 0. 0.]\n",
      "4\n",
      "[-1.52057416  0.87718789  2.42401652  2.76920197  1.9946634   1.78061237\n",
      " -0.35790072 -0.30510732 -0.35790072  0.52400863  1.05520844  1.12367099\n",
      "  0.42332678  0.3682934   1.75836515  1.52654398]\n",
      "[0. 0. 1. 0. 0.]\n",
      "5\n",
      "[-0.25508028  0.35270014  0.41607294 -0.02701682  0.58197797  0.17236433\n",
      "  0.1515352   0.23412291  0.1515352   0.77797941  0.67836975  0.88637991\n",
      "  0.49698468  0.4657759  -0.10438053  0.55786991]\n",
      "[0. 0. 1. 0. 0.]\n",
      "6\n",
      "[ 0.4893063  -0.56456938 -0.41668632 -0.47371285  0.1580971  -0.19637429\n",
      "  1.57885653  0.53463144  1.57885653 -0.38779748 -0.65654794 -0.56734112\n",
      "  0.34330956  0.14265669 -0.27829507  0.88076127]\n",
      "[0. 1. 0. 0. 0.]\n",
      "7\n",
      "[-0.9911295   0.69903878 -0.33143924 -0.55935426  0.11672163 -0.12136573\n",
      "  1.0649585   1.58500475  1.0649585   1.14292854  0.75621021  0.57044306\n",
      "  1.12693383  1.1117676  -0.21778784  0.88076127]\n",
      "[1. 0. 0. 0. 0.]\n",
      "8\n",
      "[ 1.44735566 -2.20063997 -1.18856668 -0.84725982 -1.07707394 -0.62154762\n",
      " -0.049228    0.43008264 -0.049228    0.19591408  0.1048424   1.44039459\n",
      "  0.15150257  1.21222343 -1.26622676 -0.82595018]\n",
      "[0. 0. 0. 0. 1.]\n",
      "9\n",
      "[-0.5575237   0.74405882  0.20536922 -0.19360055 -0.2416333  -0.45526549\n",
      " -1.01935414 -1.02553189 -1.01935414 -0.62625814 -0.19793734 -0.51453988\n",
      " -0.76381424 -1.0109581   0.12988115 -0.73369551]\n",
      "[0. 0. 0. 1. 0.]\n",
      "10\n",
      "[ 0.22224851  0.21462038 -0.45389753 -0.50646684  0.10144435 -0.21429167\n",
      "  1.57877004  0.63436942  1.57877004 -0.37362766 -0.59482361 -0.55630735\n",
      "  0.26087936 -0.05472132 -0.29186873 -0.41080415]\n",
      "[0. 1. 0. 0. 0.]\n",
      "11\n",
      "[-0.85940421  0.57160536  0.01683517 -0.41655326  0.13900998 -0.13200829\n",
      "  0.0808063   0.5319274   0.0808063   1.27462841  1.46459112  1.87766945\n",
      "  1.21623386  1.65887442 -0.23581218  0.88076127]\n",
      "[0. 0. 0. 1. 0.]\n",
      "12\n",
      "[ 0.93340444 -0.1676648  -0.16298946 -0.20580535 -0.18477499 -0.43597357\n",
      " -0.2850735  -0.96373767 -0.2850735  -1.34550659 -1.31298941 -1.13427906\n",
      " -1.09872701 -1.14732239  0.08595329 -1.14884154]\n",
      "[0. 0. 0. 1. 0.]\n",
      "13\n",
      "[-0.80591831  0.65380437  0.24371764 -0.01000758  0.06792928 -0.23988542\n",
      " -0.48195428 -0.67110207 -0.48195428 -0.68999782 -0.57691843 -0.89433763\n",
      " -0.64003443 -0.86801615  0.26967838  0.37336057]\n",
      "[0. 0. 1. 0. 0.]\n",
      "14\n",
      "[-1.60541535  0.87720674  1.79584565  1.77130635  2.52184208  2.61265253\n",
      "  0.63861393  0.70727038  0.63861393  1.45913289  1.3837377   0.85122725\n",
      "  1.37371639  1.08861014  1.40208893  1.38816197]\n",
      "[0. 0. 1. 0. 0.]\n",
      "15\n",
      "[-1.77979539  0.93004415  1.06283753  0.65993547  0.70835748  0.20277618\n",
      " -0.5109412  -0.51186252 -0.5109412   0.18028044  0.36799661 -0.05260698\n",
      "  0.12467938 -0.2045717   1.49773811  2.21845402]\n",
      "[1. 0. 0. 0. 0.]\n",
      "16\n",
      "[-3.10880268e-01  5.79528307e-01  2.82485204e-01 -1.99752534e-01\n",
      "  3.62188269e-01  3.69334428e-02  4.82312315e-04  3.20950561e-01\n",
      "  4.82312315e-04  9.72954345e-01  1.07329560e+00  1.68259926e+00\n",
      "  1.08438566e+00  1.69799649e+00  6.05117262e-02 -3.64676817e-01]\n",
      "[0. 0. 0. 1. 0.]\n",
      "17\n",
      "[-0.14737659  0.42679953  0.27227426 -0.16538977 -0.06403862 -0.37160996\n",
      " -0.76853125 -0.82776676 -0.76853125 -0.2118356   0.37898817  0.20285004\n",
      " -0.33642214 -0.6249429   0.29612125 -0.27242214]\n",
      "[0. 0. 0. 0. 1.]\n",
      "18\n",
      "[-0.32654599  0.30520234  0.3288053  -0.11018248  0.28020437 -0.02769066\n",
      " -0.22642255 -0.05237066 -0.22642255  0.36721474  0.49977906  0.78902742\n",
      "  0.49064653  0.82999026  0.20546791  0.23497856]\n",
      "[0. 0. 0. 0. 1.]\n",
      "19\n",
      "[ 0.15365238 -0.16625085 -1.17450538 -0.84682223 -1.02538157 -0.61836508\n",
      "  0.85943279  1.63892073  0.85943279  1.85466846  1.72611991  1.85229824\n",
      "  1.61058608  1.97984367 -1.2549269  -0.41080415]\n",
      "[1. 0. 0. 0. 0.]\n"
     ]
    }
   ],
   "source": [
    "for i in range(20):\n",
    "    print(i)\n",
    "    print(X_test[i])\n",
    "    print(y_test[i])"
   ]
  },
  {
   "cell_type": "code",
   "execution_count": 8,
   "id": "7a14c57a",
   "metadata": {},
   "outputs": [
    {
     "ename": "KeyboardInterrupt",
     "evalue": "",
     "output_type": "error",
     "traceback": [
      "\u001b[0;31m---------------------------------------------------------------------------\u001b[0m",
      "\u001b[0;31mKeyboardInterrupt\u001b[0m                         Traceback (most recent call last)",
      "Input \u001b[0;32mIn [8]\u001b[0m, in \u001b[0;36m<cell line: 8>\u001b[0;34m()\u001b[0m\n\u001b[1;32m     21\u001b[0m \u001b[38;5;66;03m# Send data to FPGA\u001b[39;00m\n\u001b[1;32m     22\u001b[0m dma\u001b[38;5;241m.\u001b[39msendchannel\u001b[38;5;241m.\u001b[39mtransfer(in_buffer)\n\u001b[0;32m---> 23\u001b[0m \u001b[43mdma\u001b[49m\u001b[38;5;241;43m.\u001b[39;49m\u001b[43msendchannel\u001b[49m\u001b[38;5;241;43m.\u001b[39;49m\u001b[43mwait\u001b[49m\u001b[43m(\u001b[49m\u001b[43m)\u001b[49m  \u001b[38;5;66;03m# Wait for transfer completion\u001b[39;00m\n\u001b[1;32m     25\u001b[0m \u001b[38;5;66;03m# After processing, read output from GPIO\u001b[39;00m\n\u001b[1;32m     26\u001b[0m \u001b[38;5;66;03m# Assuming each output is a 16-bit value mapped to separate GPIO registers\u001b[39;00m\n\u001b[1;32m     27\u001b[0m results \u001b[38;5;241m=\u001b[39m []\n",
      "File \u001b[0;32m/usr/local/share/pynq-venv/lib/python3.10/site-packages/pynq/lib/dma.py:498\u001b[0m, in \u001b[0;36m_SGDMAChannel.wait\u001b[0;34m(self)\u001b[0m\n\u001b[1;32m    494\u001b[0m         \u001b[38;5;28;01mif\u001b[39;00m error \u001b[38;5;241m&\u001b[39m \u001b[38;5;241m0x400\u001b[39m:\n\u001b[1;32m    495\u001b[0m             \u001b[38;5;28;01mraise\u001b[39;00m \u001b[38;5;167;01mRuntimeError\u001b[39;00m(\n\u001b[1;32m    496\u001b[0m                 \u001b[38;5;124m\"\u001b[39m\u001b[38;5;124mScatter-Gather Decode Error \u001b[39m\u001b[38;5;124m\"\u001b[39m \u001b[38;5;124m\"\u001b[39m\u001b[38;5;124m(invalid descriptor address)\u001b[39m\u001b[38;5;124m\"\u001b[39m\n\u001b[1;32m    497\u001b[0m             )\n\u001b[0;32m--> 498\u001b[0m     \u001b[38;5;28;01mif\u001b[39;00m \u001b[38;5;28;43mself\u001b[39;49m\u001b[38;5;241;43m.\u001b[39;49m\u001b[43midle\u001b[49m \u001b[38;5;129;01mor\u001b[39;00m \u001b[38;5;28mself\u001b[39m\u001b[38;5;241m.\u001b[39mhalted:\n\u001b[1;32m    499\u001b[0m         \u001b[38;5;28;01mbreak\u001b[39;00m\n\u001b[1;32m    500\u001b[0m \u001b[38;5;28;01mif\u001b[39;00m \u001b[38;5;129;01mnot\u001b[39;00m \u001b[38;5;28mself\u001b[39m\u001b[38;5;241m.\u001b[39m_flush_before:\n",
      "File \u001b[0;32m/usr/local/share/pynq-venv/lib/python3.10/site-packages/pynq/lib/dma.py:276\u001b[0m, in \u001b[0;36m_SGDMAChannel.idle\u001b[0;34m(self)\u001b[0m\n\u001b[1;32m    269\u001b[0m \u001b[38;5;129m@property\u001b[39m\n\u001b[1;32m    270\u001b[0m \u001b[38;5;28;01mdef\u001b[39;00m \u001b[38;5;21midle\u001b[39m(\u001b[38;5;28mself\u001b[39m):\n\u001b[1;32m    271\u001b[0m     \u001b[38;5;124;03m\"\"\"True if the DMA engine is idle\u001b[39;00m\n\u001b[1;32m    272\u001b[0m \n\u001b[1;32m    273\u001b[0m \u001b[38;5;124;03m    `transfer` can only be called when the DMA is idle\u001b[39;00m\n\u001b[1;32m    274\u001b[0m \n\u001b[1;32m    275\u001b[0m \u001b[38;5;124;03m    \"\"\"\u001b[39;00m\n\u001b[0;32m--> 276\u001b[0m     \u001b[38;5;28;01mreturn\u001b[39;00m \u001b[38;5;28;43mself\u001b[39;49m\u001b[38;5;241;43m.\u001b[39;49m\u001b[43m_mmio\u001b[49m\u001b[38;5;241;43m.\u001b[39;49m\u001b[43mread\u001b[49m\u001b[43m(\u001b[49m\u001b[38;5;28;43mself\u001b[39;49m\u001b[38;5;241;43m.\u001b[39;49m\u001b[43m_offset\u001b[49m\u001b[43m \u001b[49m\u001b[38;5;241;43m+\u001b[39;49m\u001b[43m \u001b[49m\u001b[38;5;241;43m4\u001b[39;49m\u001b[43m)\u001b[49m \u001b[38;5;241m&\u001b[39m \u001b[38;5;241m0x02\u001b[39m \u001b[38;5;241m==\u001b[39m \u001b[38;5;241m0x02\u001b[39m\n",
      "File \u001b[0;32m/usr/local/share/pynq-venv/lib/python3.10/site-packages/pynq/mmio.py:117\u001b[0m, in \u001b[0;36mMMIO.read\u001b[0;34m(self, offset, length, word_order)\u001b[0m\n\u001b[1;32m    115\u001b[0m     \u001b[38;5;28;01mraise\u001b[39;00m \u001b[38;5;167;01mValueError\u001b[39;00m(\u001b[38;5;124m\"\u001b[39m\u001b[38;5;124mMMIO only supports big and little endian.\u001b[39m\u001b[38;5;124m\"\u001b[39m)\n\u001b[1;32m    116\u001b[0m idx \u001b[38;5;241m=\u001b[39m offset \u001b[38;5;241m>>\u001b[39m \u001b[38;5;241m2\u001b[39m\n\u001b[0;32m--> 117\u001b[0m \u001b[38;5;28;01mif\u001b[39;00m offset \u001b[38;5;241m%\u001b[39m \u001b[38;5;241m4\u001b[39m:\n\u001b[1;32m    118\u001b[0m     \u001b[38;5;28;01mraise\u001b[39;00m \u001b[38;5;167;01mMemoryError\u001b[39;00m(\u001b[38;5;124m\"\u001b[39m\u001b[38;5;124mUnaligned read: offset must be multiple of 4.\u001b[39m\u001b[38;5;124m\"\u001b[39m)\n\u001b[1;32m    120\u001b[0m \u001b[38;5;66;03m# Read data out\u001b[39;00m\n",
      "\u001b[0;31mKeyboardInterrupt\u001b[0m: "
     ]
    }
   ],
   "source": [
    "import numpy as np\n",
    "from pynq import allocate, MMIO\n",
    "\n",
    "# Assuming dma is set up and gpio_0_baseaddr points to the base address of the output GPIO\n",
    "gpio_0_baseaddr = 0x41200000  # Example base address, replace with actual base address\n",
    "gpio_0 = MMIO(gpio_0_baseaddr, 0x10000)\n",
    "\n",
    "for i in range(1):\n",
    "    t = X_test[i]\n",
    "    n = len(t)\n",
    "    \n",
    "    # Convert to appropriate data type for FPGA\n",
    "    array_t = np.array(t)\n",
    "    sample = array_t.astype(np.float32)\n",
    "\n",
    "    # Allocate buffers for DMA\n",
    "    with allocate(shape=(n,), dtype=np.float32) as in_buffer:\n",
    "        # Copy data into DMA buffer\n",
    "        np.copyto(in_buffer, sample)\n",
    "        \n",
    "        # Send data to FPGA\n",
    "        dma.sendchannel.transfer(in_buffer)\n",
    "        dma.sendchannel.wait()  # Wait for transfer completion\n",
    "\n",
    "        # After processing, read output from GPIO\n",
    "        # Assuming each output is a 16-bit value mapped to separate GPIO registers\n",
    "        results = []\n",
    "#         for j in range(5):  # 5 outputs of 16 bits each\n",
    "#             result = gpio_0.read(j * 4)  # Adjust offset if necessary\n",
    "#             results.append(result)\n",
    "        \n",
    "        print(f\"Results for sample {i}: {[hex(r) for r in results]}\")\n"
   ]
  },
  {
   "cell_type": "code",
   "execution_count": 27,
   "id": "04fd8c3d",
   "metadata": {
    "scrolled": true
   },
   "outputs": [
    {
     "name": "stdout",
     "output_type": "stream",
     "text": [
      "result : 0x0\n",
      "result : 0x0\n",
      "result : 0x0\n"
     ]
    },
    {
     "ename": "KeyboardInterrupt",
     "evalue": "",
     "output_type": "error",
     "traceback": [
      "\u001b[0;31m---------------------------------------------------------------------------\u001b[0m",
      "\u001b[0;31mKeyboardInterrupt\u001b[0m                         Traceback (most recent call last)",
      "Input \u001b[0;32mIn [27]\u001b[0m, in \u001b[0;36m<cell line: 1>\u001b[0;34m()\u001b[0m\n\u001b[1;32m     17\u001b[0m         np\u001b[38;5;241m.\u001b[39mcopyto(in_buffer,sample)\n\u001b[1;32m     18\u001b[0m         dma\u001b[38;5;241m.\u001b[39msendchannel\u001b[38;5;241m.\u001b[39mtransfer(in_buffer)\n\u001b[0;32m---> 20\u001b[0m         \u001b[43mdma\u001b[49m\u001b[38;5;241;43m.\u001b[39;49m\u001b[43msendchannel\u001b[49m\u001b[38;5;241;43m.\u001b[39;49m\u001b[43mwait\u001b[49m\u001b[43m(\u001b[49m\u001b[43m)\u001b[49m\n\u001b[1;32m     21\u001b[0m \u001b[38;5;66;03m#         print(in_buffer)\u001b[39;00m\n\u001b[1;32m     22\u001b[0m         gpio_0_baseaddr \u001b[38;5;241m=\u001b[39m \u001b[38;5;241m0x4120_0000\u001b[39m\n",
      "File \u001b[0;32m/usr/local/share/pynq-venv/lib/python3.10/site-packages/pynq/lib/dma.py:474\u001b[0m, in \u001b[0;36m_SGDMAChannel.wait\u001b[0;34m(self)\u001b[0m\n\u001b[1;32m    472\u001b[0m     \u001b[38;5;28;01mraise\u001b[39;00m \u001b[38;5;167;01mRuntimeError\u001b[39;00m(\u001b[38;5;124m\"\u001b[39m\u001b[38;5;124mDMA transfer not started\u001b[39m\u001b[38;5;124m\"\u001b[39m)\n\u001b[1;32m    473\u001b[0m \u001b[38;5;28;01mwhile\u001b[39;00m \u001b[38;5;28;01mTrue\u001b[39;00m:\n\u001b[0;32m--> 474\u001b[0m     \u001b[38;5;28;01mif\u001b[39;00m \u001b[38;5;28;43mself\u001b[39;49m\u001b[38;5;241;43m.\u001b[39;49m\u001b[43merror\u001b[49m:\n\u001b[1;32m    475\u001b[0m         error \u001b[38;5;241m=\u001b[39m \u001b[38;5;28mself\u001b[39m\u001b[38;5;241m.\u001b[39m_mmio\u001b[38;5;241m.\u001b[39mread(\u001b[38;5;28mself\u001b[39m\u001b[38;5;241m.\u001b[39m_offset \u001b[38;5;241m+\u001b[39m \u001b[38;5;241m4\u001b[39m)\n\u001b[1;32m    476\u001b[0m         \u001b[38;5;28;01mif\u001b[39;00m error \u001b[38;5;241m&\u001b[39m \u001b[38;5;241m0x10\u001b[39m:\n",
      "File \u001b[0;32m/usr/local/share/pynq-venv/lib/python3.10/site-packages/pynq/lib/dma.py:281\u001b[0m, in \u001b[0;36m_SGDMAChannel.error\u001b[0;34m(self)\u001b[0m\n\u001b[1;32m    278\u001b[0m \u001b[38;5;129m@property\u001b[39m\n\u001b[1;32m    279\u001b[0m \u001b[38;5;28;01mdef\u001b[39;00m \u001b[38;5;21merror\u001b[39m(\u001b[38;5;28mself\u001b[39m):\n\u001b[1;32m    280\u001b[0m     \u001b[38;5;124;03m\"\"\"True if DMA engine is in an error state\"\"\"\u001b[39;00m\n\u001b[0;32m--> 281\u001b[0m     \u001b[38;5;28;01mreturn\u001b[39;00m \u001b[38;5;28;43mself\u001b[39;49m\u001b[38;5;241;43m.\u001b[39;49m\u001b[43m_mmio\u001b[49m\u001b[38;5;241;43m.\u001b[39;49m\u001b[43mread\u001b[49m\u001b[43m(\u001b[49m\u001b[38;5;28;43mself\u001b[39;49m\u001b[38;5;241;43m.\u001b[39;49m\u001b[43m_offset\u001b[49m\u001b[43m \u001b[49m\u001b[38;5;241;43m+\u001b[39;49m\u001b[43m \u001b[49m\u001b[38;5;241;43m4\u001b[39;49m\u001b[43m)\u001b[49m \u001b[38;5;241m&\u001b[39m \u001b[38;5;241m0x770\u001b[39m \u001b[38;5;241m!=\u001b[39m \u001b[38;5;241m0x0\u001b[39m\n",
      "File \u001b[0;32m/usr/local/share/pynq-venv/lib/python3.10/site-packages/pynq/mmio.py:128\u001b[0m, in \u001b[0;36mMMIO.read\u001b[0;34m(self, offset, length, word_order)\u001b[0m\n\u001b[1;32m    126\u001b[0m         \u001b[38;5;28;01mreturn\u001b[39;00m (lsb \u001b[38;5;241m<<\u001b[39m \u001b[38;5;241m32\u001b[39m) \u001b[38;5;241m+\u001b[39m \u001b[38;5;28mint\u001b[39m(\u001b[38;5;28mself\u001b[39m\u001b[38;5;241m.\u001b[39marray[idx \u001b[38;5;241m+\u001b[39m \u001b[38;5;241m1\u001b[39m])\n\u001b[1;32m    127\u001b[0m \u001b[38;5;28;01melse\u001b[39;00m:\n\u001b[0;32m--> 128\u001b[0m     \u001b[38;5;28;01mreturn\u001b[39;00m lsb \u001b[38;5;241m&\u001b[39m ((\u001b[38;5;241;43m2\u001b[39;49m\u001b[43m \u001b[49m\u001b[38;5;241;43m*\u001b[39;49m\u001b[38;5;241;43m*\u001b[39;49m\u001b[43m \u001b[49m\u001b[43m(\u001b[49m\u001b[38;5;241;43m8\u001b[39;49m\u001b[43m \u001b[49m\u001b[38;5;241;43m*\u001b[39;49m\u001b[43m \u001b[49m\u001b[43mlength\u001b[49m\u001b[43m)\u001b[49m) \u001b[38;5;241m-\u001b[39m \u001b[38;5;241m1\u001b[39m)\n",
      "\u001b[0;31mKeyboardInterrupt\u001b[0m: "
     ]
    }
   ],
   "source": [
    "for i in range(10):\n",
    "    t = X_test[i]\n",
    "    n = len(t)\n",
    "#     print(n)\n",
    "    # array_t = np.array(t)\n",
    "\n",
    "    # sample = array_t.astype(np.int32)\n",
    "\n",
    "    array_t = np.array(t)\n",
    "\n",
    "    sample = array_t.astype(np.float32)\n",
    "#     print(sample)\n",
    "\n",
    "    with allocate(shape=(n,), dtype=np.float32) as in_buffer, \\\n",
    "         allocate(shape=(n,), dtype=np.float32) as out_buffer:\n",
    "\n",
    "        np.copyto(in_buffer,sample)\n",
    "        dma.sendchannel.transfer(in_buffer)\n",
    "\n",
    "        dma.sendchannel.wait()\n",
    "#         print(in_buffer)\n",
    "        gpio_0_baseaddr = 0x4120_0000\n",
    "        gpio_0 = MMIO(gpio_0_baseaddr,0x10000)\n",
    "        result  = gpio_0.read(0x00)\n",
    "        print(f\"result : {hex(result)}\")"
   ]
  },
  {
   "cell_type": "code",
   "execution_count": 13,
   "id": "6b8c0577",
   "metadata": {},
   "outputs": [
    {
     "name": "stdout",
     "output_type": "stream",
     "text": [
      "result : 0x333\n"
     ]
    }
   ],
   "source": []
  },
  {
   "cell_type": "code",
   "execution_count": null,
   "id": "cded09dc",
   "metadata": {},
   "outputs": [],
   "source": []
  },
  {
   "cell_type": "code",
   "execution_count": null,
   "id": "471ce57c",
   "metadata": {},
   "outputs": [],
   "source": []
  }
 ],
 "metadata": {
  "kernelspec": {
   "display_name": "Python 3 (ipykernel)",
   "language": "python",
   "name": "python3"
  },
  "language_info": {
   "codemirror_mode": {
    "name": "ipython",
    "version": 3
   },
   "file_extension": ".py",
   "mimetype": "text/x-python",
   "name": "python",
   "nbconvert_exporter": "python",
   "pygments_lexer": "ipython3",
   "version": "3.10.4"
  }
 },
 "nbformat": 4,
 "nbformat_minor": 5
}
