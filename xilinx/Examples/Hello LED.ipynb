{
 "cells": [
  {
   "cell_type": "code",
   "execution_count": null,
   "id": "26f54a29",
   "metadata": {},
   "outputs": [
    {
     "data": {
      "application/javascript": [
       "\n",
       "try {\n",
       "require(['notebook/js/codecell'], function(codecell) {\n",
       "  codecell.CodeCell.options_default.highlight_modes[\n",
       "      'magic_text/x-csrc'] = {'reg':[/^%%microblaze/]};\n",
       "  Jupyter.notebook.events.one('kernel_ready.Kernel', function(){\n",
       "      Jupyter.notebook.get_cells().map(function(cell){\n",
       "          if (cell.cell_type == 'code'){ cell.auto_highlight(); } }) ;\n",
       "  });\n",
       "});\n",
       "} catch (e) {};\n"
      ]
     },
     "metadata": {},
     "output_type": "display_data"
    },
    {
     "data": {
      "application/javascript": [
       "\n",
       "try {\n",
       "require(['notebook/js/codecell'], function(codecell) {\n",
       "  codecell.CodeCell.options_default.highlight_modes[\n",
       "      'magic_text/x-csrc'] = {'reg':[/^%%pybind11/]};\n",
       "  Jupyter.notebook.events.one('kernel_ready.Kernel', function(){\n",
       "      Jupyter.notebook.get_cells().map(function(cell){\n",
       "          if (cell.cell_type == 'code'){ cell.auto_highlight(); } }) ;\n",
       "  });\n",
       "});\n",
       "} catch (e) {};\n"
      ]
     },
     "metadata": {},
     "output_type": "display_data"
    }
   ],
   "source": [
    "from time import sleep\n",
    "from pynq.overlays.base import BaseOverlay\n",
    "base = BaseOverlay(\"base.bit\")\n",
    "\n",
    "led0 = base.leds[0] #Corresponds to LED LD0\n",
    "led1 = base.leds[1] #Corresponds to LED LD1\n",
    "led2 = base.leds[2] #Corresponds to LED LD2\n",
    "led3 = base.leds[3] #Corresponds to LED LD3\n",
    "\n",
    "sw0 = base.switches[0] #Corresponds to SW0\n",
    "sw1 = base.switches[1] #Corresponds to SW1\n",
    "\n",
    "while(True):  # All the code below while(True) runs forever\n",
    "    if (sw0.read() == True):   # Reads SW0 and check if it toggled\n",
    "        led0.on()              # IF SW0 is ON --> Turn on LED0\n",
    "        led1.on()              # IF SW0 is ON --> Turn on LED1\n",
    "    else:\n",
    "        led0.off()             # ELSE Turn off LED0\n",
    "        led1.off()             # ELSE Turn off LED1\n",
    "    \n",
    "    if (sw1.read() == True):   # Reads SW1 and check if it toggled\n",
    "        led2.on()              # IF SW1 is ON --> Turn on LED2\n",
    "        led3.on()              # IF SW1 is ON --> Turn on LED3\n",
    "    else:\n",
    "        led2.off()             # ELSE Turn off LED2\n",
    "        led3.off()             # ELSE Turn off LED3"
   ]
  },
  {
   "cell_type": "code",
   "execution_count": null,
   "id": "b900dd11",
   "metadata": {},
   "outputs": [],
   "source": []
  }
 ],
 "metadata": {
  "kernelspec": {
   "display_name": "Python 3 (ipykernel)",
   "language": "python",
   "name": "python3"
  },
  "language_info": {
   "codemirror_mode": {
    "name": "ipython",
    "version": 3
   },
   "file_extension": ".py",
   "mimetype": "text/x-python",
   "name": "python",
   "nbconvert_exporter": "python",
   "pygments_lexer": "ipython3",
   "version": "3.10.4"
  }
 },
 "nbformat": 4,
 "nbformat_minor": 5
}
